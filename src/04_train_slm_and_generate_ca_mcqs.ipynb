{
 "cells": [
  {
   "cell_type": "markdown",
   "id": "311ff7f4",
   "metadata": {},
   "source": [
    "# SLM Traininig on unlabelled news content\n",
    "- For SLM training/finetuning this `https://github.com/rasbt/LLMs-from-scratch` codebase has been used as baseliine\n",
    "\n",
    "- Customized script/files for training gpt2 based SLM:    \n",
    "    - [SLM_from_scratch/ch05/01_main-chapter-code/ch05.ipynb](SLM_from_scratch/ch05/01_main-chapter-code/ch05.ipynb)\n",
    "    - [SLM_from_scratch/ch05/01_main-chapter-code/the-verdict.txt](SLM_from_scratch/ch05/01_main-chapter-code/the-verdict.txt)\n"
   ]
  }
 ],
 "metadata": {
  "language_info": {
   "name": "python"
  }
 },
 "nbformat": 4,
 "nbformat_minor": 5
}
