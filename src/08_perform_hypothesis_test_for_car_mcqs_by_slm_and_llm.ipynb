{
 "cells": [
  {
   "cell_type": "markdown",
   "id": "f3a0ab9e",
   "metadata": {},
   "source": [
    "## RS1: Hypothesis test\n",
    "H0: "
   ]
  },
  {
   "cell_type": "code",
   "execution_count": null,
   "id": "1b20d1ca",
   "metadata": {},
   "outputs": [
    {
     "name": "stdout",
     "output_type": "stream",
     "text": [
      "t-statistic: -6.539400390204156\n",
      "p-value: 7.354164560212714e-09\n",
      "Result: The difference is statistically significant.\n"
     ]
    }
   ],
   "source": [
    "import numpy as np\n",
    "import pandas as pd\n",
    "from scipy import stats\n",
    "\n",
    "# Baseline SLM overall_avg_score data\n",
    "baseline_slm_scores = [\n",
    "    0.0000,0.0000,0.0000,0.0000,0.0000,0.0000,0.0000,0.0000,0.0000,0.0000,0.0000,0.0000,0.0000,0.0000,0.0000,0.0000,0.0000,0.0000,0.0000,0.0000,0.0000,0.0000,0.0000,0.0000,0.0000,0.0000,0.0000,0.0000,0.0000,0.0000,0.0000,0.0000,0.0000,0.0000,0.0000,0.0000,0.0000,0.0000,0.0000,0.0000,0.0000,0.0000,0.0000,0.0000,0.0000,0.0000,0.0000,0.0000,0.0000,0.0000,0.0000,0.0000,0.0000,0.0000,0.0000,0.0000,0.0000,0.0000,0.0000,0.0000,0.0000,0.0000,0.0000,0.0000,0.0000,0.0000,0.0000,0.0000,0.0000,0.0000,0.0000,0.0000,0.0000,0.0000\n",
    "]\n",
    "\n",
    "# Finetuned SLM overall_avg_score data\n",
    "finetuned_slm_scores = [\n",
    "    2.228609125, 0, 2.1135035, 1.4842025, 0.110566625, 0.094742375, 0, 2.98012075, 1.5998385, 0,\n",
    "    0.101070125, 0.10704475, 0, 0, 0, 0, 0.1144375, 0.1080405, 0.091697125, 0.091962125,\n",
    "    1.9778695, 1.977077625, 0.09277875, 3.224656125, 0.09265575, 0.092058875, 2.229481125, 1.97558775,\n",
    "    0.093296625, 0.0926575, 0.099228125, 2.7305105, 0.092078, 2.85620775, 0.097541625, 0.1041185,\n",
    "    0.0924865, 0.09280525, 2.11256575, 2.9846875, 2.86884475, 2.1026385, 0.091274, 0.092429875,\n",
    "    0.0920615, 2.986599375, 0.092120625, 0.09961825, 0.10959125, 2.237122875, 2.22936025,\n",
    "    0.0923955, 0.091974875, 0.092440125, 0.091944875, 2.245889375, 1.72932075, 0.09053825,\n",
    "    2.359283875, 0.09042075, 0.091660625, 2.982820625, 0.092978875, 0.09289525, 0.098425,\n",
    "    0.101810875, 0.09128775, 0.092291, 2.22533425, 0.090699125, 2.854074875, 0.092440375,\n",
    "    0.093332625, 0.100530375\n",
    "]\n",
    "\n",
    "# Convert to pandas Series\n",
    "baseline_slm_series = pd.Series(baseline_slm_scores)\n",
    "finetuned_slm_series = pd.Series(finetuned_slm_scores)\n",
    "\n",
    "# Perform Welch's t-test\n",
    "t_stat, p_value = stats.ttest_ind(baseline_slm_series, finetuned_slm_series, equal_var=False)\n",
    "\n",
    "# Output the results\n",
    "print(f\"t-statistic: {t_stat}\")\n",
    "print(f\"p-value: {p_value}\")\n",
    "\n",
    "# Interpretation\n",
    "if p_value < 0.05:\n",
    "    print(\"Result: The difference is statistically significant.\")\n",
    "else:\n",
    "    print(\"Result: The difference is not statistically significant.\")\n"
   ]
  },
  {
   "cell_type": "markdown",
   "id": "3f1c581a",
   "metadata": {},
   "source": []
  },
  {
   "cell_type": "markdown",
   "id": "4f5596e6",
   "metadata": {},
   "source": [
    "## RS2 Hypothesis Test"
   ]
  },
  {
   "cell_type": "code",
   "execution_count": 6,
   "id": "606cb977",
   "metadata": {},
   "outputs": [
    {
     "name": "stdout",
     "output_type": "stream",
     "text": [
      "t-statistic: -11.108328368133103\n",
      "p-value: 4.645716456754879e-21\n",
      "Result: The difference is statistically significant.\n"
     ]
    }
   ],
   "source": [
    "import numpy as np\n",
    "import pandas as pd\n",
    "from scipy import stats\n",
    "\n",
    "# SLM overall_avg_score data\n",
    "slm_scores = [\n",
    "    2.228609125, 0, 2.1135035, 1.4842025, 0.110566625, 0.094742375, 0, 2.98012075, 1.5998385, 0,\n",
    "    0.101070125, 0.10704475, 0, 0, 0, 0, 0.1144375, 0.1080405, 0.091697125, 0.091962125,\n",
    "    1.9778695, 1.977077625, 0.09277875, 3.224656125, 0.09265575, 0.092058875, 2.229481125, 1.97558775,\n",
    "    0.093296625, 0.0926575, 0.099228125, 2.7305105, 0.092078, 2.85620775, 0.097541625, 0.1041185,\n",
    "    0.0924865, 0.09280525, 2.11256575, 2.9846875, 2.86884475, 2.1026385, 0.091274, 0.092429875,\n",
    "    0.0920615, 2.986599375, 0.092120625, 0.09961825, 0.10959125, 2.237122875, 2.22936025,\n",
    "    0.0923955, 0.091974875, 0.092440125, 0.091944875, 2.245889375, 1.72932075, 0.09053825,\n",
    "    2.359283875, 0.09042075, 0.091660625, 2.982820625, 0.092978875, 0.09289525, 0.098425,\n",
    "    0.101810875, 0.09128775, 0.092291, 2.22533425, 0.090699125, 2.854074875, 0.092440375,\n",
    "    0.093332625, 0.100530375\n",
    "]\n",
    "\n",
    "# LLM overall_avg_score data\n",
    "llm_scores = [\n",
    "    2.871886375, 2.998341375, 2.733142375, 2.87959725, 2.622875625, 2.86441, 0.101894625,\n",
    "    2.748416125, 2.99548075, 2.746961875, 2.991647625, 2.991385625, 0.09823475, 0.097290875,\n",
    "    3.22378925, 0.099839875, 3.259671625, 3.242167, 3.2665085, 3.233364625, 3.2298065, 3.243998125,\n",
    "    3.237112875, 3.243410375, 3.24305525, 3.22871575, 3.242876625, 3.244232625, 3.23405925,\n",
    "    3.24098425, 0.734473125, 3.23236075, 3.245648625, 3.240635375, 0.731495375, 0.73897025,\n",
    "    3.248694, 3.237192875, 3.2540795, 3.240752125, 3.261178, 0.7406475, 3.22877425, 3.242423875,\n",
    "    3.230267375, 3.24984825, 3.238609, 3.239719125, 0.746325125, 3.24069225, 0.7420955,\n",
    "    3.24154225, 3.233350625, 3.2527925, 3.232223125, 3.261233625, 3.236801125, 3.244921625,\n",
    "    3.238172875, 3.225864375, 3.24364975, 3.23698525, 3.240778875, 3.247935375, 3.250976625,\n",
    "    3.243654625, 0.73142075, 3.237813125, 3.24467525, 3.242711125, 3.244294, 3.237250375,\n",
    "    3.24188175, 3.2322935\n",
    "]\n",
    "\n",
    "# Convert to pandas Series\n",
    "slm_series = pd.Series(slm_scores)\n",
    "llm_series = pd.Series(llm_scores)\n",
    "\n",
    "# Perform Welch's t-test\n",
    "t_stat, p_value = stats.ttest_ind(slm_series, llm_series, equal_var=False)\n",
    "\n",
    "# Output the results\n",
    "print(f\"t-statistic: {t_stat}\")\n",
    "print(f\"p-value: {p_value}\")\n",
    "\n",
    "# Interpretation\n",
    "if p_value < 0.05:\n",
    "    print(\"Result: The difference is statistically significant.\")\n",
    "else:\n",
    "    print(\"Result: The difference is not statistically significant.\")\n"
   ]
  },
  {
   "cell_type": "markdown",
   "id": "7dccfcc7",
   "metadata": {},
   "source": [
    "**Interpretation:**\n",
    "\n",
    "The negative t-statistic means that the average overall score for the SLM group is much lower than that for the LLM group.\n",
    "\n",
    "The extremely small p-value (far below 0.05) means the difference is statistically highly significant, not due to random chance.\n",
    "\n",
    "**Conclusion for your capstone:**\n",
    "\n",
    "The LLM-generated MCQs outperform SLM-generated MCQs in terms of the overall average score.\n",
    "\n",
    "The difference is very large and statistically robust."
   ]
  },
  {
   "cell_type": "markdown",
   "id": "adeaebda",
   "metadata": {},
   "source": [
    "## RS3: Hypothesis test"
   ]
  },
  {
   "cell_type": "code",
   "execution_count": null,
   "id": "b33a5129",
   "metadata": {},
   "outputs": [
    {
     "name": "stdout",
     "output_type": "stream",
     "text": [
      "t-statistic: -12.905943602917617\n",
      "p-value: 7.461259196657257e-26\n",
      "Result: The difference is statistically significant.\n"
     ]
    }
   ],
   "source": [
    "import numpy as np\n",
    "import pandas as pd\n",
    "from scipy import stats\n",
    "\n",
    "# SLM MCQ correctness score\n",
    "slm_mcq_correctness_scores = [\n",
    "    0,0,0,0,0,0,0,5,0,0,0,0,0,0,0,0,0,0,0,0,0,0,0,5,0,0,0,0,0,0,0,5,0,5,0,0,0,0,0,5,5,0,0,0,0,5,0,0,0,0,0,0,0,0,0,0,0,0,0,0,0,5,0,0,0,0,0,0,0,0,5,0,0,0,\n",
    "]\n",
    "\n",
    "# LLM MCQ correctness score\n",
    "llm_mcq_correctness_scores = [\n",
    "    5,5,5,5,5,5,0,5,5,5,5,5,0,0,5,0,5,5,5,5,5,5,5,5,5,5,5,5,5,5,0,5,5,5,0,0,5,5,5,5,5,0,5,5,5,5,5,5,0,5,0,5,5,5,5,5,5,5,5,5,5,5,5,5,5,5,0,5,5,5,5,5,5,5,\n",
    "]\n",
    "\n",
    "# Convert to pandas Series\n",
    "slm_series = pd.Series(slm_mcq_correctness_scores)\n",
    "llm_series = pd.Series(llm_mcq_correctness_scores)\n",
    "\n",
    "# Perform Welch's t-test\n",
    "t_stat, p_value = stats.ttest_ind(slm_series, llm_series, equal_var=False)\n",
    "\n",
    "# Output the results\n",
    "print(f\"t-statistic: {t_stat}\")\n",
    "print(f\"p-value: {p_value}\")\n",
    "\n",
    "# Interpretation\n",
    "if p_value < 0.05:\n",
    "    print(\"Result: The difference is statistically significant.\")\n",
    "else:\n",
    "    print(\"Result: The difference is not statistically significant.\")\n"
   ]
  },
  {
   "cell_type": "markdown",
   "id": "fc67f76f",
   "metadata": {},
   "source": [
    "## RS4 Hypothesis Test"
   ]
  },
  {
   "cell_type": "code",
   "execution_count": 5,
   "id": "106d7fed",
   "metadata": {},
   "outputs": [
    {
     "name": "stdout",
     "output_type": "stream",
     "text": [
      "t-statistic: -7.29404417219872\n",
      "p-value: 2.2689488777171166e-11\n",
      "Result: The difference is statistically significant.\n"
     ]
    }
   ],
   "source": [
    "import numpy as np\n",
    "import pandas as pd\n",
    "from scipy import stats\n",
    "\n",
    "# SLM MCQ distractor quality score\n",
    "slm_mcq_distractor_quality_scores = [\n",
    "    5,0,5,5,0,0,0,5,5,0,0,0,0,0,0,0,0,0,0,0,5,5,0,5,0,0,5,5,0,0,0,5,0,5,0,0,0,0,5,5,5,5,0,0,0,5,0,0,0,5,5,0,0,0,0,5,5,0,5,0,0,5,0,0,0,0,0,0,5,0,5,0,0,0,\n",
    "]\n",
    "\n",
    "# LLM MCQ distractor quality score\n",
    "llm_mcq_dq_scores = [\n",
    "    5,5,5,5,3,5,0,4,5,5,5,5,0,0,5,0,5,5,5,5,5,5,5,5,5,5,5,5,5,5,0,5,5,5,0,0,5,5,5,5,5,0,5,5,5,5,5,5,0,5,0,5,5,5,5,5,5,5,5,5,5,5,5,5,5,5,0,5,5,5,5,5,5,5,\n",
    "]\n",
    "\n",
    "# Convert to pandas Series\n",
    "slm_series = pd.Series(slm_mcq_distractor_quality_scores)\n",
    "llm_series = pd.Series(llm_mcq_dq_scores)\n",
    "\n",
    "# Perform Welch's t-test\n",
    "t_stat, p_value = stats.ttest_ind(slm_series, llm_series, equal_var=False)\n",
    "\n",
    "# Output the results\n",
    "print(f\"t-statistic: {t_stat}\")\n",
    "print(f\"p-value: {p_value}\")\n",
    "\n",
    "# Interpretation\n",
    "if p_value < 0.05:\n",
    "    print(\"Result: The difference is statistically significant.\")\n",
    "else:\n",
    "    print(\"Result: The difference is not statistically significant.\")\n"
   ]
  }
 ],
 "metadata": {
  "kernelspec": {
   "display_name": "Python 3",
   "language": "python",
   "name": "python3"
  },
  "language_info": {
   "codemirror_mode": {
    "name": "ipython",
    "version": 3
   },
   "file_extension": ".py",
   "mimetype": "text/x-python",
   "name": "python",
   "nbconvert_exporter": "python",
   "pygments_lexer": "ipython3",
   "version": "3.13.0"
  }
 },
 "nbformat": 4,
 "nbformat_minor": 5
}
