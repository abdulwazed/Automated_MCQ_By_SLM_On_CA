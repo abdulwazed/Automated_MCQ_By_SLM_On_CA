{
 "cells": [
  {
   "cell_type": "markdown",
   "id": "6ee810eb",
   "metadata": {},
   "source": [
    "# SLM Finetuning on given instructions for MCQ generation on current affairs\n",
    "- For SLM train/finetuning this `https://github.com/rasbt/LLMs-from-scratch` codebase has been used as baseliine\n",
    "\n",
    "- Specific Script used & customised for finetuning gpt2 based SLM: `src\\SLM_from_scratch\\ch07\\01_main-chapter-code\\ch07.ipynb`\n",
    "- Instruction Dataset: \n",
    "    - "
   ]
  }
 ],
 "metadata": {
  "kernelspec": {
   "display_name": "Python 3",
   "language": "python",
   "name": "python3"
  },
  "language_info": {
   "codemirror_mode": {
    "name": "ipython",
    "version": 3
   },
   "file_extension": ".py",
   "mimetype": "text/x-python",
   "name": "python",
   "nbconvert_exporter": "python",
   "pygments_lexer": "ipython3",
   "version": "3.13.0"
  }
 },
 "nbformat": 4,
 "nbformat_minor": 5
}
