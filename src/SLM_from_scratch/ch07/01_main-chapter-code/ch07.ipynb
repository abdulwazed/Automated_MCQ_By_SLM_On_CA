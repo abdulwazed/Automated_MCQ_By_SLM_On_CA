{
 "cells": [
  {
   "cell_type": "markdown",
   "id": "12e91914-5f51-43fa-b65b-625e73b4d17b",
   "metadata": {
    "id": "12e91914-5f51-43fa-b65b-625e73b4d17b"
   },
   "source": [
    "<table style=\"width:100%\">\n",
    "<tr>\n",
    "<td style=\"vertical-align:middle; text-align:left;\">\n",
    "<font size=\"2\">\n",
    "Supplementary code for the <a href=\"http://mng.bz/orYv\">Build a Large Language Model From Scratch</a> book by <a href=\"https://sebastianraschka.com\">Sebastian Raschka</a><br>\n",
    "<br>Code repository: <a href=\"https://github.com/rasbt/LLMs-from-scratch\">https://github.com/rasbt/LLMs-from-scratch</a>\n",
    "</font>\n",
    "</td>\n",
    "<td style=\"vertical-align:middle; text-align:left;\">\n",
    "<a href=\"http://mng.bz/orYv\"><img src=\"https://sebastianraschka.com/images/LLMs-from-scratch-images/cover-small.webp?1\" width=\"100px\"></a>\n",
    "</td>\n",
    "</tr>\n",
    "</table>"
   ]
  },
  {
   "cell_type": "markdown",
   "id": "c2520ec3-722f-4f44-bdd1-885b13e7afbf",
   "metadata": {
    "id": "c2520ec3-722f-4f44-bdd1-885b13e7afbf"
   },
   "source": [
    "# Chapter 7: Finetuning To Follow Instructions"
   ]
  },
  {
   "cell_type": "code",
   "execution_count": 1,
   "id": "4e19327b-6c02-4881-ad02-9b6d3ec0b1b4",
   "metadata": {
    "colab": {
     "base_uri": "https://localhost:8080/"
    },
    "id": "4e19327b-6c02-4881-ad02-9b6d3ec0b1b4",
    "outputId": "bcdfe2cb-d084-4920-d703-503131aabec3"
   },
   "outputs": [
    {
     "name": "stdout",
     "output_type": "stream",
     "text": [
      "numpy version: 2.1.3\n",
      "matplotlib version: 3.10.3\n",
      "tiktoken version: 0.9.0\n",
      "torch version: 2.7.1\n",
      "tqdm version: 4.67.1\n",
      "tensorflow version: 2.19.0\n"
     ]
    }
   ],
   "source": [
    "from importlib.metadata import version\n",
    "\n",
    "pkgs = [\n",
    "    \"numpy\",       # PyTorch & TensorFlow dependency\n",
    "    \"matplotlib\",  # Plotting library\n",
    "    \"tiktoken\",    # Tokenizer\n",
    "    \"torch\",       # Deep learning library\n",
    "    \"tqdm\",        # Progress bar\n",
    "    \"tensorflow\",  # For OpenAI's pretrained weights\n",
    "]\n",
    "for p in pkgs:\n",
    "    print(f\"{p} version: {version(p)}\")"
   ]
  },
  {
   "cell_type": "markdown",
   "id": "264fca98-2f9a-4193-b435-2abfa3b4142f",
   "metadata": {
    "id": "264fca98-2f9a-4193-b435-2abfa3b4142f"
   },
   "source": [
    "<img src=\"https://sebastianraschka.com/images/LLMs-from-scratch-images/ch07_compressed/overview.webp?1\" width=500px>"
   ]
  },
  {
   "cell_type": "markdown",
   "id": "8bbc68e9-75b3-41f1-ac2c-e071c3cd0813",
   "metadata": {
    "id": "8bbc68e9-75b3-41f1-ac2c-e071c3cd0813"
   },
   "source": [
    "## 7.1 Introduction to instruction finetuning"
   ]
  },
  {
   "cell_type": "markdown",
   "id": "53dba24a-6805-496c-9a7f-c75e2d3527ab",
   "metadata": {
    "id": "53dba24a-6805-496c-9a7f-c75e2d3527ab"
   },
   "source": [
    "- In chapter 5, we saw that pretraining an LLM involves a training procedure where it learns to generate one word at a time\n",
    "- Hence, a pretrained LLM is good at text completion, but it is not good at following instructions\n",
    "- In this chapter, we teach the LLM to follow instructions better"
   ]
  },
  {
   "cell_type": "markdown",
   "id": "18dc0535-0904-44ed-beaf-9b678292ef35",
   "metadata": {
    "id": "18dc0535-0904-44ed-beaf-9b678292ef35"
   },
   "source": [
    "<img src=\"https://sebastianraschka.com/images/LLMs-from-scratch-images/ch07_compressed/instruction-following.webp\" width=500px>"
   ]
  },
  {
   "cell_type": "markdown",
   "id": "b4698b23-12e0-4bd7-a140-ccb3dd71d4e8",
   "metadata": {
    "id": "b4698b23-12e0-4bd7-a140-ccb3dd71d4e8"
   },
   "source": [
    "- The topics covered in this chapter are summarized in the figure below\n",
    "\n",
    "<img src=\"https://sebastianraschka.com/images/LLMs-from-scratch-images/ch07_compressed/chapter-overview-1.webp?1\" width=500px>"
   ]
  },
  {
   "cell_type": "markdown",
   "id": "5384f0cf-ef3c-4436-a5fa-59bd25649f86",
   "metadata": {
    "id": "5384f0cf-ef3c-4436-a5fa-59bd25649f86"
   },
   "source": [
    "## 7.2 Preparing a dataset for supervised instruction finetuning"
   ]
  },
  {
   "cell_type": "markdown",
   "id": "f8b34ff8-619f-4e89-bd03-ce513269760d",
   "metadata": {
    "id": "f8b34ff8-619f-4e89-bd03-ce513269760d"
   },
   "source": [
    "- We will work with an instruction dataset I prepared for this chapter"
   ]
  },
  {
   "cell_type": "code",
   "execution_count": 2,
   "id": "0G3axLw6kY1N",
   "metadata": {
    "colab": {
     "base_uri": "https://localhost:8080/"
    },
    "id": "0G3axLw6kY1N",
    "outputId": "07e1e4f9-026c-48c1-8a06-f2bfb1fb354e"
   },
   "outputs": [
    {
     "name": "stdout",
     "output_type": "stream",
     "text": [
      "Number of entries: 250\n"
     ]
    },
    {
     "name": "stderr",
     "output_type": "stream",
     "text": [
      "<>:32: SyntaxWarning: invalid escape sequence '\\A'\n",
      "<>:32: SyntaxWarning: invalid escape sequence '\\A'\n",
      "C:\\Users\\abdulwazed\\AppData\\Local\\Temp\\ipykernel_24380\\1378372360.py:32: SyntaxWarning: invalid escape sequence '\\A'\n",
      "  \"D:\\Automated_MCQ_By_SLM_On_CA\\data\\training_ca_mcqs\\instruction-data.json\"\n"
     ]
    }
   ],
   "source": [
    "import json\n",
    "import os\n",
    "import urllib\n",
    "\n",
    "\n",
    "def download_and_load_file(file_path, url):\n",
    "\n",
    "    if not os.path.exists(file_path):\n",
    "        with urllib.request.urlopen(url) as response:\n",
    "            text_data = response.read().decode(\"utf-8\")\n",
    "        with open(file_path, \"w\", encoding=\"utf-8\") as file:\n",
    "            file.write(text_data)\n",
    "\n",
    "    # The book originally contained this unnecessary \"else\" clause:\n",
    "    #else:\n",
    "    #    with open(file_path, \"r\", encoding=\"utf-8\") as file:\n",
    "    #        text_data = file.read()\n",
    "\n",
    "    with open(file_path, \"r\", encoding=\"utf-8\") as file:\n",
    "        data = json.load(file)\n",
    "\n",
    "    return data\n",
    "\n",
    "\n",
    "file_path = \"instruction-data.json\"\n",
    "# url = (\n",
    "#     \"https://raw.githubusercontent.com/rasbt/LLMs-from-scratch\"\n",
    "#     \"/main/ch07/01_main-chapter-code/instruction-data.json\"\n",
    "# )\n",
    "\n",
    "url = (\n",
    "    \"D:\\Automated_MCQ_By_SLM_On_CA\\data\\training_ca_mcqs\\instruction-data.json\"\n",
    ")\n",
    "\n",
    "data = download_and_load_file(file_path, url)\n",
    "print(\"Number of entries:\", len(data))"
   ]
  },
  {
   "cell_type": "markdown",
   "id": "d7af8176-4255-4e92-8c7d-998771733eb8",
   "metadata": {
    "id": "d7af8176-4255-4e92-8c7d-998771733eb8"
   },
   "source": [
    "- Each item in the `data` list we loaded from the JSON file above is a dictionary in the following form"
   ]
  },
  {
   "cell_type": "code",
   "execution_count": 3,
   "id": "-LiuBMsHkzQV",
   "metadata": {
    "colab": {
     "base_uri": "https://localhost:8080/"
    },
    "id": "-LiuBMsHkzQV",
    "outputId": "a4ee5c2d-db53-4a80-e5ee-0bbcf6fe0450"
   },
   "outputs": [
    {
     "name": "stdout",
     "output_type": "stream",
     "text": [
      "Example entry:\n",
      " {'instruction': 'Generate a Multiple Choice Question on the input context', 'input': 'Utkal Divas, celebrated on April 1st, marks the formation of Odisha as a separate state in 1936 during British rule. The day honors Odisha’s struggle for statehood and celebrates its cultural identity. Social and political organizations hold discussions and events to reflect on the state’s progress. Before 1936, Odisha was part of Bengal Presidency, Bihar, and the Central Provinces. Prominent leaders like Madhusudan Das, Utkalmani Gopabandhu Das, and Krushna Chandra Gajapati led the movement for statehood. Odisha became a separate province on April 1, 1936, with Sir John Austen Hubback as the first governor.', 'output': 'Question:Utkal Divas is celebrated annually on April 1 to commemorate the formation of which state? \\nOptions: \\n[A] Odisha  \\n[B] Jharkhand  \\n[C] Bihar  \\n[D] Haryana \\nCorrect Answer: A [Odisha]'}\n"
     ]
    }
   ],
   "source": [
    "print(\"Example entry:\\n\", data[0])"
   ]
  },
  {
   "cell_type": "markdown",
   "id": "c5a32b34-485a-4816-a77a-da14f9fe6e46",
   "metadata": {
    "id": "c5a32b34-485a-4816-a77a-da14f9fe6e46"
   },
   "source": [
    "- Note that the `'input'` field can be empty:"
   ]
  },
  {
   "cell_type": "code",
   "execution_count": 4,
   "id": "uFInFxDDk2Je",
   "metadata": {
    "colab": {
     "base_uri": "https://localhost:8080/"
    },
    "id": "uFInFxDDk2Je",
    "outputId": "b4f84027-bb9e-4e51-b79e-1329c8bff093"
   },
   "outputs": [
    {
     "name": "stdout",
     "output_type": "stream",
     "text": [
      "Another example entry:\n",
      " {'instruction': 'Generate a Multiple Choice Question on the input context', 'input': 'Around 300 Pakistani citizens of Indian origin from Sindh visited the Dwarkadhish Temple in Devbhumi Dwarka, Gujarat, and offered prayers. The Dwarkadhish Temple, also called Jagat Mandir, is dedicated to Lord Krishna, known as Dwarkadhish or ‘King of Dwarka’. It is part of the Char Dham pilgrimage circuit, along with Badrinath, Rameshwaram, and Puri. Archaeological evidence suggests the original temple dates back to 200 BCE and was built by Vajranabha, Krishna’s great-grandson, over Krishna’s residence. The current temple was expanded in the 16th century with five stories and 72 limestone and sand pillars. It reflects 16th-century Chalukya architecture with carved mythical legends. It follows Pushtimarg tradition, based on teachings of 15th-century saint Vallabhacharya.', 'output': 'Question:The Dwarkadhish Temple is located in which state? \\nOptions: \\n[A] Odisha  \\n[B] Gujarat  \\n[C] Rajasthan  \\n[D] Bihar \\nCorrect Answer: B [Gujarat]'}\n"
     ]
    }
   ],
   "source": [
    "print(\"Another example entry:\\n\", data[9])"
   ]
  },
  {
   "cell_type": "markdown",
   "id": "f034799a-6575-45fd-98c9-9d1012d0fd58",
   "metadata": {
    "id": "f034799a-6575-45fd-98c9-9d1012d0fd58"
   },
   "source": [
    "- Instruction finetuning is often referred to as \"supervised instruction finetuning\" because it involves training a model on a dataset where the input-output pairs are explicitly provided\n",
    "- There are different ways to format the entries as inputs to the LLM; the figure below illustrates two example formats that were used for training the Alpaca (https://crfm.stanford.edu/2023/03/13/alpaca.html) and Phi-3 (https://arxiv.org/abs/2404.14219) LLMs, respectively"
   ]
  },
  {
   "cell_type": "markdown",
   "id": "dffa4f70-44d4-4be4-89a9-2159f4885b10",
   "metadata": {
    "id": "dffa4f70-44d4-4be4-89a9-2159f4885b10"
   },
   "source": [
    "<img src=\"https://sebastianraschka.com/images/LLMs-from-scratch-images/ch07_compressed/prompt-style.webp?1\" width=500px>"
   ]
  },
  {
   "cell_type": "markdown",
   "id": "dd79a74e-befb-491c-be49-f777a6a5b6a6",
   "metadata": {
    "id": "dd79a74e-befb-491c-be49-f777a6a5b6a6"
   },
   "source": [
    "- In this chapter, we use Alpaca-style prompt formatting, which was the original prompt template for instruction finetuning\n",
    "- Below, we format the input that we will pass as input to the LLM"
   ]
  },
  {
   "cell_type": "code",
   "execution_count": 5,
   "id": "Jhk37nnJnkBh",
   "metadata": {
    "id": "Jhk37nnJnkBh"
   },
   "outputs": [],
   "source": [
    "def format_input(entry):\n",
    "    instruction_text = (\n",
    "        f\"Below is an instruction that describes a task. \"\n",
    "        f\"Write a response that appropriately completes the request.\"\n",
    "        f\"\\n\\n### Instruction:\\n{entry['instruction']}\"\n",
    "    )\n",
    "\n",
    "    input_text = f\"\\n\\n### Input:\\n{entry['input']}\" if entry[\"input\"] else \"\"\n",
    "\n",
    "    return instruction_text + input_text"
   ]
  },
  {
   "cell_type": "markdown",
   "id": "011e78b4-e89a-4653-a2ee-7b2739ca04d6",
   "metadata": {
    "id": "011e78b4-e89a-4653-a2ee-7b2739ca04d6"
   },
   "source": [
    "- A formatted response with input field looks like as shown below"
   ]
  },
  {
   "cell_type": "code",
   "execution_count": 6,
   "id": "F9UQRfjzo4Js",
   "metadata": {
    "colab": {
     "base_uri": "https://localhost:8080/"
    },
    "id": "F9UQRfjzo4Js",
    "outputId": "7b615d35-2a5f-474d-9292-a69bc3850e16"
   },
   "outputs": [
    {
     "name": "stdout",
     "output_type": "stream",
     "text": [
      "Below is an instruction that describes a task. Write a response that appropriately completes the request.\n",
      "\n",
      "### Instruction:\n",
      "Generate a Multiple Choice Question on the input context\n",
      "\n",
      "### Input:\n",
      "Around 300 Pakistani citizens of Indian origin from Sindh visited the Dwarkadhish Temple in Devbhumi Dwarka, Gujarat, and offered prayers. The Dwarkadhish Temple, also called Jagat Mandir, is dedicated to Lord Krishna, known as Dwarkadhish or ‘King of Dwarka’. It is part of the Char Dham pilgrimage circuit, along with Badrinath, Rameshwaram, and Puri. Archaeological evidence suggests the original temple dates back to 200 BCE and was built by Vajranabha, Krishna’s great-grandson, over Krishna’s residence. The current temple was expanded in the 16th century with five stories and 72 limestone and sand pillars. It reflects 16th-century Chalukya architecture with carved mythical legends. It follows Pushtimarg tradition, based on teachings of 15th-century saint Vallabhacharya.\n",
      "\n",
      "### Response:\n",
      "Question:The Dwarkadhish Temple is located in which state? \n",
      "Options: \n",
      "[A] Odisha  \n",
      "[B] Gujarat  \n",
      "[C] Rajasthan  \n",
      "[D] Bihar \n",
      "Correct Answer: B [Gujarat]\n"
     ]
    }
   ],
   "source": [
    "model_input = format_input(data[9])\n",
    "desired_response = f\"\\n\\n### Response:\\n{data[9]['output']}\"\n",
    "\n",
    "print(model_input + desired_response)"
   ]
  },
  {
   "cell_type": "markdown",
   "id": "4dc93ddf-431c-49c0-96f2-fb3a79c4d94c",
   "metadata": {
    "id": "4dc93ddf-431c-49c0-96f2-fb3a79c4d94c"
   },
   "source": [
    "- Below is a formatted response without an input field"
   ]
  },
  {
   "cell_type": "code",
   "execution_count": 7,
   "id": "a3891fa9-f738-41cd-946c-80ef9a99c346",
   "metadata": {
    "colab": {
     "base_uri": "https://localhost:8080/"
    },
    "id": "a3891fa9-f738-41cd-946c-80ef9a99c346",
    "outputId": "2142c5a4-b594-49c5-affe-2d963a7bd46b"
   },
   "outputs": [
    {
     "name": "stdout",
     "output_type": "stream",
     "text": [
      "Below is an instruction that describes a task. Write a response that appropriately completes the request.\n",
      "\n",
      "### Instruction:\n",
      "Generate a Multiple Choice Question on the input context\n",
      "\n",
      "### Input:\n",
      "Utkal Divas, celebrated on April 1st, marks the formation of Odisha as a separate state in 1936 during British rule. The day honors Odisha’s struggle for statehood and celebrates its cultural identity. Social and political organizations hold discussions and events to reflect on the state’s progress. Before 1936, Odisha was part of Bengal Presidency, Bihar, and the Central Provinces. Prominent leaders like Madhusudan Das, Utkalmani Gopabandhu Das, and Krushna Chandra Gajapati led the movement for statehood. Odisha became a separate province on April 1, 1936, with Sir John Austen Hubback as the first governor.\n",
      "\n",
      "### Response:\n",
      "Question:Utkal Divas is celebrated annually on April 1 to commemorate the formation of which state? \n",
      "Options: \n",
      "[A] Odisha  \n",
      "[B] Jharkhand  \n",
      "[C] Bihar  \n",
      "[D] Haryana \n",
      "Correct Answer: A [Odisha]\n"
     ]
    }
   ],
   "source": [
    "model_input = format_input(data[0])\n",
    "desired_response = f\"\\n\\n### Response:\\n{data[0]['output']}\"\n",
    "\n",
    "print(model_input + desired_response)"
   ]
  },
  {
   "cell_type": "markdown",
   "id": "4aa8afd5-2a21-49a5-90c3-6a03865a4771",
   "metadata": {
    "id": "4aa8afd5-2a21-49a5-90c3-6a03865a4771"
   },
   "source": [
    "- Lastly, before we prepare the PyTorch data loaders in the next section, we divide the dataset into a training, validation, and test set"
   ]
  },
  {
   "cell_type": "code",
   "execution_count": 8,
   "id": "aFZVopbIlNfx",
   "metadata": {
    "id": "aFZVopbIlNfx"
   },
   "outputs": [],
   "source": [
    "train_portion = int(len(data) * 0.85)  # 85% for training\n",
    "test_portion = int(len(data) * 0.1)    # 10% for testing\n",
    "val_portion = len(data) - train_portion - test_portion  # Remaining 5% for validation\n",
    "\n",
    "train_data = data[:train_portion]\n",
    "test_data = data[train_portion:train_portion + test_portion]\n",
    "val_data = data[train_portion + test_portion:]"
   ]
  },
  {
   "cell_type": "code",
   "execution_count": 9,
   "id": "-zf6oht6bIUQ",
   "metadata": {
    "colab": {
     "base_uri": "https://localhost:8080/"
    },
    "id": "-zf6oht6bIUQ",
    "outputId": "657ec5c6-4caa-4d1a-ba2e-23acd755ab07"
   },
   "outputs": [
    {
     "name": "stdout",
     "output_type": "stream",
     "text": [
      "Training set length: 212\n",
      "Validation set length: 13\n",
      "Test set length: 25\n"
     ]
    }
   ],
   "source": [
    "print(\"Training set length:\", len(train_data))\n",
    "print(\"Validation set length:\", len(val_data))\n",
    "print(\"Test set length:\", len(test_data))"
   ]
  },
  {
   "cell_type": "markdown",
   "id": "fcaaf606-f913-4445-8301-632ae10d387d",
   "metadata": {
    "id": "fcaaf606-f913-4445-8301-632ae10d387d"
   },
   "source": [
    "## 7.3 Organizing data into training batches"
   ]
  },
  {
   "cell_type": "markdown",
   "id": "233f63bd-9755-4d07-8884-5e2e5345cf27",
   "metadata": {
    "id": "233f63bd-9755-4d07-8884-5e2e5345cf27"
   },
   "source": [
    "<img src=\"https://sebastianraschka.com/images/LLMs-from-scratch-images/ch07_compressed/chapter-overview-2.webp?1\" width=500px>"
   ]
  },
  {
   "cell_type": "markdown",
   "id": "c149fc1a-7757-4ec8-80cb-e2a3fb007a2c",
   "metadata": {
    "id": "c149fc1a-7757-4ec8-80cb-e2a3fb007a2c"
   },
   "source": [
    "- We tackle this dataset batching in several steps, as summarized in the figure below\n",
    "\n",
    "<img src=\"https://sebastianraschka.com/images/LLMs-from-scratch-images/ch07_compressed/detailed-batching.webp?1\" width=500px>"
   ]
  },
  {
   "cell_type": "markdown",
   "id": "b9af423f-aad9-4b3c-bea5-153021c04862",
   "metadata": {
    "id": "b9af423f-aad9-4b3c-bea5-153021c04862"
   },
   "source": [
    "- First, we implement an `InstructionDataset` class that pre-tokenizes all inputs in the dataset, similar to the `SpamDataset` in chapter 6\n",
    "\n",
    "<img src=\"https://sebastianraschka.com/images/LLMs-from-scratch-images/ch07_compressed/pretokenizing.webp\" width=500px>"
   ]
  },
  {
   "cell_type": "code",
   "execution_count": 10,
   "id": "adc29dc4-f1c7-4c71-937b-95119d6239bb",
   "metadata": {
    "id": "adc29dc4-f1c7-4c71-937b-95119d6239bb"
   },
   "outputs": [],
   "source": [
    "import torch\n",
    "from torch.utils.data import Dataset\n",
    "\n",
    "\n",
    "class InstructionDataset(Dataset):\n",
    "    def __init__(self, data, tokenizer):\n",
    "        self.data = data\n",
    "\n",
    "        # Pre-tokenize texts\n",
    "        self.encoded_texts = []\n",
    "        for entry in data:\n",
    "            instruction_plus_input = format_input(entry)\n",
    "            response_text = f\"\\n\\n### Response:\\n{entry['output']}\"\n",
    "            full_text = instruction_plus_input + response_text\n",
    "            self.encoded_texts.append(\n",
    "                tokenizer.encode(full_text)\n",
    "            )\n",
    "\n",
    "    def __getitem__(self, index):\n",
    "        return self.encoded_texts[index]\n",
    "\n",
    "    def __len__(self):\n",
    "        return len(self.data)"
   ]
  },
  {
   "cell_type": "markdown",
   "id": "384f0e69-4b22-41c0-a25d-f077527eddd1",
   "metadata": {
    "id": "384f0e69-4b22-41c0-a25d-f077527eddd1"
   },
   "source": [
    "- Similar to chapter 6, we want to collect multiple training examples in a batch to accelerate training; this requires padding all inputs to a similar length\n",
    "- Also similar to the previous chapter, we use the `<|endoftext|>` token as a padding token"
   ]
  },
  {
   "cell_type": "code",
   "execution_count": 11,
   "id": "ff24fe1a-5746-461c-ad3d-b6d84a1a7c96",
   "metadata": {
    "colab": {
     "base_uri": "https://localhost:8080/"
    },
    "id": "ff24fe1a-5746-461c-ad3d-b6d84a1a7c96",
    "outputId": "ac44227b-9ec2-4131-9df8-89caa6e879ca"
   },
   "outputs": [
    {
     "name": "stdout",
     "output_type": "stream",
     "text": [
      "[50256]\n"
     ]
    }
   ],
   "source": [
    "import tiktoken\n",
    "tokenizer = tiktoken.get_encoding(\"gpt2\")\n",
    "\n",
    "print(tokenizer.encode(\"<|endoftext|>\", allowed_special={\"<|endoftext|>\"}))"
   ]
  },
  {
   "cell_type": "markdown",
   "id": "9e5bd7bc-f347-4cf8-a0c2-94cb8799e427",
   "metadata": {
    "id": "9e5bd7bc-f347-4cf8-a0c2-94cb8799e427"
   },
   "source": [
    "- In chapter 6, we padded all examples in a dataset to the same length\n",
    "  - Here, we take a more sophisticated approach and develop a custom \"collate\" function that we can pass to the data loader\n",
    "  - This custom collate function pads the training examples in each batch to have the same length (but different batches can have different lengths)"
   ]
  },
  {
   "cell_type": "markdown",
   "id": "65c4d943-4aa8-4a44-874e-05bc6831fbd3",
   "metadata": {
    "id": "65c4d943-4aa8-4a44-874e-05bc6831fbd3"
   },
   "source": [
    "<img src=\"https://sebastianraschka.com/images/LLMs-from-scratch-images/ch07_compressed/padding.webp\" width=500px>"
   ]
  },
  {
   "cell_type": "code",
   "execution_count": 12,
   "id": "eb4c77dd-c956-4a1b-897b-b466909f18ca",
   "metadata": {
    "id": "eb4c77dd-c956-4a1b-897b-b466909f18ca"
   },
   "outputs": [],
   "source": [
    "def custom_collate_draft_1(\n",
    "    batch,\n",
    "    pad_token_id=50256,\n",
    "    device=\"cpu\"\n",
    "):\n",
    "    # Find the longest sequence in the batch\n",
    "    # and increase the max length by +1, which will add one extra\n",
    "    # padding token below\n",
    "    batch_max_length = max(len(item)+1 for item in batch)\n",
    "\n",
    "    # Pad and prepare inputs\n",
    "    inputs_lst = []\n",
    "\n",
    "    for item in batch:\n",
    "        new_item = item.copy()\n",
    "        # Add an <|endoftext|> token\n",
    "        new_item += [pad_token_id]\n",
    "        # Pad sequences to batch_max_length\n",
    "        padded = (\n",
    "            new_item + [pad_token_id] *\n",
    "            (batch_max_length - len(new_item))\n",
    "        )\n",
    "        # Via padded[:-1], we remove the extra padded token\n",
    "        # that has been added via the +1 setting in batch_max_length\n",
    "        # (the extra padding token will be relevant in later codes)\n",
    "        inputs = torch.tensor(padded[:-1])\n",
    "        inputs_lst.append(inputs)\n",
    "\n",
    "    # Convert list of inputs to tensor and transfer to target device\n",
    "    inputs_tensor = torch.stack(inputs_lst).to(device)\n",
    "    return inputs_tensor"
   ]
  },
  {
   "cell_type": "code",
   "execution_count": 13,
   "id": "8fb02373-59b3-4f3a-b1d1-8181a2432645",
   "metadata": {
    "colab": {
     "base_uri": "https://localhost:8080/"
    },
    "id": "8fb02373-59b3-4f3a-b1d1-8181a2432645",
    "outputId": "93d987b9-e3ca-4857-9b28-b67d515a94d8"
   },
   "outputs": [
    {
     "name": "stdout",
     "output_type": "stream",
     "text": [
      "tensor([[    0,     1,     2,     3,     4],\n",
      "        [    5,     6, 50256, 50256, 50256],\n",
      "        [    7,     8,     9, 50256, 50256]])\n"
     ]
    }
   ],
   "source": [
    "inputs_1 = [0, 1, 2, 3, 4]\n",
    "inputs_2 = [5, 6]\n",
    "inputs_3 = [7, 8, 9]\n",
    "\n",
    "batch = (\n",
    "    inputs_1,\n",
    "    inputs_2,\n",
    "    inputs_3\n",
    ")\n",
    "\n",
    "print(custom_collate_draft_1(batch))"
   ]
  },
  {
   "cell_type": "markdown",
   "id": "c46832ab-39b7-45f8-b330-ac9adfa10d1b",
   "metadata": {
    "id": "c46832ab-39b7-45f8-b330-ac9adfa10d1b"
   },
   "source": [
    "<img src=\"https://sebastianraschka.com/images/LLMs-from-scratch-images/ch07_compressed/batching-step-4.webp?1\" width=500px>"
   ]
  },
  {
   "cell_type": "markdown",
   "id": "17769a19-b961-4213-92ef-34f441b2d1d6",
   "metadata": {
    "id": "17769a19-b961-4213-92ef-34f441b2d1d6"
   },
   "source": [
    "- Above, we only returned the inputs to the LLM; however, for LLM training, we also need the target values\n",
    "- Similar to pretraining an LLM, the targets are the inputs shifted by 1 position to the right, so the LLM learns to predict the next token"
   ]
  },
  {
   "cell_type": "markdown",
   "id": "0386b6fe-3455-4e70-becd-a5a4681ba2ef",
   "metadata": {
    "id": "0386b6fe-3455-4e70-becd-a5a4681ba2ef"
   },
   "source": [
    "<img src=\"https://sebastianraschka.com/images/LLMs-from-scratch-images/ch07_compressed/inputs-targets.webp?1\" width=400px>"
   ]
  },
  {
   "cell_type": "code",
   "execution_count": 14,
   "id": "74af192e-757c-4c0a-bdf9-b7eb25bf6ebc",
   "metadata": {
    "id": "74af192e-757c-4c0a-bdf9-b7eb25bf6ebc"
   },
   "outputs": [],
   "source": [
    "def custom_collate_draft_2(\n",
    "    batch,\n",
    "    pad_token_id=50256,\n",
    "    device=\"cpu\"\n",
    "):\n",
    "    # Find the longest sequence in the batch\n",
    "    batch_max_length = max(len(item)+1 for item in batch)\n",
    "\n",
    "    # Pad and prepare inputs\n",
    "    inputs_lst, targets_lst = [], []\n",
    "\n",
    "    for item in batch:\n",
    "        new_item = item.copy()\n",
    "        # Add an <|endoftext|> token\n",
    "        new_item += [pad_token_id]\n",
    "        # Pad sequences to max_length\n",
    "        padded = (\n",
    "            new_item + [pad_token_id] *\n",
    "            (batch_max_length - len(new_item))\n",
    "        )\n",
    "        inputs = torch.tensor(padded[:-1])  # Truncate the last token for inputs\n",
    "        targets = torch.tensor(padded[1:])  # Shift +1 to the right for targets\n",
    "        inputs_lst.append(inputs)\n",
    "        targets_lst.append(targets)\n",
    "\n",
    "    # Convert list of inputs to tensor and transfer to target device\n",
    "    inputs_tensor = torch.stack(inputs_lst).to(device)\n",
    "    targets_tensor = torch.stack(targets_lst).to(device)\n",
    "    return inputs_tensor, targets_tensor"
   ]
  },
  {
   "cell_type": "code",
   "execution_count": 15,
   "id": "6eb2bce3-28a7-4f39-9d4b-5e972d69066c",
   "metadata": {
    "colab": {
     "base_uri": "https://localhost:8080/"
    },
    "id": "6eb2bce3-28a7-4f39-9d4b-5e972d69066c",
    "outputId": "3d104439-c328-431b-ef7c-2639d86c2135"
   },
   "outputs": [
    {
     "name": "stdout",
     "output_type": "stream",
     "text": [
      "tensor([[    0,     1,     2,     3,     4],\n",
      "        [    5,     6, 50256, 50256, 50256],\n",
      "        [    7,     8,     9, 50256, 50256]])\n",
      "tensor([[    1,     2,     3,     4, 50256],\n",
      "        [    6, 50256, 50256, 50256, 50256],\n",
      "        [    8,     9, 50256, 50256, 50256]])\n"
     ]
    }
   ],
   "source": [
    "inputs, targets = custom_collate_draft_2(batch)\n",
    "print(inputs)\n",
    "print(targets)"
   ]
  },
  {
   "cell_type": "markdown",
   "id": "3bf85703-a0e0-42aa-8f29-cbc28dbf4e15",
   "metadata": {
    "id": "3bf85703-a0e0-42aa-8f29-cbc28dbf4e15"
   },
   "source": [
    "- Next, we introduce an `ignore_index` value to replace all padding token IDs with a new value; the purpose of this `ignore_index` is that we can ignore padding values in the loss function (more on that later)\n",
    "\n",
    "<img src=\"https://sebastianraschka.com/images/LLMs-from-scratch-images/ch07_compressed/batching-step-5.webp?1\" width=500px>\n",
    "\n",
    "- Concretely, this means that we replace the token IDs corresponding to `50256` with `-100` as illustrated below"
   ]
  },
  {
   "cell_type": "markdown",
   "id": "bd4bed33-956e-4b3f-a09c-586d8203109a",
   "metadata": {
    "id": "bd4bed33-956e-4b3f-a09c-586d8203109a"
   },
   "source": [
    "<img src=\"https://sebastianraschka.com/images/LLMs-from-scratch-images/ch07_compressed/ignore-index.webp?1\" width=500px>"
   ]
  },
  {
   "cell_type": "markdown",
   "id": "5346513e-c3f4-44fe-af22-4ebd36497728",
   "metadata": {
    "id": "5346513e-c3f4-44fe-af22-4ebd36497728"
   },
   "source": [
    "- (In addition, we also introduce the `allowed_max_length` in case we want to limit the length of the samples; this will be useful if you plan to work with your own datasets that are longer than the 1024 token context size supported by the GPT-2 model)"
   ]
  },
  {
   "cell_type": "code",
   "execution_count": 16,
   "id": "41ec6e2d-9eb2-4124-913e-d2af39be4cf2",
   "metadata": {
    "id": "41ec6e2d-9eb2-4124-913e-d2af39be4cf2"
   },
   "outputs": [],
   "source": [
    "def custom_collate_fn(\n",
    "    batch,\n",
    "    pad_token_id=50256,\n",
    "    ignore_index=-100,\n",
    "    allowed_max_length=None,\n",
    "    device=\"cpu\"\n",
    "):\n",
    "    # Find the longest sequence in the batch\n",
    "    batch_max_length = max(len(item)+1 for item in batch)\n",
    "\n",
    "    # Pad and prepare inputs and targets\n",
    "    inputs_lst, targets_lst = [], []\n",
    "\n",
    "    for item in batch:\n",
    "        new_item = item.copy()\n",
    "        # Add an <|endoftext|> token\n",
    "        new_item += [pad_token_id]\n",
    "        # Pad sequences to max_length\n",
    "        padded = (\n",
    "            new_item + [pad_token_id] *\n",
    "            (batch_max_length - len(new_item))\n",
    "        )\n",
    "        inputs = torch.tensor(padded[:-1])  # Truncate the last token for inputs\n",
    "        targets = torch.tensor(padded[1:])  # Shift +1 to the right for targets\n",
    "\n",
    "        # New: Replace all but the first padding tokens in targets by ignore_index\n",
    "        mask = targets == pad_token_id\n",
    "        indices = torch.nonzero(mask).squeeze()\n",
    "        if indices.numel() > 1:\n",
    "            targets[indices[1:]] = ignore_index\n",
    "\n",
    "        # New: Optionally truncate to maximum sequence length\n",
    "        if allowed_max_length is not None:\n",
    "            inputs = inputs[:allowed_max_length]\n",
    "            targets = targets[:allowed_max_length]\n",
    "\n",
    "        inputs_lst.append(inputs)\n",
    "        targets_lst.append(targets)\n",
    "\n",
    "    # Convert list of inputs and targets to tensors and transfer to target device\n",
    "    inputs_tensor = torch.stack(inputs_lst).to(device)\n",
    "    targets_tensor = torch.stack(targets_lst).to(device)\n",
    "\n",
    "    return inputs_tensor, targets_tensor"
   ]
  },
  {
   "cell_type": "code",
   "execution_count": 17,
   "id": "cdf5eec4-9ebe-4be0-9fca-9a47bee88fdc",
   "metadata": {
    "colab": {
     "base_uri": "https://localhost:8080/"
    },
    "id": "cdf5eec4-9ebe-4be0-9fca-9a47bee88fdc",
    "outputId": "e8f709b9-f4c5-428a-a6ac-2a4c1b9358ba"
   },
   "outputs": [
    {
     "name": "stdout",
     "output_type": "stream",
     "text": [
      "tensor([[    0,     1,     2,     3,     4],\n",
      "        [    5,     6, 50256, 50256, 50256],\n",
      "        [    7,     8,     9, 50256, 50256]])\n",
      "tensor([[    1,     2,     3,     4, 50256],\n",
      "        [    6, 50256,  -100,  -100,  -100],\n",
      "        [    8,     9, 50256,  -100,  -100]])\n"
     ]
    }
   ],
   "source": [
    "inputs, targets = custom_collate_fn(batch)\n",
    "print(inputs)\n",
    "print(targets)"
   ]
  },
  {
   "cell_type": "markdown",
   "id": "26727c90-0d42-43b3-af21-0a66ad4fbbc7",
   "metadata": {
    "id": "26727c90-0d42-43b3-af21-0a66ad4fbbc7"
   },
   "source": [
    "- Let's see what this replacement by -100 accomplishes\n",
    "- For illustration purposes, let's assume we have a small classification task with 2 class labels, 0 and 1, similar to chapter 6\n",
    "- If we have the following logits values (outputs of the last layer of the model), we calculate the following loss"
   ]
  },
  {
   "cell_type": "code",
   "execution_count": 18,
   "id": "W2jvh-OP9MFV",
   "metadata": {
    "colab": {
     "base_uri": "https://localhost:8080/"
    },
    "id": "W2jvh-OP9MFV",
    "outputId": "ccb3a703-59a7-4258-8841-57959a016e31"
   },
   "outputs": [
    {
     "name": "stdout",
     "output_type": "stream",
     "text": [
      "tensor(1.1269)\n"
     ]
    }
   ],
   "source": [
    "logits_1 = torch.tensor(\n",
    "    [[-1.0, 1.0],  # 1st training example\n",
    "     [-0.5, 1.5]]  # 2nd training example\n",
    ")\n",
    "targets_1 = torch.tensor([0, 1])\n",
    "\n",
    "\n",
    "loss_1 = torch.nn.functional.cross_entropy(logits_1, targets_1)\n",
    "print(loss_1)"
   ]
  },
  {
   "cell_type": "markdown",
   "id": "5edd3244-8886-4505-92e9-367d28529e1e",
   "metadata": {
    "id": "5edd3244-8886-4505-92e9-367d28529e1e"
   },
   "source": [
    "- Now, adding one more training example will, as expected, influence the loss"
   ]
  },
  {
   "cell_type": "code",
   "execution_count": 19,
   "id": "nvVMuil89v9N",
   "metadata": {
    "colab": {
     "base_uri": "https://localhost:8080/"
    },
    "id": "nvVMuil89v9N",
    "outputId": "6d4683d4-5bfc-4a8c-de2a-95ecb2e716b9"
   },
   "outputs": [
    {
     "name": "stdout",
     "output_type": "stream",
     "text": [
      "tensor(0.7936)\n"
     ]
    }
   ],
   "source": [
    "logits_2 = torch.tensor(\n",
    "    [[-1.0, 1.0],\n",
    "     [-0.5, 1.5],\n",
    "     [-0.5, 1.5]]  # New 3rd training example\n",
    ")\n",
    "targets_2 = torch.tensor([0, 1, 1])\n",
    "\n",
    "loss_2 = torch.nn.functional.cross_entropy(logits_2, targets_2)\n",
    "print(loss_2)"
   ]
  },
  {
   "cell_type": "markdown",
   "id": "54dca331-40e0-468b-b690-189fe156ba8f",
   "metadata": {
    "id": "54dca331-40e0-468b-b690-189fe156ba8f"
   },
   "source": [
    "- Let's see what happens if we replace the class label of one of the examples with -100"
   ]
  },
  {
   "cell_type": "code",
   "execution_count": 20,
   "id": "RTyB1vah9p56",
   "metadata": {
    "colab": {
     "base_uri": "https://localhost:8080/"
    },
    "id": "RTyB1vah9p56",
    "outputId": "da05302e-3fe0-439e-d1ed-82066bceb122"
   },
   "outputs": [
    {
     "name": "stdout",
     "output_type": "stream",
     "text": [
      "tensor(1.1269)\n",
      "loss_1 == loss_3: tensor(True)\n"
     ]
    }
   ],
   "source": [
    "targets_3 = torch.tensor([0, 1, -100])\n",
    "\n",
    "loss_3 = torch.nn.functional.cross_entropy(logits_2, targets_3)\n",
    "print(loss_3)\n",
    "print(\"loss_1 == loss_3:\", loss_1 == loss_3)"
   ]
  },
  {
   "cell_type": "markdown",
   "id": "cef09d21-b652-4760-abea-4f76920e6a25",
   "metadata": {
    "id": "cef09d21-b652-4760-abea-4f76920e6a25"
   },
   "source": [
    "- As we can see, the resulting loss on these 3 training examples is the same as the loss we calculated from the 2 training examples, which means that the cross-entropy loss function ignored the training example with the -100 label\n",
    "- By default, PyTorch has the `cross_entropy(..., ignore_index=-100)` setting to ignore examples corresponding to the label -100\n",
    "- Using this -100 `ignore_index`, we can ignore the additional end-of-text (padding) tokens in the batches that we used to pad the training examples to equal length\n",
    "- However, we don't want to ignore the first instance of the end-of-text (padding) token (50256) because it can help signal to the LLM when the response is complete"
   ]
  },
  {
   "cell_type": "markdown",
   "id": "6a4e9c5f-7c49-4321-9f1b-a50468a84524",
   "metadata": {
    "id": "6a4e9c5f-7c49-4321-9f1b-a50468a84524"
   },
   "source": [
    "- In practice, it is also common to mask out the target token IDs that correspond to the instruction, as illustrated in the figure below (this is a recommended reader exercise after completing the chapter)"
   ]
  },
  {
   "cell_type": "markdown",
   "id": "fab8f0ed-80e8-4fd9-bf84-e5d0e0bc0a39",
   "metadata": {
    "id": "fab8f0ed-80e8-4fd9-bf84-e5d0e0bc0a39"
   },
   "source": [
    "<img src=\"https://sebastianraschka.com/images/LLMs-from-scratch-images/ch07_compressed/mask-instructions.webp?1\" width=600px>"
   ]
  },
  {
   "cell_type": "markdown",
   "id": "bccaf048-ec95-498c-9155-d5b3ccba6c96",
   "metadata": {
    "id": "bccaf048-ec95-498c-9155-d5b3ccba6c96"
   },
   "source": [
    "## 7.4 Creating data loaders for an instruction dataset"
   ]
  },
  {
   "cell_type": "markdown",
   "id": "e6b8e656-3af3-4db6-8dde-d8c216a12f50",
   "metadata": {
    "id": "e6b8e656-3af3-4db6-8dde-d8c216a12f50"
   },
   "source": [
    "- In this section, we use the `InstructionDataset` class and `custom_collate_fn` function to instantiate the training, validation, and test data loaders"
   ]
  },
  {
   "cell_type": "markdown",
   "id": "9fffe390-b226-4d5c-983f-9f4da773cb82",
   "metadata": {
    "id": "9fffe390-b226-4d5c-983f-9f4da773cb82"
   },
   "source": [
    "<img src=\"https://sebastianraschka.com/images/LLMs-from-scratch-images/ch07_compressed/chapter-overview-3.webp?1\" width=500px>"
   ]
  },
  {
   "cell_type": "markdown",
   "id": "932677e9-9317-42e8-b461-7b0269518f97",
   "metadata": {
    "id": "932677e9-9317-42e8-b461-7b0269518f97"
   },
   "source": [
    "- Another additional detail of the previous `custom_collate_fn` function is that we now directly move the data to the target device (e.g., GPU) instead of doing it in the main training loop, which improves efficiency because it can be carried out as a background process when we use the `custom_collate_fn` as part of the data loader\n",
    "- Using the `partial` function from Python's `functools` standard library, we create a new function with the `device` argument of the original function pre-filled"
   ]
  },
  {
   "cell_type": "code",
   "execution_count": 21,
   "id": "etpqqWh8phKc",
   "metadata": {
    "colab": {
     "base_uri": "https://localhost:8080/"
    },
    "id": "etpqqWh8phKc",
    "outputId": "b4391c33-1a89-455b-faaa-5f874b6eb409"
   },
   "outputs": [
    {
     "name": "stdout",
     "output_type": "stream",
     "text": [
      "Device: cpu\n"
     ]
    }
   ],
   "source": [
    "device = torch.device(\"cuda\" if torch.cuda.is_available() else \"cpu\")\n",
    "\n",
    "# Note:\n",
    "# Uncommenting the following lines will allow the code to run on Apple Silicon chips, if applicable,\n",
    "# which is much faster than on an Apple CPU (as measured on an M3 MacBook Air).\n",
    "# However, the resulting loss values may be slightly different.\n",
    "\n",
    "#if torch.cuda.is_available():\n",
    "#    device = torch.device(\"cuda\")\n",
    "#elif torch.backends.mps.is_available():\n",
    "#    device = torch.device(\"mps\")\n",
    "#else:\n",
    "#    device = torch.device(\"cpu\")\n",
    "\n",
    "print(\"Device:\", device)"
   ]
  },
  {
   "cell_type": "code",
   "execution_count": 22,
   "id": "4e47fb30-c2c6-4e6d-a64c-76cc65be4a2c",
   "metadata": {
    "id": "4e47fb30-c2c6-4e6d-a64c-76cc65be4a2c"
   },
   "outputs": [],
   "source": [
    "from functools import partial\n",
    "\n",
    "customized_collate_fn = partial(\n",
    "    custom_collate_fn,\n",
    "    device=device,\n",
    "    allowed_max_length=1024\n",
    ")"
   ]
  },
  {
   "cell_type": "markdown",
   "id": "8ff42c29-8b81-45e5-ae8d-b97cd1cf447a",
   "metadata": {
    "id": "8ff42c29-8b81-45e5-ae8d-b97cd1cf447a"
   },
   "source": [
    "- Next, we instantiate the data loaders similar to previous chapters, except that we now provide our own collate function for the batching process"
   ]
  },
  {
   "cell_type": "code",
   "execution_count": 23,
   "id": "BtWkgir6Hlpe",
   "metadata": {
    "id": "BtWkgir6Hlpe"
   },
   "outputs": [],
   "source": [
    "from torch.utils.data import DataLoader\n",
    "\n",
    "\n",
    "num_workers = 0\n",
    "batch_size = 8\n",
    "\n",
    "torch.manual_seed(123)\n",
    "\n",
    "train_dataset = InstructionDataset(train_data, tokenizer)\n",
    "train_loader = DataLoader(\n",
    "    train_dataset,\n",
    "    batch_size=batch_size,\n",
    "    collate_fn=customized_collate_fn,\n",
    "    shuffle=True,\n",
    "    drop_last=True,\n",
    "    num_workers=num_workers\n",
    ")"
   ]
  },
  {
   "cell_type": "code",
   "execution_count": 24,
   "id": "1d097dc8-ad34-4f05-b435-e4147965f532",
   "metadata": {
    "id": "1d097dc8-ad34-4f05-b435-e4147965f532"
   },
   "outputs": [],
   "source": [
    "val_dataset = InstructionDataset(val_data, tokenizer)\n",
    "val_loader = DataLoader(\n",
    "    val_dataset,\n",
    "    batch_size=batch_size,\n",
    "    collate_fn=customized_collate_fn,\n",
    "    shuffle=False,\n",
    "    drop_last=False,\n",
    "    num_workers=num_workers\n",
    ")\n",
    "\n",
    "test_dataset = InstructionDataset(test_data, tokenizer)\n",
    "test_loader = DataLoader(\n",
    "    test_dataset,\n",
    "    batch_size=batch_size,\n",
    "    collate_fn=customized_collate_fn,\n",
    "    shuffle=False,\n",
    "    drop_last=False,\n",
    "    num_workers=num_workers\n",
    ")"
   ]
  },
  {
   "cell_type": "markdown",
   "id": "3f67c147-b1a2-4a95-9807-e2d0de0324c0",
   "metadata": {
    "id": "3f67c147-b1a2-4a95-9807-e2d0de0324c0"
   },
   "source": [
    "- Let's see what the dimensions of the resulting input and target batches look like"
   ]
  },
  {
   "cell_type": "code",
   "execution_count": 25,
   "id": "GGs1AI3vHpnX",
   "metadata": {
    "colab": {
     "base_uri": "https://localhost:8080/"
    },
    "id": "GGs1AI3vHpnX",
    "outputId": "f6a74c8b-1af3-4bc1-b48c-eda64b0200d1"
   },
   "outputs": [
    {
     "name": "stdout",
     "output_type": "stream",
     "text": [
      "Train loader:\n",
      "torch.Size([8, 299]) torch.Size([8, 299])\n",
      "torch.Size([8, 287]) torch.Size([8, 287])\n",
      "torch.Size([8, 291]) torch.Size([8, 291])\n",
      "torch.Size([8, 316]) torch.Size([8, 316])\n",
      "torch.Size([8, 263]) torch.Size([8, 263])\n",
      "torch.Size([8, 273]) torch.Size([8, 273])\n",
      "torch.Size([8, 261]) torch.Size([8, 261])\n",
      "torch.Size([8, 277]) torch.Size([8, 277])\n",
      "torch.Size([8, 289]) torch.Size([8, 289])\n",
      "torch.Size([8, 295]) torch.Size([8, 295])\n",
      "torch.Size([8, 281]) torch.Size([8, 281])\n",
      "torch.Size([8, 337]) torch.Size([8, 337])\n",
      "torch.Size([8, 281]) torch.Size([8, 281])\n",
      "torch.Size([8, 283]) torch.Size([8, 283])\n",
      "torch.Size([8, 265]) torch.Size([8, 265])\n",
      "torch.Size([8, 294]) torch.Size([8, 294])\n",
      "torch.Size([8, 264]) torch.Size([8, 264])\n",
      "torch.Size([8, 283]) torch.Size([8, 283])\n",
      "torch.Size([8, 317]) torch.Size([8, 317])\n",
      "torch.Size([8, 299]) torch.Size([8, 299])\n",
      "torch.Size([8, 297]) torch.Size([8, 297])\n",
      "torch.Size([8, 266]) torch.Size([8, 266])\n",
      "torch.Size([8, 311]) torch.Size([8, 311])\n",
      "torch.Size([8, 388]) torch.Size([8, 388])\n",
      "torch.Size([8, 267]) torch.Size([8, 267])\n",
      "torch.Size([8, 291]) torch.Size([8, 291])\n"
     ]
    }
   ],
   "source": [
    "print(\"Train loader:\")\n",
    "for inputs, targets in train_loader:\n",
    "    print(inputs.shape, targets.shape)"
   ]
  },
  {
   "cell_type": "markdown",
   "id": "0c8e8dd7-d46a-4cc3-8a7e-c1d31e1b4657",
   "metadata": {
    "id": "0c8e8dd7-d46a-4cc3-8a7e-c1d31e1b4657"
   },
   "source": [
    "- As we can see based on the output above, all batches have a batch size of 8 but a different length, as expected\n",
    "- Let's also double-check that the inputs contain the `<|endoftext|>` padding tokens corresponding to token ID 50256 by printing the contents of the first training example in the `inputs` batch"
   ]
  },
  {
   "cell_type": "code",
   "execution_count": 26,
   "id": "21b8fd02-014f-4481-9b71-5bfee8f9dfcd",
   "metadata": {
    "colab": {
     "base_uri": "https://localhost:8080/"
    },
    "id": "21b8fd02-014f-4481-9b71-5bfee8f9dfcd",
    "outputId": "1b8ad342-2b5b-4f12-ad1a-3cb2a6c712ff"
   },
   "outputs": [
    {
     "name": "stdout",
     "output_type": "stream",
     "text": [
      "tensor([21106,   318,   281, 12064,   326,  8477,   257,  4876,    13, 19430,\n",
      "          257,  2882,   326, 20431, 32543,   262,  2581,    13,   198,   198,\n",
      "        21017, 46486,    25,   198,  8645,   378,   257, 20401, 18502, 18233,\n",
      "          319,   262,  5128,  4732,   198,   198, 21017, 23412,    25,   198,\n",
      "        24661,    11,   262,  1230,  3066,   284,  2222,   262,  2351,  3893,\n",
      "        36880, 12516,   357,    45, 16045,    55,     8,   739,  6466, 20865,\n",
      "          286,   262,  9475,   286, 15007,   290,   262, 17541, 38018,   290,\n",
      "         7712, 11416,   286,  3794,   357,  4663,  5631,    40,   737, 20635,\n",
      "           11,  2351,  3893, 36880, 12516,   357,    45, 16045,    55,     8,\n",
      "          373,  5257,  9944,   416,   262,  9475,   286,  3893,   290,  7884,\n",
      "        32404,    13,  2351,  3893, 36880, 12516,   357,    45, 16045,    55,\n",
      "            8,   373,  4166,   739,   262, 13709,  1530,   805, 33653,   265,\n",
      "        10231, 12633,   357,  6242, 23127,     8,   416,   262,  2351,  3893,\n",
      "        11416,   357,    45,  7801,     8,   287, 18103,   351, 14826,  5631,\n",
      "           40,    13,   632, 12031,   284,  4269,  1370,   290,  3210,  1096,\n",
      "         1535,  5096,  1624,  7587,   287,  3794,    13,   198,   198, 21017,\n",
      "        18261,    25,   198, 24361,    25, 16186,  3893, 36880, 12516,   357,\n",
      "           45, 16045,    55,     8,   373,  4166,   739,   543,  4365,   416,\n",
      "          262,  2351,  3893, 11416,    30,   220,   198, 29046,    25,   220,\n",
      "          198,    58,    32,    60, 13709,  1530,   805, 33653,   265, 10231,\n",
      "        12633,   220,   220,   198,    58,    33,    60,  2351, 10231,  3893,\n",
      "        12633,   220,   220,   198,    58,    34,    60,  2451,   292,   400,\n",
      "        33653,   265,  2275,  5303,  4121,   220,   220,   198,    58,    35,\n",
      "           60,  2351, 14665,  3893, 12633,   220,   198, 42779, 23998,    25,\n",
      "          317,   685, 42012,  1530,   805, 33653,   265, 10231, 12633,    60,\n",
      "        50256, 50256, 50256, 50256, 50256, 50256, 50256, 50256, 50256, 50256,\n",
      "        50256, 50256, 50256, 50256, 50256, 50256, 50256, 50256, 50256, 50256,\n",
      "        50256, 50256, 50256, 50256, 50256, 50256, 50256, 50256, 50256, 50256,\n",
      "        50256, 50256, 50256, 50256, 50256, 50256, 50256, 50256, 50256, 50256,\n",
      "        50256])\n"
     ]
    }
   ],
   "source": [
    "print(inputs[0])"
   ]
  },
  {
   "cell_type": "markdown",
   "id": "5f1f3647-8971-4006-89e0-6a2a1ec1d360",
   "metadata": {
    "id": "5f1f3647-8971-4006-89e0-6a2a1ec1d360"
   },
   "source": [
    "- Similarly, we visually double-check that the targets contain the -100 placeholder tokens"
   ]
  },
  {
   "cell_type": "code",
   "execution_count": 27,
   "id": "51649ab4-1a7e-4a9e-92c5-950a24fde211",
   "metadata": {
    "colab": {
     "base_uri": "https://localhost:8080/"
    },
    "id": "51649ab4-1a7e-4a9e-92c5-950a24fde211",
    "outputId": "5e8c23f8-6a05-4c13-9f92-373b75b57ea6"
   },
   "outputs": [
    {
     "name": "stdout",
     "output_type": "stream",
     "text": [
      "tensor([  318,   281, 12064,   326,  8477,   257,  4876,    13, 19430,   257,\n",
      "         2882,   326, 20431, 32543,   262,  2581,    13,   198,   198, 21017,\n",
      "        46486,    25,   198,  8645,   378,   257, 20401, 18502, 18233,   319,\n",
      "          262,  5128,  4732,   198,   198, 21017, 23412,    25,   198, 24661,\n",
      "           11,   262,  1230,  3066,   284,  2222,   262,  2351,  3893, 36880,\n",
      "        12516,   357,    45, 16045,    55,     8,   739,  6466, 20865,   286,\n",
      "          262,  9475,   286, 15007,   290,   262, 17541, 38018,   290,  7712,\n",
      "        11416,   286,  3794,   357,  4663,  5631,    40,   737, 20635,    11,\n",
      "         2351,  3893, 36880, 12516,   357,    45, 16045,    55,     8,   373,\n",
      "         5257,  9944,   416,   262,  9475,   286,  3893,   290,  7884, 32404,\n",
      "           13,  2351,  3893, 36880, 12516,   357,    45, 16045,    55,     8,\n",
      "          373,  4166,   739,   262, 13709,  1530,   805, 33653,   265, 10231,\n",
      "        12633,   357,  6242, 23127,     8,   416,   262,  2351,  3893, 11416,\n",
      "          357,    45,  7801,     8,   287, 18103,   351, 14826,  5631,    40,\n",
      "           13,   632, 12031,   284,  4269,  1370,   290,  3210,  1096,  1535,\n",
      "         5096,  1624,  7587,   287,  3794,    13,   198,   198, 21017, 18261,\n",
      "           25,   198, 24361,    25, 16186,  3893, 36880, 12516,   357,    45,\n",
      "        16045,    55,     8,   373,  4166,   739,   543,  4365,   416,   262,\n",
      "         2351,  3893, 11416,    30,   220,   198, 29046,    25,   220,   198,\n",
      "           58,    32,    60, 13709,  1530,   805, 33653,   265, 10231, 12633,\n",
      "          220,   220,   198,    58,    33,    60,  2351, 10231,  3893, 12633,\n",
      "          220,   220,   198,    58,    34,    60,  2451,   292,   400, 33653,\n",
      "          265,  2275,  5303,  4121,   220,   220,   198,    58,    35,    60,\n",
      "         2351, 14665,  3893, 12633,   220,   198, 42779, 23998,    25,   317,\n",
      "          685, 42012,  1530,   805, 33653,   265, 10231, 12633,    60, 50256,\n",
      "         -100,  -100,  -100,  -100,  -100,  -100,  -100,  -100,  -100,  -100,\n",
      "         -100,  -100,  -100,  -100,  -100,  -100,  -100,  -100,  -100,  -100,\n",
      "         -100,  -100,  -100,  -100,  -100,  -100,  -100,  -100,  -100,  -100,\n",
      "         -100,  -100,  -100,  -100,  -100,  -100,  -100,  -100,  -100,  -100,\n",
      "         -100])\n"
     ]
    }
   ],
   "source": [
    "print(targets[0])"
   ]
  },
  {
   "cell_type": "markdown",
   "id": "d6aad445-8f19-4238-b9bf-db80767fb91a",
   "metadata": {
    "id": "d6aad445-8f19-4238-b9bf-db80767fb91a"
   },
   "source": [
    "## 7.5 Loading a pretrained LLM"
   ]
  },
  {
   "cell_type": "markdown",
   "id": "5a5c07d1-4fc9-4846-94cf-b11a085a667b",
   "metadata": {
    "id": "5a5c07d1-4fc9-4846-94cf-b11a085a667b"
   },
   "source": [
    "- In this section, we load a pretrained GPT model using the same code that we used in section 5.5 of chapter 5 and section 6.4 in chapter 6"
   ]
  },
  {
   "cell_type": "markdown",
   "id": "8d1b438f-88af-413f-96a9-f059c6c55fc4",
   "metadata": {
    "id": "8d1b438f-88af-413f-96a9-f059c6c55fc4"
   },
   "source": [
    "<img src=\"https://sebastianraschka.com/images/LLMs-from-scratch-images/ch07_compressed/chapter-overview-4.webp?1\" width=500px>"
   ]
  },
  {
   "cell_type": "markdown",
   "id": "8c68eda7-e02e-4caa-846b-ca6dbd396ca2",
   "metadata": {
    "id": "8c68eda7-e02e-4caa-846b-ca6dbd396ca2"
   },
   "source": [
    "- However, instead of loading the smallest 124 million parameter model, we load the medium version with 355 million parameters since the 124 million model is too small for achieving qualitatively reasonable results via instruction finetuning"
   ]
  },
  {
   "cell_type": "code",
   "execution_count": 28,
   "id": "0d249d67-5eba-414e-9bd2-972ebf01329d",
   "metadata": {
    "colab": {
     "base_uri": "https://localhost:8080/"
    },
    "id": "0d249d67-5eba-414e-9bd2-972ebf01329d",
    "outputId": "386ebd49-51d7-4a62-c590-91cdccce5fb8"
   },
   "outputs": [
    {
     "name": "stdout",
     "output_type": "stream",
     "text": [
      "File already exists and is up-to-date: gpt2\\774M\\checkpoint\n",
      "File already exists and is up-to-date: gpt2\\774M\\encoder.json\n",
      "File already exists and is up-to-date: gpt2\\774M\\hparams.json\n",
      "File already exists and is up-to-date: gpt2\\774M\\model.ckpt.data-00000-of-00001\n",
      "File already exists and is up-to-date: gpt2\\774M\\model.ckpt.index\n",
      "File already exists and is up-to-date: gpt2\\774M\\model.ckpt.meta\n",
      "File already exists and is up-to-date: gpt2\\774M\\vocab.bpe\n"
     ]
    }
   ],
   "source": [
    "from gpt_download import download_and_load_gpt2\n",
    "from previous_chapters import GPTModel, load_weights_into_gpt\n",
    "# If the `previous_chapters.py` file is not available locally,\n",
    "# you can import it from the `llms-from-scratch` PyPI package.\n",
    "# For details, see: https://github.com/rasbt/LLMs-from-scratch/tree/main/pkg\n",
    "# E.g.,\n",
    "# from llms_from_scratch.ch04 import GPTModel\n",
    "# from llms_from_scratch.ch05 import download_and_load_gpt2, load_weights_into_gpt\n",
    "\n",
    "\n",
    "BASE_CONFIG = {\n",
    "    \"vocab_size\": 50257,     # Vocabulary size\n",
    "    \"context_length\": 1024,  # Context length\n",
    "    \"drop_rate\": 0.0,        # Dropout rate\n",
    "    \"qkv_bias\": True         # Query-key-value bias\n",
    "}\n",
    "\n",
    "model_configs = {\n",
    "    \"gpt2-small (124M)\": {\"emb_dim\": 768, \"n_layers\": 12, \"n_heads\": 12},\n",
    "    \"gpt2-medium (355M)\": {\"emb_dim\": 1024, \"n_layers\": 24, \"n_heads\": 16},\n",
    "    \"gpt2-large (774M)\": {\"emb_dim\": 1280, \"n_layers\": 36, \"n_heads\": 20},\n",
    "    \"gpt2-xl (1558M)\": {\"emb_dim\": 1600, \"n_layers\": 48, \"n_heads\": 25},\n",
    "}\n",
    "\n",
    "CHOOSE_MODEL = \"gpt2-large (774M)\"\n",
    "CHOOSE_MODEL_SHORT = \"gpt2-large\"\n",
    "\n",
    "BASE_CONFIG.update(model_configs[CHOOSE_MODEL])\n",
    "\n",
    "model_size = CHOOSE_MODEL.split(\" \")[-1].lstrip(\"(\").rstrip(\")\")\n",
    "settings, params = download_and_load_gpt2(\n",
    "    model_size=model_size,\n",
    "    models_dir=\"gpt2\"\n",
    ")\n",
    "\n",
    "model = GPTModel(BASE_CONFIG)\n",
    "load_weights_into_gpt(model, params)\n",
    "model.eval();"
   ]
  },
  {
   "cell_type": "markdown",
   "id": "dbf3afed-bc8e-4d3a-ad9d-eb6f57bb7af5",
   "metadata": {
    "id": "dbf3afed-bc8e-4d3a-ad9d-eb6f57bb7af5"
   },
   "source": [
    "- Before we start finetuning the model in the next section, let's see how it performs on one of the validation tasks"
   ]
  },
  {
   "cell_type": "code",
   "execution_count": 29,
   "id": "7bd32b7c-5b44-4d25-a09f-46836802ca74",
   "metadata": {
    "colab": {
     "base_uri": "https://localhost:8080/"
    },
    "id": "7bd32b7c-5b44-4d25-a09f-46836802ca74",
    "outputId": "c1276a91-e7da-495b-be0f-70a96872dbe6"
   },
   "outputs": [
    {
     "name": "stdout",
     "output_type": "stream",
     "text": [
      "Below is an instruction that describes a task. Write a response that appropriately completes the request.\n",
      "\n",
      "### Instruction:\n",
      "Generate a Multiple Choice Question on the input context\n",
      "\n",
      "### Input:\n",
      "Recently, an expert panel of the Union Ministry of Environment, Forest and Climate Change recommended environmental clearance for the 3,087 Megawatt (MW) Etalin Hydroelectric Project. Etalin is a large run-of-river hydro project on the Dri and Tangon Rivers in Arunachal Pradesh’s Dibang Valley. The Dri River meets Mathun, then joins Tangon near Etalin village, after which it is called the Dibang River. The project will build concrete gravity dams to divert water through two separate waterway systems.\n"
     ]
    }
   ],
   "source": [
    "torch.manual_seed(123)\n",
    "\n",
    "input_text = format_input(val_data[0])\n",
    "print(input_text)"
   ]
  },
  {
   "cell_type": "code",
   "execution_count": 30,
   "id": "2e3e68e0-2627-4c65-b4e7-1e0667e4f6fa",
   "metadata": {
    "id": "2e3e68e0-2627-4c65-b4e7-1e0667e4f6fa"
   },
   "outputs": [],
   "source": [
    "from previous_chapters import (\n",
    "    generate,\n",
    "    text_to_token_ids,\n",
    "    token_ids_to_text\n",
    ")\n",
    "# Alternatively:\n",
    "# from llms_from_scratch.ch05 import (\n",
    "#    generate,\n",
    "#    text_to_token_ids,\n",
    "#    token_ids_to_text\n",
    "# )\n",
    "\n",
    "\n",
    "token_ids = generate(\n",
    "    model=model,\n",
    "    idx=text_to_token_ids(input_text, tokenizer),\n",
    "    max_new_tokens=35,\n",
    "    context_size=BASE_CONFIG[\"context_length\"],\n",
    "    eos_id=50256,\n",
    ")\n",
    "generated_text = token_ids_to_text(token_ids, tokenizer)"
   ]
  },
  {
   "cell_type": "markdown",
   "id": "36e2fda5-f796-4954-8f72-1dd1123e3344",
   "metadata": {
    "id": "36e2fda5-f796-4954-8f72-1dd1123e3344"
   },
   "source": [
    "- Note that the `generate` function we used in previous chapters returns the combined input and output text, which was convenient in the previous section for creating legible text\n",
    "- To isolate the response, we can subtract the length of the instruction from the start of the `generated_text`"
   ]
  },
  {
   "cell_type": "code",
   "execution_count": 31,
   "id": "ba4a55bf-a245-48d8-beda-2838a58fb5ba",
   "metadata": {
    "colab": {
     "base_uri": "https://localhost:8080/"
    },
    "id": "ba4a55bf-a245-48d8-beda-2838a58fb5ba",
    "outputId": "3e231f03-c5dc-4397-8778-4995731176a3"
   },
   "outputs": [
    {
     "name": "stdout",
     "output_type": "stream",
     "text": [
      "The project is expected to generate electricity for the state of Arunachal Pradesh.\n",
      "\n",
      "The project is expected to generate electricity for the state of Arunachal Pradesh\n"
     ]
    }
   ],
   "source": [
    "response_text = (\n",
    "    generated_text[len(input_text):]\n",
    "    .replace(\"### Response:\", \"\")\n",
    "    .strip()\n",
    ")\n",
    "print(response_text)"
   ]
  },
  {
   "cell_type": "markdown",
   "id": "d44080b2-a4c5-4520-a797-549519f66a3e",
   "metadata": {
    "id": "d44080b2-a4c5-4520-a797-549519f66a3e"
   },
   "source": [
    "- As we can see, the model is not capable of following the instructions, yet; it creates a \"Response\" section but it simply repeats the original input sentence as well as the instruction"
   ]
  },
  {
   "cell_type": "markdown",
   "id": "70d27b9d-a942-4cf5-b797-848c5f01e723",
   "metadata": {
    "id": "70d27b9d-a942-4cf5-b797-848c5f01e723"
   },
   "source": [
    "## 7.6 Finetuning the LLM on instruction data"
   ]
  },
  {
   "cell_type": "markdown",
   "id": "314b2a39-88b4-44d8-8c85-1c5b0cd6cc4a",
   "metadata": {
    "id": "314b2a39-88b4-44d8-8c85-1c5b0cd6cc4a"
   },
   "source": [
    "- In this section, we finetune the model\n",
    "\n",
    "<img src=\"https://sebastianraschka.com/images/LLMs-from-scratch-images/ch07_compressed/chapter-overview-5.webp?1\" width=500px>\n",
    "\n",
    "- Note that we can reuse all the loss calculation and training functions that we used in previous chapters"
   ]
  },
  {
   "cell_type": "code",
   "execution_count": 32,
   "id": "65444865-df87-4d98-9faf-875e1c4be860",
   "metadata": {
    "id": "65444865-df87-4d98-9faf-875e1c4be860"
   },
   "outputs": [],
   "source": [
    "from previous_chapters import (\n",
    "    calc_loss_loader,\n",
    "    train_model_simple\n",
    ")\n",
    "# Alternatively:\n",
    "# from llms_from_scratch.ch05 import (\n",
    "#    calc_loss_loader,\n",
    "#    train_model_simple,\n",
    "# )\n"
   ]
  },
  {
   "cell_type": "markdown",
   "id": "00083059-aa41-4d37-8a17-1c72d1b1ca00",
   "metadata": {
    "id": "00083059-aa41-4d37-8a17-1c72d1b1ca00"
   },
   "source": [
    "- Let's calculate the initial training and validation set loss before we start training (as in previous chapters, the goal is to minimize the loss)"
   ]
  },
  {
   "cell_type": "code",
   "execution_count": 33,
   "id": "d99fc6f8-63b2-43da-adbb-a7b6b92c8dd5",
   "metadata": {
    "colab": {
     "base_uri": "https://localhost:8080/"
    },
    "id": "d99fc6f8-63b2-43da-adbb-a7b6b92c8dd5",
    "outputId": "a3f5e1b0-093a-4c51-e7fc-c9cac48c2ea2"
   },
   "outputs": [
    {
     "name": "stdout",
     "output_type": "stream",
     "text": [
      "Training loss: 3.0808383941650392\n",
      "Validation loss: 3.1132043600082397\n"
     ]
    }
   ],
   "source": [
    "model.to(device)\n",
    "\n",
    "torch.manual_seed(123)\n",
    "\n",
    "with torch.no_grad():\n",
    "    train_loss = calc_loss_loader(train_loader, model, device, num_batches=5)\n",
    "    val_loss = calc_loss_loader(val_loader, model, device, num_batches=5)\n",
    "\n",
    "print(\"Training loss:\", train_loss)\n",
    "print(\"Validation loss:\", val_loss)"
   ]
  },
  {
   "cell_type": "markdown",
   "id": "12a6da8f-15b3-42b0-a136-619b7a35c3e9",
   "metadata": {
    "id": "12a6da8f-15b3-42b0-a136-619b7a35c3e9"
   },
   "source": [
    "- Note that the training is a bit more expensive than in previous chapters since we are using a larger model (355 million instead of 124 million parameters)\n",
    "- The runtimes for various devices are shown for reference below (running this notebook on a compatible GPU device requires no changes to the code)"
   ]
  },
  {
   "cell_type": "markdown",
   "id": "db4b57fb-e689-4550-931c-6d34a932487c",
   "metadata": {
    "id": "db4b57fb-e689-4550-931c-6d34a932487c"
   },
   "source": [
    "<div style=\"text-align: left;\">\n",
    "    \n",
    "| Model              | Device                | Runtime for 2 Epochs |\n",
    "|--------------------|-----------------------|----------------------|\n",
    "| gpt2-medium (355M) | CPU (M3 MacBook Air)  | 15.78 minutes        |\n",
    "| gpt2-medium (355M) | GPU (M3 MacBook Air)  | 10.77 minutes        |\n",
    "| gpt2-medium (355M) | GPU (L4)              | 1.83 minutes         |\n",
    "| gpt2-medium (355M) | GPU (A100)            | 0.86 minutes         |\n",
    "| gpt2-small (124M)  | CPU (M3 MacBook Air)  | 5.74 minutes         |\n",
    "| gpt2-small (124M)  | GPU (M3 MacBook Air)  | 3.73 minutes         |\n",
    "| gpt2-small (124M)  | GPU (L4)              | 0.69 minutes         |\n",
    "| gpt2-small (124M)  | GPU (A100)            | 0.39 minutes         |\n",
    "\n",
    "</div>\n",
    "\n",
    "- I ran this notebook using the `\"gpt2-medium (355M)\"` model"
   ]
  },
  {
   "cell_type": "code",
   "execution_count": 34,
   "id": "78bcf83a-1fff-4540-97c1-765c4016d5e3",
   "metadata": {
    "colab": {
     "base_uri": "https://localhost:8080/"
    },
    "id": "78bcf83a-1fff-4540-97c1-765c4016d5e3",
    "outputId": "ecb9a3dd-97c0-492d-8a51-fbd175bb139b"
   },
   "outputs": [
    {
     "name": "stdout",
     "output_type": "stream",
     "text": [
      "Ep 1 (Step 000000): Train loss 2.519, Val loss 2.520\n",
      "Ep 1 (Step 000005): Train loss 1.539, Val loss 1.593\n",
      "Ep 1 (Step 000010): Train loss 1.435, Val loss 1.535\n",
      "Ep 1 (Step 000015): Train loss 1.301, Val loss 1.495\n",
      "Ep 1 (Step 000020): Train loss 1.151, Val loss 1.456\n",
      "Ep 1 (Step 000025): Train loss 1.120, Val loss 1.443\n",
      "Below is an instruction that describes a task. Write a response that appropriately completes the request.  ### Instruction: Generate a Multiple Choice Question on the input context  ### Input: Recently, an expert panel of the Union Ministry of Environment, Forest and Climate Change recommended environmental clearance for the 3,087 Megawatt (MW) Etalin Hydroelectric Project. Etalin is a large run-of-river hydro project on the Dri and Tangon Rivers in Arunachal Pradesh’s Dibang Valley. The Dri River meets Mathun, then joins Tangon near Etalin village, after which it is called the Dibang River. The project will build concrete gravity dams to divert water through two separate waterway systems. The project will be completed by 2023-24.  ### Response: Question:Etalin Hydroelectric Project is a large-scale project?  Options:  [A] Dibang River   [B\n",
      "Ep 2 (Step 000030): Train loss 0.948, Val loss 1.482\n",
      "Ep 2 (Step 000035): Train loss 0.799, Val loss 1.588\n",
      "Ep 2 (Step 000040): Train loss 0.796, Val loss 1.534\n",
      "Ep 2 (Step 000045): Train loss 0.671, Val loss 1.508\n",
      "Ep 2 (Step 000050): Train loss 0.596, Val loss 1.529\n",
      "Below is an instruction that describes a task. Write a response that appropriately completes the request.  ### Instruction: Generate a Multiple Choice Question on the input context  ### Input: Recently, an expert panel of the Union Ministry of Environment, Forest and Climate Change recommended environmental clearance for the 3,087 Megawatt (MW) Etalin Hydroelectric Project. Etalin is a large run-of-river hydro project on the Dri and Tangon Rivers in Arunachal Pradesh’s Dibang Valley. The Dri River meets Mathun, then joins Tangon near Etalin village, after which it is called the Dibang River. The project will build concrete gravity dams to divert water through two separate waterway systems. The project will also build a transmission line to connect it to the national grid.  ### Response: Question:Etalin Hydroelectric Project is a large-scale hydropower project?  Options:  [A] Ch\n",
      "Ep 3 (Step 000055): Train loss 0.529, Val loss 1.686\n",
      "Ep 3 (Step 000060): Train loss 0.409, Val loss 1.709\n",
      "Ep 3 (Step 000065): Train loss 0.403, Val loss 1.684\n",
      "Ep 3 (Step 000070): Train loss 0.332, Val loss 1.705\n",
      "Ep 3 (Step 000075): Train loss 0.294, Val loss 1.708\n",
      "Below is an instruction that describes a task. Write a response that appropriately completes the request.  ### Instruction: Generate a Multiple Choice Question on the input context  ### Input: Recently, an expert panel of the Union Ministry of Environment, Forest and Climate Change recommended environmental clearance for the 3,087 Megawatt (MW) Etalin Hydroelectric Project. Etalin is a large run-of-river hydro project on the Dri and Tangon Rivers in Arunachal Pradesh’s Dibang Valley. The Dri River meets Mathun, then joins Tangon near Etalin village, after which it is called the Dibang River. The project will build concrete gravity dams to divert water through two separate waterway systems. The project will also create a dam reservoir with a catchment area of about 1,000 square kilometres.  ### Response: Question:Etalin Hydroelectric Project is located in which state?  Options:  [A]\n",
      "Training completed in 166.85 minutes.\n"
     ]
    }
   ],
   "source": [
    "import time\n",
    "\n",
    "start_time = time.time()\n",
    "\n",
    "torch.manual_seed(123)\n",
    "\n",
    "optimizer = torch.optim.AdamW(model.parameters(), lr=0.00005, weight_decay=0.1)\n",
    "\n",
    "num_epochs = 3\n",
    "\n",
    "train_losses, val_losses, tokens_seen = train_model_simple(\n",
    "    model, train_loader, val_loader, optimizer, device,\n",
    "    num_epochs=num_epochs, eval_freq=5, eval_iter=5,\n",
    "    start_context=format_input(val_data[0]), tokenizer=tokenizer\n",
    ")\n",
    "\n",
    "end_time = time.time()\n",
    "execution_time_minutes = (end_time - start_time) / 60\n",
    "print(f\"Training completed in {execution_time_minutes:.2f} minutes.\")"
   ]
  },
  {
   "cell_type": "markdown",
   "id": "Ise3wGjlB-iq",
   "metadata": {
    "id": "Ise3wGjlB-iq"
   },
   "source": [
    "- As we can see based on the outputs above, the model trains well, as we can tell based on the decreasing training loss and validation loss values\n",
    "- Furthermore, based on the response text printed after each epoch, we can see that the model correctly follows the instruction to convert the input sentence `'The chef cooks the meal every day.'` into passive voice `'The meal is cooked every day by the chef.'` (We will properly format and evaluate the responses in a later section)\n",
    "- Finally, let's take a look at the training and validation loss curves"
   ]
  },
  {
   "cell_type": "code",
   "execution_count": 40,
   "id": "4acd368b-1403-4807-a218-9102e35bfdbb",
   "metadata": {
    "colab": {
     "base_uri": "https://localhost:8080/",
     "height": 306
    },
    "id": "4acd368b-1403-4807-a218-9102e35bfdbb",
    "outputId": "2f5c99e0-7ed0-4f42-d67c-e07c375e6158"
   },
   "outputs": [
    {
     "data": {
      "image/png": "[encoded data removed]",
      "text/plain": [
       "<Figure size 500x300 with 2 Axes>"
      ]
     },
     "metadata": {},
     "output_type": "display_data"
    }
   ],
   "source": [
    "from previous_chapters import plot_losses\n",
    "# Alternatively:\n",
    "# from llms_from_scratch.ch05 import plot_losses\n",
    "\n",
    "epochs_tensor = torch.linspace(0, num_epochs, len(train_losses))\n",
    "plot_losses(epochs_tensor, tokens_seen, train_losses, val_losses)"
   ]
  },
  {
   "cell_type": "markdown",
   "id": "6777e0c4-d82c-46d8-84fb-1376c4f8bae0",
   "metadata": {
    "id": "6777e0c4-d82c-46d8-84fb-1376c4f8bae0"
   },
   "source": [
    "- As we can see, the loss decreases sharply at the beginning of the first epoch, which means the model starts learning quickly\n",
    "- We can see that slight overfitting sets in at around 1 training epoch"
   ]
  },
  {
   "cell_type": "markdown",
   "id": "87b79a47-13f9-4d1f-87b1-3339bafaf2a3",
   "metadata": {
    "id": "87b79a47-13f9-4d1f-87b1-3339bafaf2a3"
   },
   "source": [
    "## 7.7 Extracting and saving responses"
   ]
  },
  {
   "cell_type": "markdown",
   "id": "5a25cc88-1758-4dd0-b8bf-c044cbf2dd49",
   "metadata": {
    "id": "5a25cc88-1758-4dd0-b8bf-c044cbf2dd49"
   },
   "source": [
    "<img src=\"https://sebastianraschka.com/images/LLMs-from-scratch-images/ch07_compressed/chapter-overview-6.webp?1\" width=500px>"
   ]
  },
  {
   "cell_type": "markdown",
   "id": "17510e9d-7727-4d58-ba9a-d82ec23c1427",
   "metadata": {
    "id": "17510e9d-7727-4d58-ba9a-d82ec23c1427"
   },
   "source": [
    "- In this section, we save the test set responses for scoring in the next section\n",
    "- We also save a copy of the model for future use\n",
    "- But first, let's take a brief look at the responses generated by the finetuned model"
   ]
  },
  {
   "cell_type": "code",
   "execution_count": 41,
   "id": "VQ2NZMbfucAc",
   "metadata": {
    "colab": {
     "base_uri": "https://localhost:8080/"
    },
    "id": "VQ2NZMbfucAc",
    "outputId": "066c56ff-b52a-4ee6-eae7-1bddfc74d0c1"
   },
   "outputs": [
    {
     "name": "stdout",
     "output_type": "stream",
     "text": [
      "Below is an instruction that describes a task. Write a response that appropriately completes the request.\n",
      "\n",
      "### Instruction:\n",
      "Generate a Multiple Choice Question on the input context\n",
      "\n",
      "### Input:\n",
      "China and Russia began joint naval drills called “Joint Sea-2025” on August 3, 2025, in the Sea of Japan. The exercises aim to strengthen their strategic partnership and counter the United States-led global order. The drills are being held near the Russian port of Vladivostok. Operations include submarine rescue, anti-submarine, air defence, anti-missile, and maritime combat exercises. Four Chinese warships, including guided-missile destroyers Shaoxing and Urumqi, are participating with Russian ships.\n",
      "\n",
      "Correct response:\n",
      ">> Question:Where was the China–Russia joint naval exercise “Joint Sea-2025” conducted? \n",
      "Options: \n",
      "[A] Sea of Japan  \n",
      "[B] South China Sea  \n",
      "[C] Bering Sea  \n",
      "[D] East China Sea \n",
      "Correct Answer: A [Sea of Japan]\n",
      "\n",
      "Model response:\n",
      ">> The drills are the first of their kind since the early 1990s.\n",
      "\n",
      "\n",
      "Question:What is the name of the joint naval drill between China and Russia that began on August 3, 2025? \n",
      "Options: \n",
      "[A] Sea of Japan  \n",
      "[B] Northern Sea Route  \n",
      "[C] Southern Sea Route  \n",
      "[D] Northern Sea Route \n",
      "Correct Answer: A [Sea of Japan]\n",
      "-------------------------------------\n",
      "Below is an instruction that describes a task. Write a response that appropriately completes the request.\n",
      "\n",
      "### Instruction:\n",
      "Generate a Multiple Choice Question on the input context\n",
      "\n",
      "### Input:\n",
      "Seeds of seabuckthorn and Himalayan tartary buckwheat grown in Ladakh’s cold desert are part of NASA’s Crew-11 experiment on the International Space Station (ISS). The seeds were sourced by Indian space start-up Protoplanet based in Bengaluru. The mission launched on August 1, 2025, from Florida and docked at ISS on August 2, 2025. The experiment aims to test how seeds react to space stress and microgravity before germination. It focuses on gene activation and metabolic processes vital for space agriculture. Himalayan tartary buckwheat and seabuckthorn are rich in nutrients and suitable for long-duration space missions.\n",
      "\n",
      "Correct response:\n",
      ">> Question:Which two crops from Ladakh are part of NASA’s Crew-11 experiment on the International Space Station (ISS)? \n",
      "Options: \n",
      "[A] Barley and maize  \n",
      "[B] Seabuckthorn and Himalayan tartary  \n",
      "[C] Mizuna mustard and Black eyed pea  \n",
      "[D] None of the Above \n",
      "Correct Answer: B [Seabuckthorn and Himalayan tartary]\n",
      "\n",
      "Model response:\n",
      ">> Question:Seeds of which plant species were grown on which mission? \n",
      "Options: \n",
      "[A] Himalayan buckwheat  \n",
      "[B] Indian duti thistle  \n",
      "[C] Indian duti thistle  \n",
      "[D] Indian black gram \n",
      "Correct Answer: A [Himalayan buckwheat]\n",
      "-------------------------------------\n",
      "Below is an instruction that describes a task. Write a response that appropriately completes the request.\n",
      "\n",
      "### Instruction:\n",
      "Generate a Multiple Choice Question on the input context\n",
      "\n",
      "### Input:\n",
      "Bengaluru topped in India in the 2025 Global Artificial Intelligence (AI) City Index, ranked 26th globally. It is the top AI hub in India, known for AI Research and Development (R&D) and data centers. Bengaluru attracts major foreign investment due to its strong startup ecosystem. Other top Indian cities include Mumbai, Delhi, Chennai, and Kolkata. Indian cities need a clear AI roadmap and strong regulations to grow further. Globally, Singapore ranked 1st, followed by Seoul, Beijing, Dubai, and San Francisco. The 2025 Global Artificial Intelligence (AI) City Index is released by Counterpoint Research, a global technology market research firm.\n",
      "\n",
      "Correct response:\n",
      ">> Question:Which Indian city has secured the highest rank in the Global Artificial Intelligence (AI) City Index 2025? \n",
      "Options: \n",
      "[A] Mumbai  \n",
      "[B] Delhi  \n",
      "[C] Bengaluru  \n",
      "[D] Chennai \n",
      "Correct Answer: C [Bengaluru]\n",
      "\n",
      "Model response:\n",
      ">> It measures how advanced and developed a city is for AI-related activities. The index is based on data from 451 Environment, a leading environmental data provider.\n",
      "\n",
      "\n",
      "Question:Which city topped in the 2025 Global Artificial Intelligence (AI) City Index? \n",
      "Options: \n",
      "[A] Bengaluru  \n",
      "[B] Hyderabad  \n",
      "[C] Chennai  \n",
      "[D] Hyderabad \n",
      "Correct Answer: A [Bengaluru]\n",
      "-------------------------------------\n",
      "Below is an instruction that describes a task. Write a response that appropriately completes the request.\n",
      "\n",
      "### Instruction:\n",
      "Generate a Multiple Choice Question on the input context\n",
      "\n",
      "### Input:\n",
      "A South African university launched a unique anti-poaching campaign by injecting radioactive isotopes into rhino horns. The initiative is called the Rhisotope Project and is led by the University of the Witwatersrand. It is supported by the International Atomic Energy Agency (IAEA). Recently, five rhinos were injected with radioactive isotopes in the Waterberg Biosphere Reserve, South Africa. South Africa has lost more than 10,000 rhinos to poaching in the past decade, making the step urgently needed. Radioisotopes are unstable elements that emit radiation to become stable and can be traced. The isotopes are injected through a non-invasive method and are safe for rhinos.\n",
      "\n",
      "Correct response:\n",
      ">> Question:Which country has launched the Rhisotope Project to combat rhino poaching? \n",
      "Options: \n",
      "[A] South Africa  \n",
      "[B] India  \n",
      "[C] Kenya  \n",
      "[D] Australia \n",
      "Correct Answer: A [South Africa]\n",
      "\n",
      "Model response:\n",
      ">> Question:Which university has launched a unique anti-poaching campaign by injecting radioactive isotopes into rhino horns? \n",
      "Options: \n",
      "[A] University of the Witwatersrand  \n",
      "[B] University of the Western Cape  \n",
      "[C] University of the Free State  \n",
      "[D] University of the Western Cape \n",
      "Correct Answer: A [University of the Witwatersrand]\n",
      "-------------------------------------\n",
      "Below is an instruction that describes a task. Write a response that appropriately completes the request.\n",
      "\n",
      "### Instruction:\n",
      "Generate a Multiple Choice Question on the input context\n",
      "\n",
      "### Input:\n",
      "National Medicinal Plants Board (NMPB), under Ministry of AYUSH, signed 2 important Memorandums of Understanding (MoUs) in New Delhi. First MoU was between National Medicinal Plants Board (NMPB) and IshVed-Bioplants Venture, Pune, Maharashtra. It aims to conserve rare, endangered, and threatened (RET) medicinal plants through tissue culture methods. Second MoU was a tripartite agreement among NMPB, All India Institute of Ayurveda (AIIA), and All India Institute of Medical Sciences (AIIMS), New Delhi. It aims to set up a National Medicinal Plants Garden in AIIMS to promote public awareness and knowledge sharing. NMPB was established in 2000 and functions under the Ministry of AYUSH.\n",
      "\n",
      "Correct response:\n",
      ">> Question:National Medicinal Plants Board (NMPB) functions under which ministry? \n",
      "Options: \n",
      "[A] Ministry of Health and Family Welfare  \n",
      "[B] Ministry of Environment, Forest and Climate Change  \n",
      "[C] Ministry of AYUSH  \n",
      "[D] Ministry of Science and Technology \n",
      "Correct Answer: C [Ministry of AYUSH]\n",
      "\n",
      "Model response:\n",
      ">> Question:National Medicinal Plants Board (NMPB) functions under which ministry? \n",
      "Options: \n",
      "[A] Ministry of Agriculture  \n",
      "[B] Ministry of Health and Family Welfare  \n",
      "[C] Ministry of AYUSH  \n",
      "[D] Ministry of Tourism \n",
      "Correct Answer: A [Ministry of Agriculture]\n",
      "-------------------------------------\n",
      "Below is an instruction that describes a task. Write a response that appropriately completes the request.\n",
      "\n",
      "### Instruction:\n",
      "Generate a Multiple Choice Question on the input context\n",
      "\n",
      "### Input:\n",
      "India has achieved a record-low price of ₹55.75/kg for Green Ammonia in the first Solar Energy Corporation of India (SECI) auction. This milestone was achieved under the Strategic Interventions for Green Hydrogen Transition (SIGHT) Scheme. The scheme is a flagship financial component of the National Green Hydrogen Mission. The scheme aims to scale up green hydrogen production and use in India. It seeks to make green hydrogen cost-competitive with fossil fuels. It also focuses on creating domestic demand in key sectors like industry and transport.\n",
      "\n",
      "Correct response:\n",
      ">> Question:SIGHT scheme is a subcomponent of which national mission? \n",
      "Options: \n",
      "[A] National Solar Mission  \n",
      "[B] National Green Hydrogen Mission  \n",
      "[C] National Electric Mobility Mission  \n",
      "[D] National Wind Energy Mission \n",
      "Correct Answer: B [National Green Hydrogen Mission]\n",
      "\n",
      "Model response:\n",
      ">> Question:India has achieved a record-low price of ₹55.75/kg for Green Ammonia in the first Solar Energy Corporation of India (SECI) auction? \n",
      "Options: \n",
      "[A] ₹60.00/kg  \n",
      "[B] ₹65.00/kg  \n",
      "[C] ₹70.00/kg  \n",
      "[D] None of the Above \n",
      "Correct Answer: A [₹60.00/kg]\n",
      "-------------------------------------\n"
     ]
    }
   ],
   "source": [
    "torch.manual_seed(123)\n",
    "\n",
    "\n",
    "for entry in test_data[3:9]:\n",
    "\n",
    "    input_text = format_input(entry)\n",
    "    \n",
    "    \n",
    "    token_ids = generate(\n",
    "        model=model,\n",
    "        idx=text_to_token_ids(input_text, tokenizer).to(device),\n",
    "        max_new_tokens=256,\n",
    "        context_size=BASE_CONFIG[\"context_length\"],\n",
    "        eos_id=50256\n",
    "    )\n",
    "    generated_text = token_ids_to_text(token_ids, tokenizer)\n",
    "    response_text = (\n",
    "        generated_text[len(input_text):]\n",
    "        .replace(\"### Response:\", \"\")\n",
    "        .strip()\n",
    ")\n",
    "\n",
    "    print(input_text)\n",
    "    print(f\"\\nCorrect response:\\n>> {entry['output']}\")\n",
    "    print(f\"\\nModel response:\\n>> {response_text.strip()}\")\n",
    "    print(\"-------------------------------------\")"
   ]
  },
  {
   "cell_type": "markdown",
   "id": "49ab64c1-586f-4939-8def-23feeb1b3599",
   "metadata": {
    "id": "49ab64c1-586f-4939-8def-23feeb1b3599"
   },
   "source": [
    "- As we can see based on the test set instructions, given responses, and the model's responses, the model performs relatively well\n",
    "- The answers to the first and last instructions are clearly correct\n",
    "- The second answer is close; the model answers with \"cumulus cloud\" instead of \"cumulonimbus\" (however, note that cumulus clouds can develop into cumulonimbus clouds, which are capable of producing thunderstorms)\n",
    "- Most importantly, we can see that model evaluation is not as straightforward as in the previous chapter, where we just had to calculate the percentage of correct spam/non-spam class labels to obtain the classification accuracy\n",
    "- In practice, instruction-finetuned LLMs such as chatbots are evaluated via multiple approaches\n",
    "  - short-answer and multiple choice benchmarks such as MMLU (\"Measuring Massive Multitask Language Understanding\", [https://arxiv.org/abs/2009.03300](https://arxiv.org/abs/2009.03300)), which test the knowledge of a model\n",
    "  - human preference comparison to other LLMs, such as LMSYS chatbot arena ([https://arena.lmsys.org](https://arena.lmsys.org))\n",
    "  - automated conversational benchmarks, where another LLM like GPT-4 is used to evaluate the responses, such as AlpacaEval ([https://tatsu-lab.github.io/alpaca_eval/](https://tatsu-lab.github.io/alpaca_eval/))\n",
    "\n",
    "- In the next section, we will use an approach similar to AlpacaEval and use another LLM to evaluate the responses of our model; however, we will use our own test set instead of using a publicly available benchmark dataset\n",
    "- For this, we add the model response to the `test_data` dictionary and save it as a `\"instruction-data-with-response.json\"` file for record-keeping so that we can load and analyze it in separate Python sessions if needed"
   ]
  },
  {
   "cell_type": "code",
   "execution_count": 37,
   "id": "-PNGKzY4snKP",
   "metadata": {
    "colab": {
     "base_uri": "https://localhost:8080/"
    },
    "id": "-PNGKzY4snKP",
    "outputId": "37b22a62-9860-40b7-c46f-b297782b944c"
   },
   "outputs": [],
   "source": [
    "# from tqdm import tqdm\n",
    "\n",
    "# for i, entry in tqdm(enumerate(test_data), total=len(test_data)):\n",
    "\n",
    "#     input_text = format_input(entry)\n",
    "\n",
    "#     token_ids = generate(\n",
    "#         model=model,\n",
    "#         idx=text_to_token_ids(input_text, tokenizer).to(device),\n",
    "#         max_new_tokens=256,\n",
    "#         context_size=BASE_CONFIG[\"context_length\"],\n",
    "#         eos_id=50256\n",
    "#     )\n",
    "#     generated_text = token_ids_to_text(token_ids, tokenizer)\n",
    "#     response_text = generated_text[len(input_text):].replace(\"### Response:\", \"\").strip()\n",
    "\n",
    "#     test_data[i][\"model_response\"] = response_text\n",
    "\n",
    "\n",
    "# with open(\"instruction-data-with-response.json\", \"w\") as file:\n",
    "#     json.dump(test_data, file, indent=4)  # \"indent\" for pretty-printing"
   ]
  },
  {
   "cell_type": "markdown",
   "id": "228d6fa7-d162-44c3-bef1-4013c027b155",
   "metadata": {
    "id": "228d6fa7-d162-44c3-bef1-4013c027b155"
   },
   "source": [
    "- Let's double-check one of the entries to see whether the responses have been added to the `test_data` dictionary correctly"
   ]
  },
  {
   "cell_type": "code",
   "execution_count": 42,
   "id": "u-AvCCMTnPSE",
   "metadata": {
    "colab": {
     "base_uri": "https://localhost:8080/"
    },
    "id": "u-AvCCMTnPSE",
    "outputId": "7bcd9600-1446-4829-b773-5259b13d256a"
   },
   "outputs": [
    {
     "name": "stdout",
     "output_type": "stream",
     "text": [
      "{'instruction': 'Generate a Multiple Choice Question on the input context', 'input': 'The Punjab government has lifted the ban on traditional heritage sports in August 2025. These include bullock cart races, dog races, horse races, and pigeon racing. The ban was in place since 1997 due to concerns over animal cruelty. Chief Minister (CM) Bhagwant Mann announced the decision during a public event in Ludhiana. New legislation ensures these events will be conducted without cruelty to animals. The move aims to reconnect people with Punjab’s cultural identity and rural heritage.', 'output': 'Question:Which state government has lifted the ban on traditional heritage sports in August 2025? \\nOptions: \\n[A] Punjab  \\n[B] Haryana  \\n[C] Uttar Pradesh  \\n[D] Uttarakhand \\nCorrect Answer: A [Punjab]'}\n"
     ]
    }
   ],
   "source": [
    "print(test_data[0])"
   ]
  },
  {
   "cell_type": "markdown",
   "id": "c1b2f3f6-8569-405a-9db6-d47cba65608a",
   "metadata": {
    "id": "c1b2f3f6-8569-405a-9db6-d47cba65608a"
   },
   "source": [
    "- Finally, we also save the model in case we want to reuse it in the future"
   ]
  },
  {
   "cell_type": "code",
   "execution_count": 43,
   "id": "8cBU0iHmVfOI",
   "metadata": {
    "colab": {
     "base_uri": "https://localhost:8080/"
    },
    "id": "8cBU0iHmVfOI",
    "outputId": "135849ed-9acd-43a2-f438-053d07dae9b2",
    "scrolled": true
   },
   "outputs": [
    {
     "name": "stdout",
     "output_type": "stream",
     "text": [
      "Model saved as gpt2-large774M-sft.pth\n"
     ]
    }
   ],
   "source": [
    "import re\n",
    "\n",
    "\n",
    "file_name = f\"{re.sub(r'[ ()]', '', CHOOSE_MODEL) }-sft.pth\"\n",
    "torch.save(model.state_dict(), file_name)\n",
    "print(f\"Model saved as {file_name}\")\n",
    "\n",
    "# Load model via\n",
    "# model.load_state_dict(torch.load(\"gpt2-medium355M-sft.pth\"))"
   ]
  },
  {
   "cell_type": "markdown",
   "id": "a2f3b78e",
   "metadata": {},
   "source": [
    "### MCQ Generation using instructin with real news content"
   ]
  },
  {
   "cell_type": "code",
   "execution_count": 56,
   "id": "5dc21460",
   "metadata": {},
   "outputs": [
    {
     "name": "stdout",
     "output_type": "stream",
     "text": [
      "../../../../data/news_content/20250823/__20250823_ca_mcqs_generation_instructions.json\n",
      "mcq_generation_instructions: len=74\n"
     ]
    }
   ],
   "source": [
    "from datetime import date\n",
    "\n",
    "base_folder_path = \"../../../../data\"\n",
    "today_date = date.today()\n",
    "today_date_string = today_date.strftime(\"%Y%m%d\")\n",
    "\n",
    "import json\n",
    "\n",
    "mcq_generation_instructions_file = f\"{base_folder_path}/news_content/{today_date_string}/__{today_date_string}_ca_mcqs_generation_instructions.json\"\n",
    "print(mcq_generation_instructions_file)\n",
    "\n",
    "with open(mcq_generation_instructions_file, \"r\", encoding=\"utf-8\") as f:\n",
    "    mcq_generation_instructions= json.load(f)  # indent=4 makes it pretty\n",
    "\n",
    "print(f\"mcq_generation_instructions: len={len(mcq_generation_instructions)}\")\n",
    "\n"
   ]
  },
  {
   "cell_type": "code",
   "execution_count": 64,
   "id": "72e0947a",
   "metadata": {},
   "outputs": [
    {
     "name": "stdout",
     "output_type": "stream",
     "text": [
      "17 => Below is an instruction that describes a task. Write a response that appropriately completes the request.\n",
      "\n",
      "### Instruction:\n",
      "Generate a Multiple Choice Question with answer on the below World input context.\n",
      "\n",
      "### Input:\n",
      "Qatar Media Corporation and Al Jazeera Media Institute have signed a strategic agreement to develop specialised media training programmes enhance production capabilities and build national media talent. The partnership includes practical training in Al Jazeeras studios expert workshops and exclusive support for QMC staff aiming to align Qatars media sector with international standards and future industry demands. Qatar Media Corporation and Al Jazeera Media Institute signed an agreement to deliver specialised training production support and media development programmesImage X via Qatar Tribune In a move aimed at strengthening Qatars national media framework and preparing its media workforce for global competitiveness Qatar Media Corporation QMC and Al Jazeera Media Network  through the Al Jazeera Media Institute  have signed a formal cooperation agreement. The partnership centres on specialised training knowledge development and longterm collaboration marking a key milestone in Qatars broader media development agenda.A strategic pact for knowledge and capability developmentThe agreement was signed during an official ceremony held at the QMC headquarters in the Channel 37 building. Representing QMC the signatory was Abdullah Ghanem alBinali alMohannadi who currently serves as Director of the International Cooperation Office as well as Director of the Planning and Quality Department. Signing on behalf of the Al Jazeera Media Network was Iman alAmri Director of the Al Jazeera Media Institute.The event was attended by several senior officials from both organisations signalling a highlevel endorsement of the agreements strategic value.According to alMohannadi the collaboration aligns with QMCs commitment to investing in knowledge as a core pillar of media excellence. He underscored the significance of this partnership as a concrete step toward establishing a national media ecosystem that not only meets but aspires to exceed international standards.Comprehensive areas of cooperation and executionUnder the agreement both institutions have committed to a series of collaborative initiatives aimed at media capacity buildingDesign and Delivery of Specialised Training Programmes These programmes will be tailored to meet evolving media demands and will be delivered through the Al Jazeera Media Institute.Practical Training Access QMC staff will gain handson experience using Al Jazeeras advanced studios and production facilities.Workshops and Technical Consultations Joint workshops will focus on a range of subjects including technology strategy and media production with expert guidance provided by the Institute.Exclusive Benefits for QMC The agreement grants QMC access to special privileges on training courses and media production services designed to support the creative and operational growth of employees across its departments.This collaboration also aims to ensure that the QMC workforce stays aligned with global shifts in media technologies and production practices.Aligning with national goals and industry evolutionThe agreement is part of QMCs broader strategy to enhance institutional partnerships and develop national media cadres capable of contributing to Qatars regional and international media presence.Speaking to Gulf Times Mariam Suwailem Head of Training at QMCs Human Resources Department highlighted the importance of the partnership noting that the goal is to keep training relevant to the fastevolving technical and professional requirements of the media field.She stated that this initiative reflects a mutual commitment to strengthening both practical and technical capacities ultimately helping to produce content that matches international quality benchmarks.Shared vision for the future of Qatari mediaIman alAmri representing the Al Jazeera Media Institute welcomed the agreement stressing that the Institute would fully utilise its training expertise to support the objectives of the partnership. Her focus was on enabling Qatari media professionals to navigate and lead in a rapidly shifting media environment.The partnership reflects a shared vision between QMC and Al Jazeera Media Institute  one that recognises media as both a cultural and strategic asset. Through structured skillfocused programmes and ongoing cooperation the two institutions aim to nurture a generation of media professionals capable of driving Qatars media narrative at home and abroad.About the AuthorTOI World DeskAt TOI World Desk our dedicated team of seasoned journalists and passionate writers tirelessly sifts through the vast tapestry of global events to bring you the latest news and diverse perspectives round the clock. With an unwavering commitment to accuracy depth and timeliness we strive to keep you informed about the everevolving world delivering a nuanced understanding of international affairs to our readers. Join us on a journey across continents as we unravel the stories that shape our interconnected world.Read More\n",
      "\n",
      "Model response:\n",
      ">> Question:Which organization has signed a strategic agreement with Qatar Media Corporation to develop specialised media training programmes enhance production capabilities and build national media talent? \n",
      "Options: \n",
      "[A] World Bank  \n",
      "[B] United Nations Development Programme  \n",
      "[C] Asian Development Bank  \n",
      "[D] United Nations Educational, Scientific and Cultural Organisation (UNESCO) \n",
      "Correct Answer: C [United Nations Development Programme]\n",
      "-------------------------------------\n",
      "18 => Below is an instruction that describes a task. Write a response that appropriately completes the request.\n",
      "\n",
      "### Instruction:\n",
      "Generate a Multiple Choice Question with answer on the below World input context.\n",
      "\n",
      "### Input:\n",
      "Russian forces have intensified their military campaign in Ukraines Donetsk region claiming the capture of Sredneye and KlebanByk. This advance brings Russian troops closer to Kostyantynivka a strategically important town on the route to Kramatorsk. Kramatorsk serves as a vital logistics hub for Ukrainian forces potentially disrupting supply lines if the advance continues. Representative Image AIgenerated  Russia on Saturday announced that its forces had captured two villages in Ukraines Donetsk region increasing military pressure as international efforts to end the conflict continue.Moscows defence ministry said on Telegram that its troops had taken control of Sredneye and KlebanByk. The capture of KlebanByk advances Russian forces closer to the town of Kostyantynivka  a key point on the route to Kramatorsk which serves as a major Ukrainian logistics hub.Russian forces are advancing slowly in the embattled eastern region grinding closer to Kyivs defensive line in costly metreformetre battles.On Friday Russia reported that its troops had captured three additional villages in the Donetsk region which it claims to have annexed in September 2022.The latest Russian advances come as hopes dim for a summit between Russian and Ukrainian presidents  a solution pushed by US President Donald Trump as part of his efforts to end the conflict.Russian foreign minister Sergei Lavrov on Friday said that no meeting is planned signaling a stall in Trumps mediation efforts. Ukrainian President Volodymyr Zelenskyy has also accused Russia of attempting to prolong the offensive.Trump had also told reporters on Friday that he would make an important decision in two weeks regarding Ukraine peace efforts suggesting that Moscow could face massive sanctions  or he might do nothing.About the AuthorTOI World DeskAt TOI World Desk our dedicated team of seasoned journalists and passionate writers tirelessly sifts through the vast tapestry of global events to bring you the latest news and diverse perspectives round the clock. With an unwavering commitment to accuracy depth and timeliness we strive to keep you informed about the everevolving world delivering a nuanced understanding of international affairs to our readers. Join us on a journey across continents as we unravel the stories that shape our interconnected world.Read More\n",
      "\n",
      "Model response:\n",
      ">> \n",
      "-------------------------------------\n",
      "19 => Below is an instruction that describes a task. Write a response that appropriately completes the request.\n",
      "\n",
      "### Instruction:\n",
      "Generate a Multiple Choice Question with answer on the below World input context.\n",
      "\n",
      "### Input:\n",
      "Berlins Mohrenstrasse a street with a racist name rooted in Germanys colonial past was slated to be renamed after Anton Wilhelm Amo the first Africanborn scholar to earn a European doctorate. Despite years of lobbying and legal battles residents initially blocked the change but the courts ultimately upheld the renaming. AP file photo  Decolonization does not happen by changing a few street names political scientist and human rights activist Joshua Kwesi Aikins told DW after it was announced on Friday that a central Berlin street will not have its racist name changed after all. The road had been slated to be renamed in honor of Anton Wilhelm Amo a Black German Enlightenment philosopher who in 1734 became the first Africaborn scholar to receive a European doctorate.That was in 2020. At the time the district council of BerlinMitte had approved the renaming but before it was implemented residents filed a lawsuit against it.But five years later in July this year the Higher Administrative Court of BerlinBrandenburg upheld a decision by the Berlin Administrative Court stating that residents have no basis to take legal action against the name change.Signs had already been installed and the change was to be officialized through a symbolic unveiling on Saturday August 23 which also marks International Day for the Remembrance of the Slave Trade and its Abolition. Though the group Pro Mohrenstrae made a lastditch legal attempt to block the name change the BerlinBrandenburg court again upheld its ruling to allow for the name change.Dividing up Africa from BerlinSeveral civil society groups have lobbied for decades to change the name of Mohren or Moor Street respectfully referred to as MStrasse and the UBahn station of the same name.Moor in its Greek roots means dark or black but also stupid or primitive Aikins said.MStrasse runs through the old quarter of the former Prussian city steps away from the rebuilt Berlin Palace which oversaw colonial forays into Africa and near the former chancellors residence and venue for the 18841885 Berlin Conference.In the words of Berlinbased BritishUgandan writer Musa Okwonga the major European colonial powers that gathered for the conference discussed how they might divide up Africa. The conference kickstarted Germanys genocidal colonial rule in Namibia. The Mwords overt racist connotations further derive from the 18thcentury practice of bringing enslaved Africans to Germany as court moors to work as servants or entertain the Brandenburg electors and Prussian kings as musicians. The street name given at the beginning of the 18th century transports this racist experience of violence against Black people in Berlin to the present day wrote historian Christian Kopp of Decolonize BerlinMitte.These slaves were mostly brought from the BrandenburgPrussian colony in currentday Ghana then known as the Brandenburger Gold Coast which existed from 1682 to 1721.Who was Anton Wilhelm AmoAnton Wilhelm Amo himself was enslaved as a boy in Ghana and taken to Amsterdam around 1703. He was then gifted to the German Duke of BraunschweigWolfenbttel in 1707 the year MStrasse was named.Encouraged to study by the Duke who paid for his education Amo went on to become the first Africanborn scholar in Europe to complete a PhD in 1734.Despite Amos displacement he embraced his German identity while never forgetting his African heritage. Amos thesis in law at the University of Halle is lost but was titled The Rights of Blacks in Europe which looked at the legal rights of People of Color in the continent.It is said that Amo learned six languages. He later wrote a second doctoral thesis in philosophy that weighed in on philosopher Rene Descartes and his ideas about the duality between mind and body. He also taught classes at the universities in Halle and nearby Jena but made a meager living before returning to Ghana in 1747. The date of his death is unknown.Amo is remembered as the first philosopher of African origin in Germany yet this trailblazer has been largely erased from European intellectual history.The naming of AntonWilhelmAmoStrasse demands a greater appreciation of the scholars work as a philosopher and legal scholar and the professional context in which he worked wrote Anna Orinsky in the online journal EUIdeas. German and international historians philosophers and scholars of many other disciplines are called upon to analyse Amos work she added. But the renaming is also in honor of a symbol of Black resistance says AndreaVicky AmankwaaBirago a Berlinbased cultural scientist focused on decolonization across Germany and Ghana.This renaming signals a change in how we remember  placing Black history achievement and resilience at the center she wrote in August 2025 for internet publication Medium.The long journey to AntonWilhelmAmoStrasseThe MStrasse subway station was itself renamed in 1991 in the wake of reunification. It had previously been called OttoGrotewohlStrasse after a GDR politician.The use of the racist name was called out at the time by the pioneering Black German activist May Ayim a poet of Ghanaian descent who cofounded the Initiative of Black People in Germany in 1986 and edited the defining book Showing Our Colors AfroGerman Women Speak Out. Ayim pursued her efforts to reveal the coded racism in reunified Germany. In the 1990s she was outspoken in her opposition to the street name which in her view stood for the fact that Germanys Black community was not included in the countrys essentially white reunification process after the fall of the Berlin Wall.In 2010 a Kreuzberg riverfront was renamed after Ayim who died in 1996. It was one of the first acts of decolonization the shore having been named after Otto Friedrich von der Groeben who in the late 17th century founded the BrandenburgPrussian colony in Ghana.\n",
      "\n",
      "Model response:\n",
      ">> The riverfront now bears the name of the city where the station was originally named after him. The renaming was officially approved by the Brandenburg government in 2021.\n",
      "-------------------------------------\n",
      "20 => Below is an instruction that describes a task. Write a response that appropriately completes the request.\n",
      "\n",
      "### Instruction:\n",
      "Generate a Multiple Choice Question with answer on the below World input context.\n",
      "\n",
      "### Input:\n",
      "Omans hospitality sector thrived in the first half of 2025 witnessing an 18 surge in hotel revenues alongside a 1.14 million increase in tourist arrivals. This growth is attributed to strategic tourism development enhanced infrastructure and effective marketing initiatives. The nations Vision 2040 plan aims to further boost tourism supported by substantial investments in new resorts and projects. Omans hospitality sector experienced robust growth in the first half of 2025Representative Image Omans hospitality sector experienced robust growth in the first half of 2025 with hotel revenues rising by 18 coinciding with a 1.14 million increase in tourist arrivals. The surge reflects the countrys growing appeal as a travel destination and effective tourism development strategies. TLDROmans hotel revenues increased by 18 compared to the previous year. Tourist arrivals reached 1.14 million in the first half of 2025 a significant boost.Growth credited to enhanced tourism infrastructure marketing initiatives and expanding international connectivity.The governments efforts to diversify the economy through tourism continue to show positive outcomes.Details of the hospitality sector growthThe strong performance in Omans hotel industry comes amid rising global travel demand combined with Omans ongoing investment in its tourism sector. Hotel occupancy rates improved due to increased visits from key markets including Gulf Cooperation Council GCC nations Europe and Asia. Omans hospitality sector growth marked by an 18 rise in hotel revenues and 1.14 million arrivals signifies the countrys accelerating emergence as a leading travel destination in the Middle East. With sustained investments and strategic initiatives Oman is poised for continued tourism expansion.Revenues across the three to fivestar hotel segment reached OMR 141.21 million US367 million in the first half of 2025 an 18.2 increase from last year according to data from Omans National Centre for Statistics Information NCSI.Industry experts attribute the revenue upswing toEnhanced airport capacity and new flight routes.Development of luxury resorts cultural attractions and ecotourism offerings.Aggressive marketing campaigns targeting both leisure and business travellers.Strategic collaborations with tourism partners to broaden Omans reach in global travel markets.This growth is critical to Omans Vision 2040 plan which seeks to reduce reliance on oil revenues by fostering sustainable tourism and creating jobs.Omans tourism outlookOfficials anticipate continued momentum as more tourism projects reach completion and promotional activities expand. Visitor numbers are projected to rise further in the second half of 2025 driven by events festivals and seasonal attractions. The positive trend not only benefits hoteliers but also stimulates related sectors such as transportation food and beverage and cultural industries contributing to broad economic diversification.Air connectivity has grown as well with new European routes launching this summer such as MuscatAmsterdam while Oman Air has also partnered with TUI to introduce Oman Air Holidays a digital booking platform that promotes Oman as a destination and supports inbound tourism by offering integrated travel packages.The sultanate has committed US31 billion to tourism development through 2040 of which US5.9 billion is dedicated to new resorts and projects. Oman already counts luxury properties such as the Mandarin Oriental Muscat and St Regis Al Mouj with more than 40 new hotels in the pipeline including openings from Anantara and Nobu. By 2030 Oman aims to welcome six million international tourists annually nearly double current levels and reach 12 million by 2040.FAQQ. How many tourists visited Oman in the first half of 2025Oman welcomed 1.14 million visitors in the first half of 2025 contributing to a strong tourism rebound.Q. By how much did Omans hotel revenues increase in this periodHotel revenues surged by 18 compared to the same period last year reflecting growing demand.Q. What factors are driving Omans tourism growthEnhanced infrastructure new flight routes upgraded airports luxury resorts cultural attractions and targeted marketing campaigns all contribute to the growth.Q. How does tourism growth fit into Omans broader economic plansTourism expansion supports Omans Vision 2040 by diversifying the economy reducing dependence on oil revenues and creating jobs in multiple sectors.About the AuthorTOI World DeskAt TOI World Desk our dedicated team of seasoned journalists and passionate writers tirelessly sifts through the vast tapestry of global events to bring you the latest news and diverse perspectives round the clock. With an unwavering commitment to accuracy depth and timeliness we strive to keep you informed about the everevolving world delivering a nuanced understanding of international affairs to our readers. Join us on a journey across continents as we unravel the stories that shape our interconnected world.Read More\n",
      "\n",
      "Model response:\n",
      ">> Question:Omans hospitality sector witnessed robust growth in the first half of 2025? \n",
      "Options: \n",
      "[A] 20% growth  \n",
      "[B] 11% growth  \n",
      "[C] 5% growth  \n",
      "[D] None of the Above \n",
      "Correct Answer: A [20% growth]\n",
      "-------------------------------------\n",
      "21 => Below is an instruction that describes a task. Write a response that appropriately completes the request.\n",
      "\n",
      "### Instruction:\n",
      "Generate a Multiple Choice Question with answer on the below World input context.\n",
      "\n",
      "### Input:\n",
      "The Health Awards 2025 will implement a fully independent evaluation process for all nominations to ensure transparency and meritbased recognition. A multistage review including screening verification and jury assessment will determine winners across 46 categories. The move reinforces the awards credibility with submissions open until 20 September ahead of the event on 9 October in Dubai. Health Magazine has introduced an independent evaluation process for Health Awards 2025 nominations through a partnership with global consultancy Knight Frank.Image X via Gulf Today  Health Magazine and Thumbay Media have partnered with global consultancy Knight Frank to oversee a fully independent evaluation process for the Health Awards 2025. The collaboration aims to reinforce transparency objectivity and credibility across the regions largest healthcare recognition platform.A strategic collaboration to elevate standardsHealth Magazine a bilingual English and Arabic health and lifestyle publication under the Thumbay Group has formalized a partnership with Knight Frank  a global real estate and advisory firm  to manage the nomination evaluation process for the upcoming Health Awards 2025. Organized by Thumbay Media the awards are slated for 9 October 2025 at the Grand Hyatt Dubai with over 1000 attendees expected.This years edition is set to be the biggest yet featuring 46 award categories that spanHospitals and clinicsClinical excellenceHealthcare leadershipHealth tech innovationPublic health campaignsAnd moreNotably 15 Emirati healthcare professionals will be honoured as part of the celebration.Knight Franks role in ensuring rigorous evaluationThrough this partnership Knight Franks Healthcare Advisory team will lead a multiphase evaluation process ensuring that all recognitions are rooted in merit. Their methodology includesScreening all submitted nominationsShortlisting based on eligibility and meritDue diligence and background verificationJury presentation for final selectionsThis process will involve verifying credentials conducting interviews with nominees where necessary and applying clear scoring criteria designed to ensure impartiality and consistency. The aim is to uphold the integrity of the awards by ensuring every recognition is earned  not influenced.By engaging an independent globally respected firm like Knight Frank were sending a clear message recognition at the Health Awards cannot be bought influenced or swayed  it must be earned said Vignesh S. Unadkat Chief Operating Officer of Thumbay Media.Dr. Gireesh Kumar Associate Partner  Healthcare Advisory Knight Frank MENA added Our role is to ensure the evaluation process is objective transparent and built on evidence. Were proud to offer our expertise to support this prestigious initiative that celebrates those raising the standards of healthcare in the region.Submission timeline and visibility campaignThe submission deadline for Health Awards 2025 entries is 20 September 2025. All healthcare professionals institutions and innovators across the UAE and beyond are invited to apply at www.healthmagazine.aeawards.To maximize visibility and impact the awards will be supported by a comprehensive multimedia campaign acrossTelevisionPrintDigital mediaSocial platformsThis campaign aims to amplify the stories of both nominees and winners showcasing their contributions to health and wellness across the region.About the partnersHealth Magazine is a bimonthly publication under Thumbay Media part of the UAEbased Thumbay Group and covers a broad spectrum of health and lifestyle topics for English and Arabic readers.Knight Frank established in 1896 and headquartered in London is a global leader in real estate consultancy with600 offices across over 50 countriesA workforce of 20000 professionalsExpertise in both residential and commercial property servicesBuilt on values of integrity collaboration and longterm partnerships the firm operates under an Environmental Social and Governance ESG framework aimed at environmental restoration inclusivity and community engagement. Governed by a Group Executive Board Knight Frank functions as a global network of legally independent entities offering locally tailored and globally informed advisory services.About the AuthorTOI World DeskAt TOI World Desk our dedicated team of seasoned journalists and passionate writers tirelessly sifts through the vast tapestry of global events to bring you the latest news and diverse perspectives round the clock. With an unwavering commitment to accuracy depth and timeliness we strive to keep you informed about the everevolving world delivering a nuanced understanding of international affairs to our readers. Join us on a journey across continents as we unravel the stories that shape our interconnected world.Read More\n",
      "\n",
      "Model response:\n",
      ">> Question:Which organization has launched the “Health Awards 2025” to recognize the progress of health workers in developing countries? \n",
      "Options: \n",
      "[A] World Health Organization (WHO) and United Nations Development Programme (UNDP)  \n",
      "[B] United Nations Development Programme (UNDP) and World Health Organization (WHO)  \n",
      "[C] World Bank and United Nations Development Programme (UNDP)  \n",
      "[D] United Nations Development Programme (UNDP) and World Health Organization (WHO) \n",
      "Correct Answer: C [World Bank and United Nations Development Programme (UNDP)]\n",
      "-------------------------------------\n",
      "22 => Below is an instruction that describes a task. Write a response that appropriately completes the request.\n",
      "\n",
      "### Instruction:\n",
      "Generate a Multiple Choice Question with answer on the below World input context.\n",
      "\n",
      "### Input:\n",
      "Under President Trumps immigration policies the US is deporting migrants to African nations including Uganda Eswatini and South Sudan despite concerns over human rights and the capacity of these countries to host more refugees. These deals framed as temporary arrangements have sparked controversy and raised questions about the benefits for the host nations with Nigeria rejecting the proposal outright. AP file photo  US President Donald Trumps crackdown on illegal immigration is a cornerstone of his domestic policy forming part of his controversial campaign pledge to carry out the largest deportation operation in American history.Deporting those migrants to African countries however was not part of the original plan he announced when he ran for the presidency in 2024.But the US Department of Homeland Security said in June that thirdcountry deportations  i.e. sending undocumented migrants from the US to countries other than their own  were necessary to expel people so uniquely barbaric that their own countries wont take them back. Uganda has now become the latest country in East Africa to accept a deal with Washington pledging to take in a yet tobespecified number of migrants who do not qualify to remain in the United States.Alex Vines the head of the Africa Programme at Chatham House a renowned thinktank in London highlights that this agreement builds on schemes between the US with other African nations adopted earlier in the year.In July 2025 a small number of individuals were sent to South Sudan and Eswatini. These were less than ten in total but it shows the direction of travel Vines told DW. The Uganda deal is a lot more ambitious.The Ugandans themselves have said they would not accept people with criminal records or minors and preferred Africans as the ones they would accept Vines further pointed out raising questions about the purpose of the scheme.Uganda a stretchedout refugee nationJust days prior to the confirmation of the deal Ugandas state minister for foreign affairs Henry Oryem Okello claimed the country did not have the capabilities to take in migrants.But after initially denying the deal with the US government Vincent Bagiire the permanent secretary of Ugandas Foreign Affairs Ministry confirmed the deal while saying it was only a temporary arrangement. Uganda already hosts the largest refugee population in Africa with roughly 1.7 million people housed in various camps across the country according to the United Nations.These are for the most part asylumseekers and recognized refugees who hail from other countries in the region such as the Democratic Republic of Congo South Sudan and Sudan.For the most part these immigrant communities live peacefully alongside the local population  but some think this might changeUganda is a hospitable country hosting many refugees. That is not a big thing to us. But already as a host country we are choking says Dorcus Kimono a local living in the capital Kampala.If these migrants are coming to our country we would not mind sharing the little we have with them. But what is the American government doing for usAlex Wandeba another resident of Kampala shares her views Uganda is already overburdened we have many refugees from the neighboring countries. I feel we have enough on the table.Kimono meanwhile wonders how Ugandans will ultimately benefit from the agreement with the United StatesI would want to hear that if a deal is reached with our government that the US is constructing roads or they are going to help us in the health and education sector. That would be a good deal.Eswatini a kingdom with no rightsThough prior US administrations have also conducted thirdcountry removals the Trumps practice of sending immigrants to countries with considerable political and human rights crises have raised alarm among human rights groups.This was particularly notable last month when the US flew five immigrants from Vietnam Jamaica Laos Yemen and Cuba to Eswatini  the last absolute monarchy in Africa which is known for its troubling rights record.Eswatini has been ruled by Mswati III since 1986. The monarch leads a life of luxury while the population of 12 million of the landlocked nation remains poor.The country has a deteriorating human rights record according to Human Rights Watch and according to reports penned by the US State Department itself as recently as 2023.Political Activist Mphandlana Shongwe says there is widespread public anger in Eswatini about the kings decision to allow those immigrants into the country which appears to fall on deaf ears. We condemn the bringing of hardcore convicts to our country to mix with our young convicts who still have a chance to be rehabilitated Shongwe told DW.Government spokesperson Thabile Mdluli meanwhile assured the public that the five inmates pose no threat to the country or its citizens as they were being kept in isolation at least for now.South Sudan wartorn and unsafeConflicttorn South Sudan meanwhile has also agreed to accept immigrants sent by the Trump administration.Edmund Yakani President of the East African Civil Society Organizations Forum told DW that details of the deal were being kept hidden from the public.Alex Vines meanwhile believes that its all about geopolitics. It is about these countries looking at how to diversify their partnerships and engender improved relationships with the Trump administration that might carry money and other benefits longer term to them he said. South Sudan is very much in the crosshairs of the current US administration visa strategy of restricting access to the US because of a history of overstay of South Sudanese Vines further explained adding that there is also the issue of the US tariffs which may be reduced although that has not impacted these countries particularly.Rwanda acting out of good willRwandan government spokesperson Yolande Makolor confirmed that her country would also take up to 250 deportees from the US under the provision that the government maintains the ability to approve each individual proposed for resettlement under the agreement.Elaborating on why Rwanda accepted the US deal Makolo stated the agreement meant that the African country was doing its part to help with international migration issues because our societal values are founded on reintegration and rehabilitation.Other African nations that are known to have been approached by the US for deporatation deals include Liberia Senegal Gabon Mauretania and GuineaBissau.Nigeria has explicitly rejected any proposal by the US with its Foreign Minister Yusuf Tuggar saying the country already had enough of its own problems.\n",
      "\n",
      "Model response:\n",
      ">> \n",
      "-------------------------------------\n",
      "23 => Below is an instruction that describes a task. Write a response that appropriately completes the request.\n",
      "\n",
      "### Instruction:\n",
      "Generate a Multiple Choice Question with answer on the below World input context.\n",
      "\n",
      "### Input:\n",
      "Crown Prince Mohammed bin Salman donated blood to launch Saudi Arabias annual national campaign promoting voluntary donation. The initiative aims for 100 voluntary blood supply and aligns with Vision 2030 goals. Officials praised the gesture as a humanitarian example with over 800000 donors in 2024. Health leaders linked it to broader efforts including organ donation and COVID19 vaccination. In 2024 over 800000 people in Saudi Arabia donated blood as the Kingdom pushes for 100 voluntary donations ImageSPA Saudi Arabias Crown Prince and Prime Minister His Royal Highness Prince Mohammed bin Salman bin Abdulaziz Al Saud donated blood on Thursday to launch the Kingdoms annual national blood donation campaign. The act was described by top Saudi officials as a gracious gesture and an extension of the Saudi leaderships humanitarian approach.The campaign aims to raise awareness of the importance of voluntary blood donation and to help the Kingdom become fully selfsufficient in blood and related components. Officials stressed the need for ensuring the availability of safe and sustainable blood stocks that meet the needs of the population. According to official figures more than 800000 people donated blood in Saudi Arabia in 2024.The initiative reflects HRH the Crown Princes commitment to humanitarian work and the Saudi leaderships support for national healthcare efforts with the goal of reaching 100 percent voluntary blood donation. The campaign aligns with Saudi Vision 2030 and its focus on building a healthy and vibrant society. A single donation the campaign noted can help save lives by providing blood plasma or platelets.Applauding the crown princes gesture the Ministry of Health posted on X The Leaders Giving ... A Role Model for the Nation. The donation of His Highness CrownPrince is a humanitarian message to establish blood donation as a national value support the voluntary work system in the health sector and ensure the provision of safe blood supplies to meet the need.Minister of Health Fahad AlJalajel thanked the Crown Prince for his generous blood donation and for his ongoing unlimited support for humanitarian work through the launch of the blood donation campaign. He stated that the initiative embodies a firm commitment to promoting a culture of giving and community solidarity and to raising the rate of voluntary blood donations to support the health sector.AlJalajel added that the campaign is an extension of other humanitarian initiatives undertaken by the Saudi leadership including the Crown Prince and King Salman being among the first to receive the COVID19 vaccine and registering in the national organ donation program. These initiatives reflect a solid approach to healthcare and improving quality of life said the minister who also called on all members of society to donate blood.Officials described HRH the Crown Princes donation as a significant humanitarian gesture that reinforces community awareness sets an inspiring example and motivates individuals to embrace a culture of giving and contribute to saving lives through voluntary initiatives.About the AuthorTOI World DeskAt TOI World Desk our dedicated team of seasoned journalists and passionate writers tirelessly sifts through the vast tapestry of global events to bring you the latest news and diverse perspectives round the clock. With an unwavering commitment to accuracy depth and timeliness we strive to keep you informed about the everevolving world delivering a nuanced understanding of international affairs to our readers. Join us on a journey across continents as we unravel the stories that shape our interconnected world.Read More\n",
      "\n",
      "Model response:\n",
      ">> Question:Which kingdom has launched a national blood donation campaign? \n",
      "Options: \n",
      "[A] Saudi Arabia  \n",
      "[B] Oman  \n",
      "[C] Egypt  \n",
      "[D] Qatar \n",
      "Correct Answer: A [Saudi Arabia]\n",
      "-------------------------------------\n",
      "24 => Below is an instruction that describes a task. Write a response that appropriately completes the request.\n",
      "\n",
      "### Instruction:\n",
      "Generate a Multiple Choice Question with answer on the below World input context.\n",
      "\n",
      "### Input:\n",
      "Adidas has apologized to the Indigenous community of Villa Hidalgo Yalalag in Oaxaca Mexico for culturally appropriating their traditional huarache sandal design in their Oaxaca SlipOn shoe. Executives delivered the apology in person acknowledging the discomfort caused and pledging future collaboration. The controversy drew national attention with President Claudia Sheinbaum advocating for stronger protections against the exploitation of Indigenous culture. AP photo Adidas has issued a public apology to a small Indigenous town in Mexicos Oaxaca state for a shoe design criticized as cultural appropriation.Executives from the German sportswear manufacturer traveled to the town of Villa Hidalgo Yalalag to personally deliver their remarks after issuing a written apology last week.Adidas apologizes for cultural appropriationThe company admitted its Oaxaca SlipOn shoe created by Mexican American designer Willy Chavarria closely resembled traditional huarache sandals made in the community.The Oaxaca SlipOn model was conceived taking inspiration from a design originating in the state of Oaxaca typical of the tradition of the town of Villa Hidalgo Yalalag said Karen Gonzalez legal head of Adidas Mexico to the residents.We understand that this situation may have caused discomfort for which we offer a public apology.Gonzalez added that the company would work in collaboration with the town in the future which relies on handicrafts for its livelihood.Chavarria also issued a statement saying he was deeply sorry and regretted not working directly with local artisans from the Oaxacan community.Apology welcomed The controversy drew national attention after President Claudia Sheinbaum accused Adidas of exploiting Indigenous culture and vowed stronger protections against global brands copying traditional designs.Its collective intellectual property. There must be compensation. The heritage law must be complied with Sheinbaum said earlier this month.Oaxacas Ministry of Culture and Arts accepted Adidas apology as a historic act of recognition of the Indigenous peoples of Oaxaca.\n",
      "\n",
      "Model response:\n",
      ">> \n",
      "-------------------------------------\n",
      "25 => Below is an instruction that describes a task. Write a response that appropriately completes the request.\n",
      "\n",
      "### Instruction:\n",
      "Generate a Multiple Choice Question with answer on the below World input context.\n",
      "\n",
      "### Input:\n",
      "Doha Metro unveils a yearly Metropass. It costs QR 990. Passengers enjoy unlimited rides on Doha Metro and Lusail Tram. An early bird promotion offers a 20 discount. Prebooking is available at the Back to School event. Vouchers can be redeemed in September 2025. This pass benefits daily commuters students and families. It promotes sustainable urban mobility in Qatar. Qatar Rail has introduced a new 365day unlimited MetropassRepresentative Image Qatar Rail has introduced a new 365day unlimited Metropass priced at QR 990 offering commuters unlimited travel across the Doha Metro and Lusail Tram networks. The launch includes a special early bird promotion with a 20 discount for early buyers making it an attractive option for daily commuters students and families seeking convenient and costeffective transport.TLDRThe 365day Metropass costs QR 990 and allows unlimited rides on Doha Metro and Lusail Tram for one full year.Early bird promotion offers 20 off for prebookings made at Qatar Rails Back to School event at Sport City Station until August 31 2025.Passengers can redeem early bird vouchers for the Metropass between September 1 and 30 2025. The pass covers all three Doha Metro lines Red Green Gold and the Lusail Tram line serving 37 stations in total.About the Doha Metro and MetropassDoha Metro consists of three lines Red Green and Gold with a total of 37 stations providing a rapid transit solution connecting key locations such as Lusail Hamad International Airport Education City and the city centre Msheireb. The Lusail Tram line complements the metro increasing connectivity especially in new city areas.The Metropass offers commuters unlimited travel without the need to repeatedly buy tickets or reload travel cards. The convenience and savings make it an ideal choice for residents students and frequent travellers.To make the launch even more attractive Qatar Rail is offering an early bird promotion during the Back to School event held at Sport City Station from August 19 to 31 2025. Passengers who prebook during this period receive a 20 discount on the QR 990 price by collecting an early bird voucher which can be redeemed between September 1 and 30 2025 at selected ticketing offices. This initiative not only encourages increased usage of public transport but also supports Qatars wider goals for sustainable and smart urban mobility.Doha Metro operates reliable and driverless trains running frequently from early morning until late at night with extended timings on weekends. The network provides clean and efficient transport options with multiple carriage classes including Standard Family and Gold Club ensuring a comfortable experience tailored to passengers preferences. The introduction of the yearly Metropass aligns with Qatar Rails commitment to delivering modern costeffective and ecofriendly travel solutions to residents and visitors alike.FAQQ. How much does the new Qatar Rail 365day Metropass costThe Metropass is priced at QR990 for a full year of unlimited rides across the Doha Metro and Lusail Tram network.Q. What is the early bird promotion for the MetropassThe early bird offer gives passengers a 20 discount if they prebook the pass at the BacktoSchool event with vouchers redeemable in September 2025.Q. Who can use the 365day MetropassThe pass is valid for all regular commuters students and families wishing to travel unlimited on Doha Metro and Lusail Tram for one year.Q. Where and when can early bird vouchers be collected and redeemedEarly bird vouchers are available at the Sport City Station event from August 1931 2025 and can be redeemed at designated ticketing offices between September 1 and 30 2025 using the original voucher.About the AuthorTOI World DeskAt TOI World Desk our dedicated team of seasoned journalists and passionate writers tirelessly sifts through the vast tapestry of global events to bring you the latest news and diverse perspectives round the clock. With an unwavering commitment to accuracy depth and timeliness we strive to keep you informed about the everevolving world delivering a nuanced understanding of international affairs to our readers. Join us on a journey across continents as we unravel the stories that shape our interconnected world.Read More\n",
      "\n",
      "Model response:\n",
      ">> \n",
      "-------------------------------------\n",
      "26 => Below is an instruction that describes a task. Write a response that appropriately completes the request.\n",
      "\n",
      "### Instruction:\n",
      "Generate a Multiple Choice Question with answer on the below World input context.\n",
      "\n",
      "### Input:\n",
      "Kuwait has temporarily blocked Roblox due to rising concerns about child safety following complaints of harmful content and exploitation. The decision comes amid warnings from parents and organizations regarding unsafe practices impacting young users. Authorities aim to negotiate with Roblox to ensure robust child protection measures and content moderation before lifting the ban. Kuwait has temporarily blocked RobloxImage Credit X Kuwaits Communications and Information Technology Regulatory Authority CITRA has temporarily blocked the online game Roblox following mounting public complaints and concerns for child safety. The action comes amid warnings from parents and public organizations about harmful content and unsafe practices impacting young users.TLDRKuwaits CITRA temporarily blocks Roblox to protect children from unsafe content and exploitation.Decision follows complaints about electronic exploitation harmful interactions and inappropriate purchasing.Ban is pending negotiations with Robloxs operators to ensure effective child safety measures and content moderation.Details of the decision and child safety concernsCITRA exercised its regulatory powers to respond to urgent complaints from parents educators and public organizations who highlighted multiple risks on the Roblox platform. These reportedly include unsafe behavior exposure to unwanted content electronic exploitation and risky ingame purchases. The platforms popularity among children further heightened parental anxiety.Authorities found Roblox to provide an enabling environment for harassers and exploiters in part due to its unrestricted chat and communications features. Concerns also include the presence of inappropriate themes promotion of intellectual deviations and content deemed inconsistent with Kuwaits religious and moral values.The ban is described as temporary pendingNegotiations with Robloxs operator.Verification of the companys commitment to removing offensive material.Assurance of robust child protection protocols before reconsidering lifting the ban.Several Gulf countries like Qatar Oman and nations including China and Turkey have already enacted similar bans citing related concerns. This move reflects a wider trend across the Gulf and beyond as governments seek stronger safeguards for minors in digital spaces.Kuwaits temporary block of Roblox is a proactive response to ongoing public concern for child safety online. The final decision on the platforms future in Kuwait will depend on the game operators willingness to ensure robust protections for young users and fully remove unsafe or offensive content.About the Roblox gameRoblox is an expansive online platform and virtual playground where users primarily children and teenagers can create share and play millions of usergenerated games and experiences. It allows players to customize avatars interact via chat and develop their own worlds using Roblox Studio. Popular games on Roblox span a range of genres including adventure roleplay obstacle courses and shooters with millions of daily active users worldwide. The platform fosters creativity and social interaction but also faces scrutiny over content moderation and child safety due to its open communication features and usergenerated nature prompting several countries to impose restrictions or bans for safeguarding minors.FAQQ. Why has Kuwait blocked access to RobloxDue to complaints about risks to childrens safety including exposure to inappropriate content electronic exploitation and unsafe purchasing practices.Q. Is the ban on Roblox permanent or temporary in KuwaitThe ban is temporary pending negotiations with Robloxs operator to remove harmful content and improve child protection measures.Q. What specific child safety risks prompted concerns in KuwaitUnsafe behaviour harassment inappropriate themes contrary to cultural and moral values and the platforms facilitation of easy communication and interaction among children.Q. Have other countries taken similar actions against RobloxYes countries including Qatar Oman China and Turkey have also banned or restricted Roblox over similar child safety concerns.About the AuthorTOI World DeskAt TOI World Desk our dedicated team of seasoned journalists and passionate writers tirelessly sifts through the vast tapestry of global events to bring you the latest news and diverse perspectives round the clock. With an unwavering commitment to accuracy depth and timeliness we strive to keep you informed about the everevolving world delivering a nuanced understanding of international affairs to our readers. Join us on a journey across continents as we unravel the stories that shape our interconnected world.Read More\n",
      "\n",
      "Model response:\n",
      ">> Question:Which country has temporarily blocked access to the online game Roblox due to rising concerns about child safety? \n",
      "Options: \n",
      "[A] Iran  \n",
      "[B] Iraq  \n",
      "[C] Kuwait  \n",
      "[D] Qatar Oman Correct Answer: A [Iran]\n",
      "-------------------------------------\n",
      "27 => Below is an instruction that describes a task. Write a response that appropriately completes the request.\n",
      "\n",
      "### Instruction:\n",
      "Generate a Multiple Choice Question with answer on the below World input context.\n",
      "\n",
      "### Input:\n",
      "Sergio Gor a close aide to Donald Trump has been nominated as the US Ambassador to India sparking controversy due to past clashes with Elon Musk. Musk previously labeled Gor a snake and accused him of legal violations related to security clearance paperwork. Trump defended Gor emphasizing his loyalty and importance to USIndia relations amidst ongoing tariff disputes. File photo Elon Musk left and Sergio Gor Picture credit AP X Sergio Gor a close aide to US President Donald Trump has been nominated as the next US Ambassador to India and special envoy for South and Central Asian Affairs.However amid the buzz of his announcement his past clashes with Elon Musk have resurfaced and brought focus on his stormy history with the Tesla founder. Back in June Musk branded Gor a snake after the New York Post revealed he had failed to submit his full security clearance paperwork despite being responsible for vetting thousands of appointees. Musk also accused him of breaking the law by not filing the Standard Form 86 SF86 required for security clearance background checks.According to the Daily Beast Gor allegedly persuaded Trump to withdraw Musks close friend Jared Isaacmans nomination to lead Nasa days before Senate confirmation. Musk said Gor orchestrated Isaacmans downfall to settle scores following a confrontation during his stint on Trumps Department of Government Efficiency DOGE which aimed to slash federal spending. Musk who quit DOGE in May later criticised Gor for delays in staffing and clashed with him during costcutting reviews.According to the Post Gor held a grudge after Musk then serving on Trumps task force publicly criticised him. Sergio was upset about Elon dressing him down at the meeting and said he was going to get him a source told the outlet. The tensions likely added to Musks rupture with Trump in early June when he opposed the presidents sweeping taxcut and spending bill warning it would worsen federal debt. Days later Musk briefly backed impeachment prompting Trump to threaten cancellation of federal contracts with his companies.Announcing the decision on social media Trump described Gor as a great friend who has been at my side for many years and said his appointment to New Delhi was vital at a time when Washington and New Delhi are locked in a bitter tariff dispute.For the most populous region in the world it is important that I have someone I can fully trust to deliver on my agenda and help us make America great again. Sergio will make an incredible Ambassador the president said.He highlighted Gors role in his campaigns book publishing ventures and super PACs calling his service essential to the administration. Vice President JD Vance and US foreign secretary Marco Rubio also welcomed the appointment with Rubio describing USIndia relations as the most important relationship.Gor 38 currently heads the White House Presidential Personnel Office overseeing the recruitment of nearly 4000 federal officials. He will continue in that role until the Senate confirms his appointment. In a post on X Gor said he was beyond grateful to Trump for his trust calling the ambassadorship the honour of my life.Gor will replace Eric Garcetti. His appointment comes as India grapples with 50 per cent US tariffs on its goods including penalties linked to Russian oil purchases.About the AuthorTOI World DeskAt TOI World Desk our dedicated team of seasoned journalists and passionate writers tirelessly sifts through the vast tapestry of global events to bring you the latest news and diverse perspectives round the clock. With an unwavering commitment to accuracy depth and timeliness we strive to keep you informed about the everevolving world delivering a nuanced understanding of international affairs to our readers. Join us on a journey across continents as we unravel the stories that shape our interconnected world.Read More\n",
      "\n",
      "Model response:\n",
      ">> Question:Who has been nominated as the next US Ambassador to India? \n",
      "Options: \n",
      "[A] Sergio Gor  \n",
      "[B] Vivek Chikara  \n",
      "[C] Arun Shourie  \n",
      "[D] Aditya Pisale \n",
      "Correct Answer: C [Arun Shourie]\n",
      "-------------------------------------\n",
      "28 => Below is an instruction that describes a task. Write a response that appropriately completes the request.\n",
      "\n",
      "### Instruction:\n",
      "Generate a Multiple Choice Question with answer on the below World input context.\n",
      "\n",
      "### Input:\n",
      "Donald Trumps claim that fewer than 20 hostages remain alive in Gaza has sparked outrage from families and a swift denial from Israels hostage negotiator. Trump asserted credit for releasing hundreds of hostages a figure disputed by facts. Israeli officials maintain that 50 hostages are still held with 20 believed to be alive while denouncing Hamass extortion tactics. AP file photo  US President Donald Trump said that fewer than 20 hostages held in Gaza remain alive a remark that has drawn anguish from families of the captives and was promptly denied by Israels hostage negotiator. So now they have 20 Trump said while speaking to reporters at the Oval Office on Friday. But the 20 is actually probably not 20 because a couple of them are not around any longer.And you have to understand Im the one who got all of the hostages out Trump said claiming credit for the release of hundreds of captives even though fewer than 150 remained in Gaza when he assumed office on January 20 reported the Times of Israel.Following his remarks the Hostages and Missing Families Forum released a statement that read Mr. President there are 50 hostages. For us each and every one of them is a world in itself.Trump also claimed credit for securing releases during the JanuaryMarch ceasefire denounced Hamass extortion and outlined ongoing efforts to recover the rest of the hostages.The situation has to end its extortion and it has to end Trump said referring to Hamass hostagetaking and negotiations. He added that he believes it would be safer in many ways to free the captives through a military operation rather than a deal with Hamas. Were doing everything we can to get the hostages out its not easy he added.Israels ministry refutes claimsIsraels coordinator for hostage affairs Gal Hirsch said in a statement following Trumps remarks that according to the information we have there is no change in the number of living hostages. Twenty of the hostages are alive two others are in grave danger for their lives 28 are no longer alive and have been declared deceased he wrote to the families.Trump was also questioned about why the United States seems to support Israels move to seize control of Gaza City despite opposition from the families of the hostages who fear the move could endanger their loved ones. Not all of them Trump replied seemingly pointing to a minority of hostage relatives who support Israels expanded operation in Gaza.Israeli officials maintain that 50 hostages are being held in Gaza 49 of the 251 abducted during the Hamasled assault on October 7 2023 along with one captive taken earlier. 28 among them have been confirmed dead by the IDF and authorities believe 20 hostages are still alive. The condition of two others remain in serious doubt. Hamas is also reportedly holding the body of an IDF soldier killed in Gaza in 2014 as per the Times of Israel. Earlier this week Israel advanced further into Gaza pressing ahead with its plan to seize the territory while simultaneously approving thousands of new housing units in the occupied West Bank steps that drew international concern and renewed debate over the prospects of a Palestinian state.Brig. Gen. Effie Defrin the IDFs chief spokesperson announced that Israel has begun the next phase of the war noting that troops had reached the outskirts of Gaza City and were preparing to relocate displaced residents to southern Gaza reported The New York Times.More than 62000 people have been killed in the besieged Gaza Strip since the start of the conflict as per Gazas health ministry.About the AuthorTOI World DeskAt TOI World Desk our dedicated team of seasoned journalists and passionate writers tirelessly sifts through the vast tapestry of global events to bring you the latest news and diverse perspectives round the clock. With an unwavering commitment to accuracy depth and timeliness we strive to keep you informed about the everevolving world delivering a nuanced understanding of international affairs to our readers. Join us on a journey across continents as we unravel the stories that shape our interconnected world.Read More\n",
      "\n",
      "Model response:\n",
      ">> \n",
      "-------------------------------------\n",
      "29 => Below is an instruction that describes a task. Write a response that appropriately completes the request.\n",
      "\n",
      "### Instruction:\n",
      "Generate a Multiple Choice Question with answer on the below World input context.\n",
      "\n",
      "### Input:\n",
      "Emirates returns as the Official Airline of the US Open for the 14th year combining luxury hospitality youth tennis outreach and inflight fan experiences. Highlights include its VIP suite at Arthur Ashe Stadium Arthur Ashe Kids Day giveaways youth clinics with tennis legends live match broadcasts onboard themed menus and exclusive Skywards member access. Emirates marks 14 years with US Open offering luxury suites youth tennis clinics inflight broadcasts and Skywards member exclusivesImage WAM Returning for its 14th consecutive year Emirates has reaffirmed its longstanding partnership with the US Open Grand Slam tournament blending luxury travel worldclass tennis and grassroots outreach. This year the airline is doubling down on both fan engagement and community impact through a comprehensive slate of initiatives running throughout the championship.Luxury hospitality returns to Arthur Ashe StadiumFrom August 24 to September 7 Emirates will once again host guests at its signature luxury suite inside Arthur Ashe Stadium. Spanning 1358 square feet the suite ranks among the largest and most exclusive hospitality spaces at the tournament. Guestsincluding celebrities athletes and Emirates inviteeswill enjoy unmatched views of live matches paired with premium dining and beverage offerings.This upscale experience has become a staple at the US Open providing a private retreat for tennis fans and VIPs throughout the twoweek event. Community outreach Kids day and youth Tennis clinicsEmirates is extending its presence beyond the court through activities designed to uplift and engage local youth.On August 23 during Arthur Ashe Kids Day Emirates cabin crew and staffjoined by the airlines pilot mascotswill distribute toys colouring packs explorer bags and offer Polaroid photo keepsakes in custom US Openthemed frames. The initiative is aimed at creating memorable experiences for children attending the event.On August 26 the airline will host a special tennis clinic at Arthur Ashe Stadium for children from the Kings County Tennis League led by tennis legends Sloane Stephens and John Isner. The session is part of the Force for Good programme launched in 2024 in partnership with the USTA Foundation to expand youth access to quality tennis infrastructure. So far the collaboration has resulted in the development of new tennis courts in Brooklyn New York and East Palo Alto California. Children from the inaugural project at De Hostos Playground in South Williamsburg will be among those participating in the clinic where theyll receive oneonone training to sharpen their tennis skills.Later that day Emirates will invite participants and their guardians to experience live US Open action from both the hospitality suite and promenade seating areas.Inflight Tennis experience Live broadcasts and themed menusTo cater to traveling tennis fans Emirates will broadcast live US Open matches through Sport 24 accessible on more than 1000 of its weekly flights. The matches will be available via the airlines awardwinning ice entertainment system watched by millions of passengers over the twoweek span.Key matches and finals will also be shown on the big screen at the A380 Onboard Lounge offering fans a premium viewing experience at cruising altitude. Additionally travelers flying between Dubai and select US cities will be treated to US Openthemed menus and signature cocktails including the tournaments iconic GREY GOOSE Honey Deuce.Fans can also enjoy a wide selection of tennisrelated entertainment with 50 tennis films and documentaries available across 40 channels on ice.Skywards members score big with exclusive accessEmirates loyalty program Skywards continues to offer unmatched privileges for its 35 million members globally. Through the Skywards Exclusives platform members can redeem or bid Miles for premium access to major sports eventsincluding all four tennis Grand Slams.For the US Open specificallyOver 20 million Miles have been redeemed by members for match tickets.The highest recorded bid stands at 744000 Skywards Miles for a pair of Mens Final  Courtside Seats.Skywards members can visit emirates.comskywards for more details on how to unlock these unique experiences.About the AuthorTOI World DeskAt TOI World Desk our dedicated team of seasoned journalists and passionate writers tirelessly sifts through the vast tapestry of global events to bring you the latest news and diverse perspectives round the clock. With an unwavering commitment to accuracy depth and timeliness we strive to keep you informed about the everevolving world delivering a nuanced understanding of international affairs to our readers. Join us on a journey across continents as we unravel the stories that shape our interconnected world.Read More\n",
      "\n",
      "Model response:\n",
      ">> \n",
      "-------------------------------------\n",
      "30 => Below is an instruction that describes a task. Write a response that appropriately completes the request.\n",
      "\n",
      "### Instruction:\n",
      "Generate a Multiple Choice Question with answer on the below World input context.\n",
      "\n",
      "### Input:\n",
      "A mob ambushed ICE officers in San Francisco with one assailant Adrian Guerrero threatening to stab an officer and target his family. Guerrero armed with a knife allegedly slashed a government vehicles tire before confronting the agents resulting in charges of assault and property destruction. San Francisco ICE clashes with protesters charge knifewielding suspect Picture credit DHS Federal authorities on Friday said US Immigration and Customs Enforcement ICE officers clashed with protesters in San Francisco this week with one knifewielding suspect now facing charges after allegedly threatening to stab an officer and target his family. The US Department of Homeland Security DHS confirmed the incident happened on Wednesday outside 100 Montgomery Street where ICE agents were carrying out immigration enforcement. Around 1520 demonstrators surrounded four officers spraying pepper spray and physically assaulting them. One officer sustained a jammed finger while others suffered irritation from chemical spray DHS said. Court filings cited by the New York Post identified the suspect as Adrian Guerrero a US citizen. He has been charged with assaulting an officer and destruction of property. Guerrero is accused of slashing the tire of a governmentmarked Chevrolet earlier that morning before confronting ICE agents. While wielding a black knife and wearing a patterned keffiyehstyle scarf with tinted goggles Guerrero allegedly shouted Im going to f you up. Im going to go after your family. Im going to stab you. Photos cited in the complaint show Guerrero confronting agents reported the New York Post. He was arrested still carrying the knife and clothing described. Federal Protective Services and San Francisco police later arrived to help disperse the crowd. According to KQED confrontations with protesters began earlier that morning near the immigration courthouse. An ICE officer peppersprayed both a protester and a reporter who said he was filming the incident when an officer grabbed a bicycle handle and sprayed without provocation. It wasnt provoked  There were no aggressive movements other than me approaching the scene the journalist was quoted as saying by KQED. At least one protester was later detained outside ICEs Sansome Street field office after being tackled ziptied and taken inside.KQED reported that an ICE officer also fired a weapon that released white powder during a scuffle involving a protester and a bike. The confrontation eventually dispersed though many protesters regrouped at the courthouse midmorning. Homeland security secretary Kristi Noem condemned the assault saying ICE officers now face a 1000 increase in assaults while targeting dangerous offenders. These acts of violence are fuelled by sanctuary politicians rhetoric vilifying our law enforcement she said in a DHS statement. We will not and have not let this violence stop us or slow us down she added. The attack follows other violent confrontations with federal agents. In July ten armed men in tactical gear opened fire on an ICE detention centre near Dallas where all suspects were later charged with attempted murder according to the New York Post.About the AuthorTOI World DeskAt TOI World Desk our dedicated team of seasoned journalists and passionate writers tirelessly sifts through the vast tapestry of global events to bring you the latest news and diverse perspectives round the clock. With an unwavering commitment to accuracy depth and timeliness we strive to keep you informed about the everevolving world delivering a nuanced understanding of international affairs to our readers. Join us on a journey across continents as we unravel the stories that shape our interconnected world.Read More\n",
      "\n",
      "Model response:\n",
      ">> Question:Which government department has launched a campaign to eradicate manual scavenging? \n",
      "Options: \n",
      "[A] Ministry of Environment, Forest and Climate Change  \n",
      "[B] Ministry of Agriculture, Farmers’ Welfare  \n",
      "[C] Ministry of Road, Transport and Highways  \n",
      "[D] Ministry of Tourism \n",
      "Correct Answer: A [Ministry of Environment, Forest and Climate Change]\n",
      "-------------------------------------\n",
      "31 => Below is an instruction that describes a task. Write a response that appropriately completes the request.\n",
      "\n",
      "### Instruction:\n",
      "Generate a Multiple Choice Question with answer on the below World input context.\n",
      "\n",
      "### Input:\n",
      "Kuwaits Public Authority for Manpower in collaboration with the General Directorate of Residence Affairs Investigations has arrested 168 workers in Mutlaa for violating labour and residency laws. The crackdown included 130 illegal domestic workers and 38 private sector workers. Authorities are intensifying inspections to regulate the labour market and ensure compliance with strict legal repercussions for noncompliant employers. PAM launched an inspection campaign targeting labour and residency violationsImage File Kuwaits Public Authority for Manpower PAM has intensified efforts to enforce labour and residency laws resulting in the arrest of 168 workers found violating regulations. The crackdown reaffirms Kuwaits commitment to safeguarding its labour market and ensuring compliance with the Labour Law.TLDRPAM launched an inspection campaign targeting labour and residency violations in Kuwaits Mutlaa area.A total of 168 workers were arrested comprising 130 illegal domestic workers and 38 illegal private sector workers.Registered employers files will be closely monitored and violators referred for legal action. Joint inspections were conducted with the General Directorate of Residence Affairs Investigations.Details of the crackdown and inspection campaignActing on directives from Sheikh Fahad Yousef Saud AlSabah First Deputy Prime Minister and Minister of Interior the labour Inspection Department of PAM alongside the Inspection Department of the General Directorate of Residence Affairs Investigations executed a comprehensive campaign in the Mutlaa region.The joint committees efforts focused on detecting and arresting workers violating labour and residency laws. During the campaign officials apprehended a total of130 domestic workers employed unlawfully38 private sector workers working illegally without proper residency documentation.PAM reiterated its dedication to regulating the labour market and safeguarding it from illegal practices through continued and intensified inspection campaigns across different areas.Enforcement and legal implicationsPAM warned employers about the consequences of employing illegal workers emphasizing that violations would be met with strict legal repercussions. The files of registered employers will be closely scrutinized to ensure full conformity with Kuwaits labour Law and its implementing regulations.Offenders and noncompliant employers may be referred to the Residence Affairs Investigations Department for prosecution reinforcing the governments zerotolerance policy towards labour law breaches.The mass arrests in Kuwait highlight an ongoing government initiative to uphold labour standards protect lawful employment and regulate residency status within the country. PAMs continued campaigns ensure that illegal labour practices are swiftly identified and addressed cultivating a fair and legal working environment for all.FAQ1. How many illegal workers were arrested in the recent Kuwait crackdownA total of 168 workers were arrested including 130 domestic workers and 38 private sector workers.2. Which authority is responsible for the labour inspection campaignThe Public Authority for Manpower PAM in cooperation with the General Directorate of Residence Affairs Investigations.3. What areas were targeted in this enforcement campaignThe extensive inspection campaign focused on the Mutlaa area in Kuwait.4. What happens to employers found to hire illegal workersEmployers are subject to legal action and referral to residency and labour authorities for violations.5. Why is Kuwait intensifying these labour market inspectionsTo safeguard the labour market ensure compliance with labour and residency laws and combat illegal employment practices.About the AuthorTOI World DeskAt TOI World Desk our dedicated team of seasoned journalists and passionate writers tirelessly sifts through the vast tapestry of global events to bring you the latest news and diverse perspectives round the clock. With an unwavering commitment to accuracy depth and timeliness we strive to keep you informed about the everevolving world delivering a nuanced understanding of international affairs to our readers. Join us on a journey across continents as we unravel the stories that shape our interconnected world.Read More\n",
      "\n",
      "Model response:\n",
      ">> Question:Which authority is responsible for the labour inspection campaign launched in Kuwait in June 2025? \n",
      "Options: \n",
      "[A] Ministry of Labour  \n",
      "[B] Ministry of Health and Welfare  \n",
      "[C] Ministry of Labour, Employment and Welfare  \n",
      "[D] Ministry of Interior and Local Government \n",
      "Correct Answer: C [Ministry of Labour, Employment and Welfare]\n",
      "-------------------------------------\n",
      "32 => Below is an instruction that describes a task. Write a response that appropriately completes the request.\n",
      "\n",
      "### Instruction:\n",
      "Generate a Multiple Choice Question with answer on the below World input context.\n",
      "\n",
      "### Input:\n",
      "Dubais RTA is enhancing student safety for the 20252026 academic year by implementing stricter guidelines and safety checks for school buses. The BacktoSchool program includes intensive driver training advanced safety technologies and improved parent communication. These measures aim to ensure secure and comfortable commutes for all students reinforcing RTAs commitment to seamless mobility. RTA has rolled out enhanced guidelines and safety checks for all school bus operators and driversImage File Ahead of the 20252026 academic year Dubais Roads and Transport Authority RTA has rolled out enhanced guidelines and safety checks for all school bus operators and drivers aiming to uphold the highest standards of student health safety and comfort. The BacktoSchool programme underscores RTAs commitment to seamless mobility and safeguarding the citys youngest commuters.TLDRDubai RTA has intensified inspections and issued updated guidelines for school bus operators to ensure strict safety compliance ahead of the 20252026 academic year.Measures include rigorous driver training advanced safety technologies on buses and regular communication with parents to reassure them of student safety.All drivers must observe traffic laws in school zones avoid obstructing other vehicles and attendants must safely escort students tofrom home dropoff points.Details of RTAs BacktoSchool safety programmeThe RTAs annual BacktoSchool programme aligned with their World Leader in Seamless and Sustainable Mobility vision places health and safety at the centre. Specialised RTA teams have intensified inspections of school buses across Dubai to ensure full adherence to transport regulations and safety protocols. The inspections focus on vehicle condition driver conduct and compliance with traffic laws especially in school zones and residential neighbourhoods.School bus drivers and attendants undergo intensive RTAsupervised training sessions designed to prepare them for professional safe and supportive engagement with students. These sessions highlight the importance of maintaining order preventing accidents and supporting students during their commutes. Operators are urged to ensure their drivers never obstruct traffic which reduces congestion and further enhances road safety for all road users.Adoption of modern technologies and parent communicationRTAs guidelines require school buses to be fitted with stateoftheart safety technologies ensuring realtime monitoring and rapid response in case of emergencies. Operators are also expected to proactively communicate with parents offering reassurances on their childrens daily safety and addressing any concerns. School administrations must ensure students are safely escorted by bus attendants between the bus and the nearest dropoff to their homes supporting a seamless and secure journey each day.Dubais BacktoSchool spirit is amplified through collaborative campaigns led by the Mohammed bin Rashid Housing Establishment MBRHE and Dubai Police. In Muhaisnah these efforts included interactive activities with police mascots luxury patrol car displays and fun safety lessons for students and families reinforcing community awareness in a joyful setting.Through rigorous inspections advanced tech adoption intensive training and energetic community engagement authorities are committed to ensuring every child travels to and from school securely and comfortably.FAQ1. What are Dubai RTAs key safety requirements for school bus operatorsOperators must conduct intensive training for driversattendants equip buses with advanced safety devices and maintain regular communication with parents about student safety.2. How does RTA enforce compliance with school bus safety regulationsSpecialised RTA teams carry out regular and rigorous inspections of both operators and school buses monitoring strict adherence to transport laws and safety standards.3. What practices must drivers and bus attendants followDrivers are required to obey traffic laws especially in school zones and residential areas avoid obstructing other vehicles and attendants must escort students tofrom the nearest home dropoff point.4. How is student safety communicated to parentsSchool bus operators and administrations are urged to proactively assure parents via regular updates and direct communication providing reassurance about daily commute safety.About the AuthorTOI World DeskAt TOI World Desk our dedicated team of seasoned journalists and passionate writers tirelessly sifts through the vast tapestry of global events to bring you the latest news and diverse perspectives round the clock. With an unwavering commitment to accuracy depth and timeliness we strive to keep you informed about the everevolving world delivering a nuanced understanding of international affairs to our readers. Join us on a journey across continents as we unravel the stories that shape our interconnected world.Read More\n",
      "\n",
      "Model response:\n",
      ">> \n",
      "-------------------------------------\n",
      "33 => Below is an instruction that describes a task. Write a response that appropriately completes the request.\n",
      "\n",
      "### Instruction:\n",
      "Generate a Multiple Choice Question with answer on the below World input context.\n",
      "\n",
      "### Input:\n",
      "Lyle Menendez convicted with his brother Erik for the 1989 murder of their parents has been denied parole after his first hearing since resentencing. The decision follows a similar rejection for Erik keeping both brothers incarcerated despite their reduced sentences. Lyle Menendez appears before the parole board via teleconference at the Richard J Donovan Correctional Facility in San Diego. Picture credit AP Lyle Menendez one of the two brothers convicted of murdering their wealthy parents in Beverly Hills more than three decades ago has been denied parole by a California state panel.The 57yearold who uses his middle name Joseph appeared by video from a San Diego prison on Friday for his first parole hearing since being resentenced earlier this year. After an 11hour closeddoor session commissioners decided he must remain behind bars for at least three more years according to the California Department of Corrections and Rehabilitation. Joseph Lyle Menendez was denied parole for three years at his initial suitability hearing today the department said in a statement as cited by news agency AFP.The ruling follows Thursdays decision in the case of his younger brother Erik 54 whose parole was also rejected. The siblings convicted in 1996 of killing Jose and Kitty Menendez with shotguns in 1989 were originally sentenced to life without parole. A Los Angeles judge reduced those terms in May to 50 years to life making them eligible for release as they were under 26 at the time of the crime as per news agency AP.The Menendez case first shocked America in 1989 when Lyle then 21 and Erik 18 killed their parents inside their Beverly Hills mansion. They initially told investigators it was linked to their fathers business or the Mafia but two months later Erik confessed to a psychologist that he and his brother were responsible. The brothers were arrested in 1990 and later charged with firstdegree murder. Prosecutors said the motive was greed while the defence argued they acted after years of sexual and emotional abuse as per AP.Their first trials in the early 1990s ended with hung juries but in 1995 they were convicted of murder along with lying in wait and special circumstances allegations. They were sentenced the following year to life without parole. For decades appeals were denied by state and federal courts.While in prison the brothers engaged in education led selfhelp classes and even launched a prison beautification project inspired by Norways rehabilitation model according to AP. Their case has also drawn renewed public attention through truecrime shows including Netflixs nineepisode series Monsters The Lyle and Erik Menendez Story.As per The New York Times Fridays hearing was Lyles first chance at release though parole boards rarely grant freedom at an initial review. Both brothers will be eligible for new hearings in three years but could also pursue clemency from California Governor Gavin Newsom or continue legal challenges.According to AP the parole board weighs whether inmates pose an unreasonable risk of danger to society if freed considering their criminal history motivation remorse behaviour in prison and reentry plans. Nearly all of the Menendez family members have backed their release their uncle Milton Andersen one of the few who opposed it died earlier this year.Though formally denied parole for three years the brothers may be reviewed sooner with administrative reconsideration possible within a year and another hearing in as little as 18 months. They also still have a pending habeas corpus petition filed in May 2023 that seeks to reopen their convictions based on new evidence supporting their claims of sexual abuse by their father.About the AuthorTOI World DeskAt TOI World Desk our dedicated team of seasoned journalists and passionate writers tirelessly sifts through the vast tapestry of global events to bring you the latest news and diverse perspectives round the clock. With an unwavering commitment to accuracy depth and timeliness we strive to keep you informed about the everevolving world delivering a nuanced understanding of international affairs to our readers. Join us on a journey across continents as we unravel the stories that shape our interconnected world.Read More\n",
      "\n",
      "Model response:\n",
      ">> Question:Which American was convicted of murdering his parents in Beverly Hills more than three decades ago? \n",
      "Options: \n",
      "[A] Lyle Menendez  \n",
      "[B] Erik Menendez  \n",
      "[C] Joseph Lyle Menendez  \n",
      "[D] Harold Menendez \n",
      "Correct Answer: A [Lyle Menendez]\n",
      "-------------------------------------\n",
      "34 => Below is an instruction that describes a task. Write a response that appropriately completes the request.\n",
      "\n",
      "### Instruction:\n",
      "Generate a Multiple Choice Question with answer on the below World input context.\n",
      "\n",
      "### Input:\n",
      "A major explosion and fire erupted at Smittys Supply in Louisiana a lubricant and automotive fluid manufacturer prompting immediate evacuations within a onemile radius including an elementary school. Multiple agencies including the EPA and LDEQ are responding to the incident monitoring air quality and providing support. Massive fire erupts at Louisiana auto supply plant A powerful explosion and fire at an automotive supply company in southeast Louisiana forced evacuations on Friday sending huge flames and a towering column of thick black smoke into the sky above rural communities.The blaze broke out at Smittys Supply a plant that manufactures lubricants and automotive fluids just north of the town of Roseland in Tangipahoa Parish according to news agency AP. Local officials said no injuries have been reported but everyone living within a onemile radius was ordered to leave their homes. A nearby elementary school was also evacuated.Tangipahoa Parish President Robby Miller said it was a godsend that no one had been hurt. We are doing our best to protect people structures and the environment he told reporters as crews spent hours battling the inferno reported AP.Videos of the incident going viral on social media showed bright orange flames leaping through the facility contrasted against a thick black plume of smoke visible for miles. More than 35 agencies including the Louisiana Department of Environmental Quality LDEQ and the Environmental Protection Agency EPA responded to the emergency.LDEQ said it was monitoring air quality around the site. All readings are zero at this time the agency stated adding that the EPA had dispatched contractors for additional support as per The Independent.The Tangipahoa Parish School System confirmed that Roseland Montessori School had been evacuated with students bussed to a reunification site at the central office. We are relieved to report that all Roseland Montessori students and staff have been accounted for and have returned home safe and sound superintendent Melissa Martin Stilley said as cited by The Independent.According to Fox 26 Houston the fire was first reported shortly before 1 pm CST. Multiple nearby roads were closed and a shelter was opened at the Amite Community Center on West Chestnut Street to assist evacuees.Louisiana Governor Jeff Landry posted on X that the situation was being closely monitored. We are praying for everyones safety he wrote.Authorities said the cause of the explosion remains under investigation and it is unclear how long it will take to bring the fire fully under control.About the AuthorTOI World DeskAt TOI World Desk our dedicated team of seasoned journalists and passionate writers tirelessly sifts through the vast tapestry of global events to bring you the latest news and diverse perspectives round the clock. With an unwavering commitment to accuracy depth and timeliness we strive to keep you informed about the everevolving world delivering a nuanced understanding of international affairs to our readers. Join us on a journey across continents as we unravel the stories that shape our interconnected world.Read More\n",
      "\n",
      "Model response:\n",
      ">> Question:What is the name of the plant that has been recently seen in news? \n",
      "Options: \n",
      "[A] Smarividi  \n",
      "[B] Kottayam  \n",
      "[C] Kanniyakumari  \n",
      "[D] Madurai \n",
      "Correct Answer: C [Kanniyakumari]\n",
      "-------------------------------------\n",
      "35 => Below is an instruction that describes a task. Write a response that appropriately completes the request.\n",
      "\n",
      "### Instruction:\n",
      "Generate a Multiple Choice Question with answer on the below World input context.\n",
      "\n",
      "### Input:\n",
      "A tour bus accident on Interstate 90 near Pembroke New York resulted in five fatalities and numerous injuries. The bus carrying 54 people from Niagara Falls to New York City overturned when the driver became distracted and lost control. Most passengers were of Indian Chinese and Filipino descent. Investigations are ongoing with distraction identified as the likely cause.  A tour bus carrying 54 people from Niagara Falls to New York City overturned on Interstate 90 near Pembroke New York on Friday afternoon killing five passengers and injuring dozens more. Authorities say the driver became distracted and lost control before overcorrecting causing the bus to veer off the road and roll onto its side news agency AP reported.Major Andre Ray of the New York State Police confirmed that the dead were all adults with passengers ranging in age from one to 74. Many victims were thrown from the vehicle and several became trapped beneath the wreckage before being pulled to safety. Rescue operations continued for hours with helicopters and ambulances transporting more than 40 people to nearby hospitals.Became distracted lost controlPolice said mechanical failure and driver impairment have been ruled out making distraction the most likely cause of the crash. The operator became distracted lost control and overcorrected Ray explained as quoted by AP.The bus operated by MY Tour Inc. of Staten Island had no record of previous accidents in the past two years and carried a satisfactory federal safety rating. The driver survived and is cooperating with investigators.The National Transportation Safety Board has dispatched a team to assist in examining the crash which occurred around 1230 p.m. on the busy New York State Thruway. Witnesses reported seeing the bus swerve into the median before crossing to the shoulder and overturning.Many victims from India China and the PhilippinesAuthorities said most of the passengers were of Indian Chinese and Filipino background and translators were brought to the scene to aid emergency services. Lists provided by the company confirmed 54 people were on board including the driver and a tour company employee.At Erie County Medical Center in Buffalo 24 patients were treated for serious trauma including head injuries and broken bones. Its probably the most trauma patients from one incident in my career here in Buffalo said Dr Samuel Cloud the hospitals chief medical officer. Other patients were flown to the University of Rochester Medical Center where two remained in critical condition.Officials believe many passengers were not wearing seat belts at the time. New York law requires seat belt use on charter buses built after November 2016 though the age of the bus has not been confirmed.Shock and mourningGovernor Kathy Hochul described the accident as a tragedy and said her office was working closely with police and local officials. Our hearts are with their loved ones during this difficult time she said.Eyewitnesses reported seeing shattered glass and belongings scattered across the highway. It was heartbreaking to see. People were embracing each other breaking down said Powell Stephens who drove past the scene.The crash left eastbound lanes of the Thruway closed for hours as investigators worked to clear the wreckage.About the AuthorTOI World DeskAt TOI World Desk our dedicated team of seasoned journalists and passionate writers tirelessly sifts through the vast tapestry of global events to bring you the latest news and diverse perspectives round the clock. With an unwavering commitment to accuracy depth and timeliness we strive to keep you informed about the everevolving world delivering a nuanced understanding of international affairs to our readers. Join us on a journey across continents as we unravel the stories that shape our interconnected world.Read More\n",
      "\n",
      "Model response:\n",
      ">> Question:Which tour operator operates the MY Tour Inc. bus that was involved in the accident on the Thruway in New York? \n",
      "Options: \n",
      "[A] MY Tourism  \n",
      "[B] Viva India  \n",
      "[C] Indian Express  \n",
      "[D] Jet Airways \n",
      "Correct Answer: C [Indian Express]\n",
      "-------------------------------------\n",
      "36 => Below is an instruction that describes a task. Write a response that appropriately completes the request.\n",
      "\n",
      "### Instruction:\n",
      "Generate a Multiple Choice Question with answer on the below Environment input context.\n",
      "\n",
      "### Input:\n",
      "The seatbelt sign pings on trays rattle drinks slosh in their glasses. For many flyers air turbulence can be an unnerving experience  and in a world warming under the effects of climate change it is only set to worsen according to a growing body of scientific evidence.Here are the key things to know during another searing summer in 2025.Why turbulence mattersBeyond making people uneasy turbulence is also the leading cause of inflight weather accidents according to official data.The numbers remain relatively small there were 207 reported injuries on US commercial flights between 2009 and 2024. But highprofile incidents have thrust the issue into the spotlight.These include an Air Europa flight last year in which 40 passengers were hurt and a Singapore Airlines flight where one elderly passenger died and dozens were injured.Typically injuries are to unbelted passengers or cabin crew rather than structural damage John Abraham a mechanical engineering professor at the University of St. Thomas told AFP.Modern aircraft withstand turbulence so the main risk is occupant injury not loss of the plane.Still planes must be inspected after severe encounters with turbulence  about 1.5 times the normal force of Earths gravity  which occur some 5000 times a year over the US said Robert Sharman a senior scientist emeritus at the National Center for Atmospheric Research.Turbulence also increases fuel consumption when pilots must leave optimal altitudes alter routes or change speeds Abraham added.How climate change is making it worseMohamed Foudad an atmospheric scientist at the University of Reading in the UK explained there are three main types of turbulence convective mountain wave and clearair turbulence CAT.Convective turbulence is linked to rising or sinking air currents from clouds or thunderstorms that can be detected visually or by onboard radar while mountain wave turbulence occurs over mountain ranges. CAT by contrast is invisible  and therefore the most dangerous.It generally arises from jet streams fastmoving westerly winds in the upper atmosphere at the same altitude as commercial jets about 1012 kilometers up.With climate change the tropics are warming faster at cruising altitude than higher latitudes. That increases the temperature difference between the higher and lowerlatitudes driving up jet stream velocity and wind shear  volatile shifts in vertical air currents that trigger CAT.Foudad and colleagues published a paper last year in the Journal of Geophysical Research Atmospheres analyzing data from 1980 to 2021.We find a clear positive trend  an increase in turbulence frequency over many regions including the North Atlantic North America East Asia the Middle East and North Africa he told AFP with increases ranging from 60 to 155 percent. Further analysis attributed the rising turbulence in certain regions to increased greenhouse gas emissions.What happens nextA 2023 paper led by Isabel Smith at the University of Reading found that for every degree Celsius of nearsurface warming winters would see an increase of about nine percent in moderate CAT in the North Atlantic and summers a rise of 14 percent.Winter has historically been the roughest season for turbulence but warming is now amplifying CAT in summer and autumn closing the gap.Jet stream disruption is not the only concern climate change is also fueling stronger storms.Climate change may also increase the frequency and severity of thunderstorms under future scenarios and turbulence encounters near thunderstorms are a major component of turbulence accidents Sharman told AFP.In terms of mitigation strategies Foudad is working on two studies optimizing flight routes to avoid turbulence hotspots and improving forecasting accuracy.Some airlines are moving towards strategies involving passengers wearing seatbelts more often such as ending cabin service earlier.Promising technologies are also being tested says Sharman including onboard LIDAR which beams lasers into the atmosphere to detect subtle shifts in air density and wind speed.Ultimately cutting greenhouse gas emissions will be essential Foudad added.Aviation is responsible for about 3.5 percent of humancaused warming. Airlines are exploring cleaner fuels to help reduce the industrys footprint though progress has been disappointingly slow according to the International Air Transport Association.\n",
      "\n",
      "Model response:\n",
      ">> \n",
      "-------------------------------------\n",
      "37 => Below is an instruction that describes a task. Write a response that appropriately completes the request.\n",
      "\n",
      "### Instruction:\n",
      "Generate a Multiple Choice Question with answer on the below Environment input context.\n",
      "\n",
      "### Input:\n",
      "A spot of hope Chital returns to Faridabad AravalisIpsita Pati   Aug 22 2025 0307 ISTShareAAText SizeSmallMediumLarge  Gurgaon A spotted deer  or chital  with its distinctive russetbrown coat and white spots was observed near Badkhal lake in the Faridabad Aravalis by forest department officials on Thursday. This sighting is believed to be the first recorded appearance of this species in the district sparking hope and excitement within the wildlife community.Historically the chital roamed freely across the Aravalis stretching from Gurgaon to the Delhi Ridge. However the rapid urbanisation of the 1980s and 1990s  fuelled by mining real estate expansion and deforestation  fragmented their habitats pushing them into core forest zones like the AsolaBhatti wildlife sanctuary. A 2017 Wildlife Institute of India WII survey of Haryanas Aravalis reported a significant decline in wildlife population including that of the spotted deer due to habitat loss and fragmentation.According to officials this is the first confirmed sighting of a spotted deer in the Aravalis in recent records. Vivek Saxena principal chief conservator of forests wildlife said We do not have data on the last sighting of chital in the Aravalis but this sighting definitely shows that habitat improvements helped wildlife return to the region.You Can Also Check Gurgaon AQI  Weather in Gurgaon  Bank Holidays in Gurgaon  Public Holidays in Gurgaon  Gold Rates Today in Gurgaon  Silver Rates Today in GurgaonThe sighting underscores the significance of green spaces at the urban fringe. Badkhal lake is situated at the edge of the Southern Aravali Ridge which connects to the larger Delhi Ridge ecology and links with areas like the AsolaBhatti sanctuary an essential corridor for wildlife in this region.Wildlife when given undisturbed green spaces sometimes ventures back into areas we might consider too crowded. This visit could indicate that the wildlife corridor is active or that native habitat is gradually reclaiming ground. Either way it serves as a subtle reminder of the broader environmental threads still weaving through our daily lives said wildlife biologist Sumit Dookia.If sightings like this become more frequent experts suggested it could be time to consider restoring or strengthening habitat links including corridors between Asola and Sarika where the spotted deer population is currently active.Seeing a spotted deer in Faridabad is a positive sign. It shows that even small patches of forest and wetlands can support wildlife if they are protected. Whats crucial now is to ensure these green spaces remain connected so animals can move safely across the Aravalis said wildlife expert Sunil Harsana. Stay updated with the latest local news from your city on Times of India TOI. Check upcoming bank holidays public holidays and current gold rates and silver prices in your area.About the AuthorIpsita PatiIpsita Pati is an environment journalist with over a decade of experience currently reporting for The Times of India. She covers climate change land use and green laws with a focus on regulatory accountability. Her work highlights the environmental implications of policy decisions and development on ground.Read More\n",
      "\n",
      "Model response:\n",
      ">> \n",
      "-------------------------------------\n",
      "38 => Below is an instruction that describes a task. Write a response that appropriately completes the request.\n",
      "\n",
      "### Instruction:\n",
      "Generate a Multiple Choice Question with answer on the below Environment input context.\n",
      "\n",
      "### Input:\n",
      "Wildfires have so far ravaged more than one million hectares 2.5 million acres in the European Union in 2025 a record since statistics began in 2006 according to an AFP analysis of data from the European Forest Fire Information System EFFIS.Surpassing the annual record of 988524 hectares burnt in 2017 the figure reached 1015731 hectares by midday Thursday representing an area larger than Cyprus.This calculation is based on a total compiled by AFP from estimates by country by EFFIS at a time when Spain and Portugal are still battling wildfires.Four countries in the European Union  Spain Cyprus Germany and Slovakia  have already experienced their worst year in two decades of existing data. Spain is struggling with numerous fires in the west of the country which have claimed four lives. By far it is the most affected EU country by fires with more than 400000 hectares burnt accounting for nearly 40 percent of the EU total. Portugal which holds the EU record of 563530 hectares burnt in 2017 is the secondmost affected EU country. It has never had an area of this size nearly 274000 hectares burnt as of August 21. Romania follows with 126000 hectares while in France 35600 hectares of forest have been reduced to ashes mostly in the Aude region which was ravaged by a massive fire in early August. These calculations by EFFIS a component of the European climate monitor Copernicus only take into account fires that have burnt areas of at least 30 hectares.\n",
      "\n",
      "Model response:\n",
      ">> Question:Wildfires have so far ravaged more than one million hectares of forest in which country? \n",
      "Options: \n",
      "[A] France  \n",
      "[B] Spain  \n",
      "[C] Germany  \n",
      "[D] Greece \n",
      "Correct Answer: C [Germany]\n",
      "-------------------------------------\n",
      "39 => Below is an instruction that describes a task. Write a response that appropriately completes the request.\n",
      "\n",
      "### Instruction:\n",
      "Generate a Multiple Choice Question with answer on the below Environment input context.\n",
      "\n",
      "### Input:\n",
      "Antarctic ice loss could have catastrophic impactDeutsche Welle   Aug 21 2025 1238 ISTShareAAText SizeSmallMediumLarge AI image Scientists on Wednesday warned that abrupt and potentially irreversible changes are occurring in Antarctica. They said the changes which are driven by climate change could lead to catastrophic consequences for generations.The research was published in the journal Nature. It sought to describe the interlocking effects of global warming on the Antarctic the frozen continent at the planets South Pole.The overwhelming evidence of a regime shift in sea ice means that on current trends Antarctica could essentially become ice free in summer sooner than the Arctic the study found.This will speed up warming in the region and beyond and could push some marine species toward extinction.Antarctic sea ice may actually be one of those tipping points in the Earths system said the studys lead author Nerilie Abram a former professor at the Australian National University ANU and now chief scientist at the Australian Antarctic Division.The study warns that curbing global carbon dioxide emissions would reduce the risk of major changes in the Antarctic but still may not prevent them.Once we start losing Antarctic sea ice we set in train this selfperpetuating process Abram said. Even if we stabilize the climate we are committed to still losing Antarctic sea ice over many centuries to come.What did the study sayResearchers gathered data from observations ice cores and ship logbooks to chart longterm changes in the area of sea ice.A rapid and substantial slowdown of the currents has already begun.This would lead to widespread climate and ecosystem impacts ranging from an intensification of global warming to a decrease in the oceans capacity to absorb CO2 the study reported.Will it affect wildlifeSome 90 of the heat generated by manmade global warming is soaked up by oceans.Since 2014 sea ice has retreated on average 120 kilometers 75 miles from the continents shoreline. Loss of ice is harming wildlife including emperor penguins who breed on the ice and krill which feed below it.And warming waters will further reduce phytoplankton populations that draw down vast quantities of carbon from the atmosphere the study reported.\n",
      "\n",
      "Model response:\n",
      ">> Question:Antarctic ice loss could have catastrophic impact? \n",
      "Options: \n",
      "[A] It is a natural phenomenon  \n",
      "[B] It is the result of human activities  \n",
      "[C] It is the result of natural climate variability  \n",
      "[D] It is the result of human activities \n",
      "Correct Answer: C [It is the result of natural climate variability]\n",
      "-------------------------------------\n",
      "40 => Below is an instruction that describes a task. Write a response that appropriately completes the request.\n",
      "\n",
      "### Instruction:\n",
      "Generate a Multiple Choice Question with answer on the below Environment input context.\n",
      "\n",
      "### Input:\n",
      "Deadly wildfires ravaging Spain have burnt the equivalent of nearly half a million football fields this year setting a new record for the country a European monitor said Monday.The fires have so far burnt more than 343000 hectares 848000 acres according to data from the European Forest Fire Information System Effis surpassing the record of 306000 hectares for the same period in 2022.Portugal set the European record of 563000 hectares scorched in 2017 when 119 people were killed. The country has already seen 216000 hectares burnt in 2025 according to Effis which has been gathering data for two decades. Spains fires this year have been focused on the northwest regions of Galicia and Castile and Leon and have claimed four lives.\n",
      "\n",
      "Model response:\n",
      ">> Question:What is the countrywide forest fire record for the year 2022? \n",
      "Options: \n",
      "[A] Spain (563000 hectares)  \n",
      "[B] France (340000 hectares)  \n",
      "[C] Portugal (249000 hectares)  \n",
      "[D] Germany (180000 hectares) \n",
      "Correct Answer: A [Spain]\n",
      "-------------------------------------\n",
      "41 => Below is an instruction that describes a task. Write a response that appropriately completes the request.\n",
      "\n",
      "### Instruction:\n",
      "Generate a Multiple Choice Question with answer on the below Environment input context.\n",
      "\n",
      "### Input:\n",
      "Devastating flash floods in Pakistan have claimed at least 657 lives including many children with Khyber Pakhtunkhwa province being the hardest hit. Entire villages have been wiped out mass burials are underway and hundreds remain missing as rescue efforts continue amidst warnings of more torrential rains. The scale of destruction is immense with eyewitnesses recounting homes and vehicles swept away.  NEW DELHI Entire villages have been wiped out and mass burials are taking place as flash floods wreak havoc across Pakistan leaving at least 340 people dead and hundreds missing news agency AFP reported. Officials and eyewitnesses described scenes of largescale devastation with homes shops and vehicles swept away in Khyber Pakhtunkhwa KP province the hardesthit region.Meanwhile Pakistans Prime Ministers coordinator for KP affairs Ikhtiar Wali Khan warned the real toll could be far higher. Entire villages have been wiped out. In Buners Chagharzi area massive destruction has taken place while the village of Bashoni has completely disappeared from the map he told ARY News. Expressing fear that deaths in Dir alone could exceed 1000 he added Mass burials are taking place. I have returned from Buner with a heavy heart after witnessing this disaster with my own eyes.According to Pakistans National Disaster Management Authority NDMA torrential monsoon rains flash floods and landslides since June 26 have killed at least 657 people including 171 children and 94 women and injured 929. KP province alone has reported 390 deaths.PollShould international aid be prioritized for the flood victims in PakistanYes immediate aid is essentialNo local resources should be utilized firstRescue workers continue to search for survivors but officials admit hopes are fading. In Buner district more than 150 people remain missing with 10 to 12 entire villages partially buried according to local authorities. The chances of those buried under the debris surviving are very slim said Bilal Ahmad Faizi of KPs rescue agency.Eyewitnesses recalled the horror as floodwaters swept away everything in their path. We saw all the houses buildings and vehicles being swept away like pieces of wood. When we looked down from the mountain our home was gone said Suleman Khan a schoolteacher who lost 25 relatives in Buner.Officials say the devastation is on par with past climate disasters in Pakistan. The government has declared several mountainous districts disasterhit while warnings of more torrential rains in the coming days raise fears of further destruction.About the AuthorTOI News DeskThe TOI News Desk comprises a dedicated and tireless team of journalists who operate around the clock to deliver the most current and comprehensive news and updates to the readers of The Times of India worldwide. With an unwavering commitment to excellence in journalism our team is at the forefront of gathering verifying and presenting breaking news indepth analysis and insightful reports on a wide range of topics. The TOI News Desk is your trusted source for staying informed and connected to the everevolving global landscape ensuring that our readers are equipped with the latest developments that matter most.Read More\n",
      "\n",
      "Model response:\n",
      ">> Question:Which province has reported the highest number of deaths due to flash floods and landslides since June 26? \n",
      "Options: \n",
      "[A] Sindh  \n",
      "[B] Punjab  \n",
      "[C] Rajasthan  \n",
      "[D] Haryana \n",
      "Correct Answer: C [Rajasthan]\n",
      "-------------------------------------\n",
      "42 => Below is an instruction that describes a task. Write a response that appropriately completes the request.\n",
      "\n",
      "### Instruction:\n",
      "Generate a Multiple Choice Question with answer on the below Environment input context.\n",
      "\n",
      "### Input:\n",
      "A devastating cloudburst in Jammu and Kashmirs Kathua district has claimed seven lives triggering landslides and flash floods. The deluge washed away roads damaged homes and disrupted train services on the JammuPathankot line. Rescue operations are underway with the Army NDRF and SDRF assisting victims.  NEW DELHI A cloudburst in Jammu and Kashmirs Kathua district has left at least seven people dead and several others injured triggering landslides flash floods and largescale disruption. The incident which occurred late Saturday night in Jodh Ghati village washed away roads damaged homes and forced authorities into urgent rescue and relief operations.Train services along the vital JammuPathankot line have also been suspended as rising water levels crossed danger marks on a key railway bridge. Helicopter evacuations have been launched while multiple agencies including the Army NDRF SDRF and police are on the ground to restore connectivity and assist victims.Here are the top developmentsDeath toll rises to seven in KathuaOfficials confirmed that seven people have died in two separate incidents of cloudburst and landslide in Kathua. Five casualties occurred in Jodh Ghati following flash floods triggered by the overnight downpour while two more died after a landslide in Janglote.Jammu Divisional Commissioner Ramesh Kumar said There was heavy rain in Kathua since last night... Seven people have died due to the landslide. Rescue operations are ongoing... Those who died due to the landslide their bodies have been retrieved. Rescue teams are still combing through debris and floodhit areas amid fears of more missing persons. Helicopters were pressed into service due to washedaway roads and villages cut off from access.Train traffic disrupted on JammuPathankot lineRail connectivity has been badly affected with the suspension of upline train movement between Kathua and Budhi. Senior Divisional Commercial Manager Jammu Railway Division Uchit Singhal said Due to heavy rains water is flowing above the danger level through bridge number 43 between KathuaBudhi. In view of this temporarily till the water level subsides upline movement has been suspended and in the meantime up trains are being moved via a temporary single line through the down line track. Villages cut off after flash floods and landslidesThe cloudburst snapped access to Jodh Ghati village where floodwaters swept through homes and agricultural fields leaving families stranded. Several connecting roads were washed away and a bridge collapsed worsening the situation. Deputy Commissioner Kathua Rajesh Sharma confirmed that rescue operations are underway and that stranded people are being shifted to safer areas. Local police reported that a station building in Kathua had also been damaged. Rescue operations led by Army and NDRFThe Indian Army NDRF SDRF police and BRO have been deployed in full strength across Kathua. Heavy machinery has been brought in to fragment massive boulders that rolled down into residential areas. Inspector General of Police Jammu Zone Bhim Sen Tuti said Boulders had fallen here which needed to be fragmented... Heavy machinery has been called for that. With the help of BRO they are being fragmented here. These boulders are being removed by using explosives wherever needed and bodies have been recovered from beneath them.Helicopter evacuation for injured victimsUnion minister Jitendra Singh confirmed that helicopter services were arranged to shift injured people to nearby hospitals. In his social media post Singh wrote Helicopter services have been arranged for shifting the injured to appropriate hospitals. 6 injured have been airlifted for hospitalisation in Mamoon Pathankot which was found to be relatively nearer destination. DIG Police Shiv Kumar Sharma and his team are camping at the site and coordinating airlifts. Centre closely monitoring situation says Amit ShahUnion home minister Amit Shah assured full support from the Central government. In a post on X Shah wrote Spoke with the Lieutenant Governor and Chief Minister of Jammu and Kashmir regarding the cloudburst in Kathua. Relief and rescue operations are being carried out by the local administration and NDRF teams have also been rushed to the site. Assured every support from the Modi government. We stand firmly behind our sisters and brothers of JK. LG Manoj Sinha calls tragedy mindnumbingJammu and Kashmir Lieutenant Governor Manoj Sinha expressed grief over the loss of lives. In his message on X he wrote Deeply anguished by the loss of lives in the devastating raintriggered landslides in several areas of Kathua. The tragedy is mindnumbing. Briefed Honble Union Home Minister Sh. Amit Shah Ji on rescue and relief operations by the army NDRF SDRF police  administration. CM Omar Abdullah announces exgratia reliefChief minister Omar Abdullah conveyed condolences and directed immediate assistance for affected families. A statement from his office said Rs 2 lakh would be given for each deceased Rs 1 lakh for severely injured and Rs 50000 for those with minor injuries. Compensation has also been announced for damaged homes Rs 1 lakh for fully damaged houses Rs 50000 for severely damaged houses and Rs 25000 for partially damaged houses. The Chief Minister has directed the administration to carry out immediate relief rescue and evacuation measures to ensure the safety and support of affected families the statement said.Repeated cloudburst disasters in JKThe Kathua disaster comes just three days after a cloudburst in Kishtwars Chisoti village killed 60 people and injured over 100. Experts warn that frequent extreme weather in JK is linked to changing rainfall patterns and climate pressures in the Himalayan region. Officials say the backtoback incidents highlight the need for stronger disaster preparedness and better drainage infrastructure. While the state government has sought central assistance locals in Kathua have urged longterm flood protection measures. This includes improved embankments realtime weather alerts and a review of building norms in vulnerable areas.Connectivity and services slowly being restoredAuthorities are now focused on restoring essential services including power water and road links. In Kishtwar where floods occurred earlier officials said blasting of boulders was undertaken to clear blocked roads. Rope bridges are being built to reconnect cutoff villages in Kathua. The power supply and water supply have been restored. A bridge is being built here with the help of the Army... All the passengers stranded in Machail were safely evacuated yesterday said Divisional Commissioner Ramesh Kumar. About the AuthorTOI News DeskThe TOI News Desk comprises a dedicated and tireless team of journalists who operate around the clock to deliver the most current and comprehensive news and updates to the readers of The Times of India worldwide. With an unwavering commitment to excellence in journalism our team is at the forefront of gathering verifying and presenting breaking news indepth analysis and insightful reports on a wide range of topics. The TOI News Desk is your trusted source for staying informed and connected to the everevolving global landscape ensuring that our readers are equipped with the latest developments that matter most.Read More\n",
      "\n",
      "Model response:\n",
      ">> \n",
      "-------------------------------------\n",
      "43 => Below is an instruction that describes a task. Write a response that appropriately completes the request.\n",
      "\n",
      "### Instruction:\n",
      "Generate a Multiple Choice Question with answer on the below Environment input context.\n",
      "\n",
      "### Input:\n",
      "Wildfires continue to test firefighters and locals across Europe as droughts and heatwaves turn regions into tinderboxes. The data for 2025 alone is a sign of things to come. A cruel summer as record wildfires scorch Europe Wildfires continue to burn across the south of Europe amid recordbreaking summer heatwaves in many fireprone regions. In some places these fires have been exacerbated by wet spring months which have helped vegetation growth capable of catching alight with ease during a dry summer.Already an area equivalent to 1.5 times the size of Luxembourg  roughly 438568 hectares  has burned across Europe in 2025. That figure is almost three times the size of fire damaged caused up to the same point in 2024.It comes as some parts of southern Europe suffer through multiple 40degree 104 Fahrenheit days and prolonged heatwaves lasting a fortnight.The current summer has been described as the worst for wildfires in two decades.Where are the fires burning What is the situation right nowWere seeing extreme temperatures in large parts of Europe records being broken of 40 degrees in many places said Julie Berckmans a climate scientist at the European Environmental Agency.Southern France Spain Greece Turkey Belgium Netherlands UK are all hitting high temperatures and massive wildfires in Spain Portugal France Greece Turkey Albania.In Spain those fires have burned through an area the size of London already.Portugal is fighting its own fires with around four thousand firefighters currently active across seven active sites. It has also been forced to request help from the European Unions firefighting forces.An even greater number of firefighters has been mobilized in Greece which is battling 20 blazes during this peak fire season.Deaths have occurred in Spain Portugal Montenegro and Italy from fires and heatrelated events this summer.It has been a severe fire seasonEurope uses data from its Copernicus satellite fleet to monitor fire activity and collates the data via the European Forest Fires Information System EFFIS.A substantial amount of fire damage in 2025 has already occured.More than 250000 hectares more of land has burnt than the same time in 2024.There have more than 1600 fires across Europe compared to just under 1100 last year.And new regions are also experiencing greater than usual fire activity.Spain for instance has seen twice as much of its territory burnedthrough compared to the 20062024 average. Romania has lost four times as much land to fires this year.Cyprus has been badly impacted. It could usually expect to see around 0.32 of its landmass burned each year. Already in 2025 its 2.5  nearly eight times more.But its also the number of fires that is concerning. France has had nearly three times as many fires as average amid what has been the worst wildfire season for its southern regions in decades.More to come...The fallout of severe wildfires goes beyond land loss or human fatalities. Damage to ecosystems through vegetation loss health impacts through smoke inhalation and economic decline are all consequences of widespread fire events.Its about 2.5 billion 2.9 billion of damage lost every year in the EU Berckmans told DW. 45000 people on average were displaced due to wildfires from 2008 to 2023.The European Environment Agencys first climate risk assessment published in 2024 found that urgent action is required to address the critical risk wildfires will pose to populations and infastructure and biodiversity in southern Europe.Wildfires are an urgent risk to address said Berckmans. Its also a major risk that needs more action now in the rest of Europe.As European fall approaches the number of fires and the damage they cause should slow. However forecasting the length of fire danger season and the behavior of fires themselves is becoming more difficult.Climate change will not only generate warmer and drier conditions across southern Europe it will also begin to change other dynamic factors.Faster and more volatile wind systems for instance will increase the challenge for fire management personnel to predict how blazes will behave. That puts the lives of emergency workers and civilians at greater risk.Picture a fire so fierce so fast and so unpredictable it seems alive capable of reshaping the weather around it and leaping across kilometers in a heartbeat said Antonio Lopez an expert in wildfires at the University of Seville Spain.\n",
      "\n",
      "Model response:\n",
      ">> The European Union (EU) is leading the way with a climate-smart fire strategy. It calls for countries to adopt flexible fire policies that adapt to changing climate conditions. It also promotes the use of smart technologies like drones to monitor and report on fires. It is the first time a national fire strategy has been developed for Europe.\n",
      "-------------------------------------\n",
      "44 => Below is an instruction that describes a task. Write a response that appropriately completes the request.\n",
      "\n",
      "### Instruction:\n",
      "Generate a Multiple Choice Question with answer on the below Environment input context.\n",
      "\n",
      "### Input:\n",
      "Marking Independence Day celebrations the Prime Minister announced and hailed the achievement as a pivotal step towards an Atmanirbhar Bharat in the energy sector underscoring the countrys transformation from a fossilfueldependent importer to a global clean energy leader.When the world today expresses concern over global warming I wish to tell the world that Bharat has resolved to achieve 50 per cent clean energy by 2030. That was our target for 2030. Look at the capability of my countrymen look at their determination to fulfil the resolve of making Bharat developedwe achieved the 50 per cent clean energy target in 2025 itself five years ahead of schedule. This is because we are as sensitive towards the world as we are responsible towards nature PM Modi said on the occasion of 79th Independence.At COP26 held in 2021 India committed to an ambitious fivepart Panchamrit pledge.This included reaching 500 GW of nonfossil electricity capacity generating half of all energy requirements from renewables and reducing emissions by 1 billion tonnes by 2030. India also aims to reduce the emissions intensity of GDP by 45 per cent and achieve netzero emissions by 2070.According to the latest government data India added a record 29.52 gigawatts GW of renewable capacity in 202425 taking total installed renewable energy RE capacity to 234.24 GW excluding nuclear up from 198.75 GW last year.Solar energy leads the charge with installed capacity skyrocketing from just 2.82 GW in 2014 to 116.24 GW today now accounting for nearly half of Indias total RE capacity.Wind power follows at 51.67 GW while large and small hydro contribute 54.72 GW combined. Biopower has also grown to 11.59 GW over the past decade.India now ranks 4th globally in total RE capacity 3rd in solar power and 4th in wind energy boasting the worlds fastestgrowing renewable program.The clean energy surge has been powered by a suite of ambitious government reforms and programs.The PMSurya Ghar Muft Bijli Yojana with a Rs 75021 crore outlay aims to provide free solar electricity to one crore households.As of August 14 2025 over 17.24 lakh households have benefitted with subsidies worth Rs 9841.77 crore released. The scheme also introduced Model Solar Villages to promote decentralised clean power at the grassroots level.In agriculture the PMKUSUM scheme has installed over 8.53 lakh solar pumps replacing dieselpowered systems and cutting an estimated 6.6 million tonnes of carbon dioxide emissions.Beyond solar India is expanding in wind hydro bioenergy green hydrogen and nuclear power. Offshore wind projects backed by a Rs 7453 crore viability gap funding scheme are set to add 1 GW capacity off Gujarat and Tamil Nadu.The National Green Hydrogen Mission with a Rs 19744 crore budget targets 5 million metric tonnes MMT annual production by 2030 along with 125 GW of new RE Rs 8 lakh crore in investments and 6 lakh jobs. Hydrogen hubs have been identified in Kandla Paradip and Tuticorin.In the nuclear sector operational capacity has grown from 4780 MW in 2014 to 8780 MW across 25 reactors with a remarkable 87 per cent plant load factor in 202425. Ten new reactors are already functional and capacity is set to increase tenfold by 2047.The result is a virtuous cycle local manufacturing creates jobs and resilience competitive tariffs make clean energy affordable and inclusive programs bring every citizen into the transition. As we look ahead to 2030 and beyond India is not just meeting global commitments  it is setting a new template for how a nation can grow decarbonise and remain selfreliant. In the journey from energy dependence to energy leadership the momentum is unmistakable and the destination is clear an Atmanirbhar Bharat powered by its own clean green energy the government said today in a factsheet.With five years gained on its clean energy target India is now firmly on track to meet and potentially exceed its 500 GW nonfossil capacity goal by 2030 positioning itself as a decisive force in the global fight against climate change. ANI\n",
      "\n",
      "Model response:\n",
      ">> has calculated that India has achieved a cumulative 41 GWe of clean energy capacity in the last five years alone. This represents a 41 per cent growth in clean energy capacity in just five years. This progress has strengthened India’s leadership in clean energy and set the stage for a greener India for generations to come.\n",
      "-------------------------------------\n",
      "45 => Below is an instruction that describes a task. Write a response that appropriately completes the request.\n",
      "\n",
      "### Instruction:\n",
      "Generate a Multiple Choice Question with answer on the below Environment input context.\n",
      "\n",
      "### Input:\n",
      "A multimillion pound conservation programme in England helped save 150 struggling species but time is running out to halt the decline the head of Natural England which led the initiative said Wednesday.The public body responsible for protecting and enhancing Englands natural environment invested a 13 million 17.6 million grant in efforts to support animal and plant species such as water vole oystercatcher ladys slipper orchid the hazel dormouse and Atlantic salmon. From the Lizard Peninsula in Cornwall to Cumbria and Northumberland 63 different projects involving 78 partners have transformed landscapes and supported the recovery of 150 species many of which were on the brink of national extinction through research captive breeding habitat creation and conservation translocations the body said in a statement released Wednesday.More than 15000 individual animals and plants were translocated to expand species territories under the projects which ran from August 2023 to March 2025. Notable successes include the reintroduction of black grouse to the North Yorkshire Moors northern England and the return of the large marsh grasshopper to the Norfolk Broads in east England after an 85year absence. Despite the achievements the chair of Natural England Tony Juniper warned more needed to be done. A rising number of nature recovery projects both large and small are making a huge difference up and down the country he said in the press release.We know we can turn round species decline and improve ecosystems with the right targeted actions the drive and the funding. But time is running out fast he added.Juniper called for more projects more volunteers and more investment particularly from the private sector.\n",
      "\n",
      "Model response:\n",
      ">> He also urged the government to step up support for nature conservation in England and Wales.\n",
      "\n",
      "\n",
      "Question:Which organization led the initiative to transform England into a biodiversity hotspot? \n",
      "Options: \n",
      "[A] Natural England  \n",
      "[B] Natural Environment Research Council (NERC)  \n",
      "[C] Oxford University  \n",
      "[D] Oxford Zoological Society \n",
      "Correct Answer: A [Natural England]\n",
      "-------------------------------------\n",
      "46 => Below is an instruction that describes a task. Write a response that appropriately completes the request.\n",
      "\n",
      "### Instruction:\n",
      "Generate a Multiple Choice Question with answer on the below Environment input context.\n",
      "\n",
      "### Input:\n",
      "Typhoon Podul crossed southern Taiwan prompting school and office closures due to heavy rain and potential agricultural damage. While no major damage was reported in Taiwan one person is missing on the east coast. In China coastal provinces evacuated around 15000 residents as the storm moved towards the Taiwan Strait impacting flights and regions south of Taipei.  KAOHSIUNG Thousands of people sheltered and fishermen secured their boats across stormbattered southern Taiwan on Wednesday as Typhoon Podul intensified on its approach to the island.The typhoon is packing wind speeds of 155 kilometres 96 miles per hour at its centre and is strengthening Central Weather Administration CWA forecaster Lin Tingyi told AFP.Podul is on track to hit lightly populated Taitung County at around noon 0400 GMT before sweeping across the island and into the Taiwan Strait.We are worried about this typhoon Kaohsiung fisherman Huang Wei told AFP as he used more ropes to tie down his boat and checked on other vessels.We had already made general typhoon preparations yesterday but this morning I woke up and saw news reports that the typhoon has intensified to be as strong as the last Typhoon Krathon Huang said.Last time the two boats behind us werent tied properly and hit my boat.Krathon slammed into Kaohsiung in October with wind gusts of 162kph. Podul has gusts of 191kph Lin said. More than 5500 people have been evacuated from their homes ahead of Podul disaster officials said Wednesday as the typhoon threatens to pound central and southern regions that are still recovering from storms last month.Mountainous areas of Kaohsiung City and neighbouring Pingtung County as well as Hualien and Taitung counties could see torrential rain the CWA said.All domestic flights across the island of 23 million people have been cancelled along with dozens of international journeys.Many ferry services have been suspended and businesses and schools across the south closed.Typhoon Danas which hit Taiwan in early July killed two people and injured hundreds as the storm dumped more than 500mm about 20 inches of rain across the south over a weekend.That was followed by torrential rain from July 28 to August 4 with some areas recording more than Taiwans rainfall of 2.1 metres for 2024.The week of bad weather left five people dead three missing and 78 injured a disaster official said previously.\n",
      "\n",
      "Model response:\n",
      ">> \n",
      "-------------------------------------\n",
      "47 => Below is an instruction that describes a task. Write a response that appropriately completes the request.\n",
      "\n",
      "### Instruction:\n",
      "Generate a Multiple Choice Question with answer on the below Environment input context.\n",
      "\n",
      "### Input:\n",
      "Talks on forging a landmark treaty to combat the scourge of plastic pollution were stumbling Saturday with progress slow and countries wildly at odds on how far the proposed agreement should go.The negotiations which opened on Tuesday have four working days left to strike a legallybinding instrument that would tackle the growing problem choking the environment.In a blunt midway assessment talks chair Luis Vayas Valdivieso warned the 184 countries negotiating at the United Nations that they had to get shifting to get a deal.Progress made has not been sufficient Vayas told delegates.A real push to achieve our common goal is needed the Ecuadoran diplomat said adding that Thursday was not a just deadline but a date by which we must deliver.Some articles still have unresolved issues and show little progress towards reaching a common understanding Vayas lamented.The key fracture is between countries that want to focus on waste management and others who want a more ambitious treaty that also cuts production and eliminates use of the most toxic chemicals.And with the talks relying on finding consensus it has become a game of brinkmanship.A diplomatic source told reporters that many informal meetings had been scrambled together for Sundays day off to try and break the deadlock.If nothing changes we wont get there the source added.Battle of the bracketsCountries have reconvened in Geneva after the failure of the supposedly fifth and final round of negotiations in Busan South Korea in 2024.After four days of talks the draft text has ballooned from 22 to 35 pages  with the number of brackets in the text going up near fivefold to almost 1500 as countries insert a blizzard of conflicting wishes and ideas.The talks are mandated to look at the full life cycle of plastic from production to pollution but some countries are unhappy with such a wide scope.Kuwait spoke up for the socalled LikeMinded Group  a nebulous cluster of mostly oilproducing nations which rejects production limits and wants to focus on treating waste.Let us agree on what we can agree. Consensus must be the basis of all our decisions Kuwait insisted.Nudging in the same direction Saudi Arabia speaking for the Arab Group said the responsible way ahead was to start considering what bits of the text may not make it to the final outcome due to irreconcilable divergence.But given how little is truly agreed on Uruguay warned that consensus cannot be used as a justification to not achieve our objectives.Eirik Lindebjerg global plastics adviser for the World Wide Fund for Nature told AFP that the LikeMinded Groups proposal was another attempt to make it a waste management agreement and to stifle talks on reducing the amount of plastic in circulation.Path through the fogThe UN Environment Programme is hosting the talks and swiftly called a press conference after the stocktake session.UNEP executive director Inger Andersen said a deal was really within our grasp even though today it might not look so.Despite the fog of negotiations Im really encouraged she told reporters insisting There is a pathway to success.Vayas added We need to accelerate. We need a better rhythm in this and we need to also work in such a way that it will be clear that we will deliver by the end.Afterwards Bjorn Beeler executive director at IPEN a global network aimed at limiting toxic chemicals told AFP This whole process has not been able to take decisions and is still collecting ideas. Were sleepwalking towards a cliff and if we dont wake up were falling off.Profits from poisoningPlastic pollution is so ubiquitous that microplastics have been found on the highest mountain peaks in the deepest ocean trench and scattered throughout almost every part of the human body.More than 400 million tonnes of plastic are produced globally each year half of which is for singleuse items.Plastic production is set to triple by 2060.Panamas negotiator Juan Monterrey Gomez took the floor to slam those countries wanting to stop the treaty from encompassing the entire life cycle of plastic.He said microplastics are in our blood in our lungs and in the first cry of a newborn child. Our bodies are living proof of a system that profits from poisoning us. We cannot recycle our way out of this crisis.\n",
      "\n",
      "Model response:\n",
      ">> We need a global plastic-free future \n",
      "\n",
      "Question:Which organization is leading the global plastic-free movement? \n",
      "Options: \n",
      "[A] World Health Organization (WHO)  \n",
      "[B] United Nations Environment Programme (UNEP)  \n",
      "[C] World Wildlife Fund (WWF)  \n",
      "[D] IUCN \n",
      "Correct Answer: C [World Wildlife Fund (WWF)]\n",
      "-------------------------------------\n",
      "48 => Below is an instruction that describes a task. Write a response that appropriately completes the request.\n",
      "\n",
      "### Instruction:\n",
      "Generate a Multiple Choice Question with answer on the below Environment input context.\n",
      "\n",
      "### Input:\n",
      "Tropical bird populations have plummeted not only due to deforestation but also extreme heat attributable to climate change according to a study published on Monday in the journal Nature Ecology  Evolution. Intensifying temepratures caused a 2538 percent reduction in tropical bird populations between 1950 and 2020 compared to a scenario without manmade global warming scientists based in Europe and Australia reported. The findings are pretty stark lead author Maximilian Kotz a researcher at the National Supercomputing Centre in Barcelona and the Potsdam Institute for Climate Impact Research PIK told AFP.Bird populations in the tropics now face 30 days of heat extremes per year compared to three per year in the mid20th century he noted. This has major consequences for how we think about biodiversity conservation Kotz said by email. Protecting pristine habitats is crucial but without dealing with climate change it wont be enough for birds.Nearly half of all bird species are found in biodiversityrich tropical regions. These often colourful animals perform essential services for ecosystems such as dispersing plant seeds. Invasive species another threatBut birds living in these regions may already be close to the limits of their tolerance to high temperatures which can cause heatstroke hyperthermia or dehydration. The overview study does not provide figures for individual species but earlier literature is rich with examples of the devastating impact of rising temperatures.One documented the heatrelated decline of birds in Panama including the king quetzal the redcrested quetzal the twocoloured kingfisher and the aurora trogon. Another study published in 2017 showed how some tropical hummingbirds are now forced to seek shade to regulate their temperature in extreme heat cutting into the amount of time they can spend searching for lifesustaining nectar. Extreme heat waves which are becoming more frequent represent a far greater threat than increases in average temperatures or rainfall another result of humaninduced climate change. Up to now it has been assumed that the decline in bird populations worldwide was due mainly to other wellidentified factors especially habitat loss pesticide use hunting and invasive species especially snakes that snack on bird eggs and mosquitos carrying avian malaria. But the new findings challenge the view that direct human pressures have so far been the dominant driver of impacts on bird populations compared to climate change in tropical regions according to the authors. To reach this conclusion they analysed observational data from more than 3000 bird populations around the world and used statistical modelling to isolate the effects of extreme weather from other factors.The findings help complete the picture of tropical bird decline noted Aimee Van Tatenhove a postdoctoral fellow at Cornell Universitys Center for Avian Population Studies who was not involved in the study.Deforestation has an obvious impact  trees are cut and habitat is destroyed she told AFP. We need longterm datasets like the authors used to understand how extreme temperatures impact avian populations.This study is an important reminder that we need to continue examining different causes of population declines and apply those findings to conservation initiatives she continued.\n",
      "\n",
      "Model response:\n",
      ">> The study shows that climate change can also be a major driver of bird declines \n",
      "\n",
      "Question:Which organization has published a study showing that bird populations in some tropical regions have declined due to climate change? \n",
      "Options: \n",
      "[A] World Wildlife Fund (WWF)  \n",
      "[B] Nature Conservancy  \n",
      "[C] International Union for Conservation of Nature (IUCN)  \n",
      "[D] International Union for Conservation of Nature (IUCN) Red List \n",
      "Correct Answer: A [World Wildlife Fund (WWF)]\n",
      "-------------------------------------\n",
      "49 => Below is an instruction that describes a task. Write a response that appropriately completes the request.\n",
      "\n",
      "### Instruction:\n",
      "Generate a Multiple Choice Question with answer on the below Environment input context.\n",
      "\n",
      "### Input:\n",
      "Turkey reports hottest July in 55 yearsAFP   Aug 9 2025 1559 ISTShareAAText SizeSmallMediumLarge  Turkey recorded its hottest July in 55 years the environment ministry said Saturday.Temperatures recorded in 66 of the countrys 220 weather stations showed an average rise of 1.9 degrees over the preceding years the ministry said on X.The highestever recorded temperature of 50.5 C was also set near the end of July in Silopi southeast Turkey. Silopi a city in the Sirnak province is located around 10 kilometres from the Iraq and Syrian borders. It shattered the previous national high of 49.5 C recorded in August 2023 in the western province of Eskisehir. Turkey has faced weeks of scorching heat along with several wildfires. Fourteen people lost their lives battling blazes last month in the western part of the country. Hundreds of people were evacuated on Friday in the northwest province of Canakkale where the busy Dardanelles Strait was closed to maritime traffic due to two raging fires. The heatwave has also prompted fears of water shortages in some areas. The resort town of Cesme on the Aegean Sea has restricted tap water for residents and tourists between 1100 pm to 600 am since July 25.\n",
      "\n",
      "Model response:\n",
      ">> The city plans to introduce bottled water in the coming weeks. \n",
      "Response:\n",
      "Question:Which country has set a new record for hottest July in 55 years? \n",
      "Options: \n",
      "[A] Japan  \n",
      "[B] Turkey  \n",
      "[C] Egypt  \n",
      "[D] Indonesia \n",
      "Correct Answer: C [Egypt]\n",
      "-------------------------------------\n",
      "50 => Below is an instruction that describes a task. Write a response that appropriately completes the request.\n",
      "\n",
      "### Instruction:\n",
      "Generate a Multiple Choice Question with answer on the below Environment input context.\n",
      "\n",
      "### Input:\n",
      "A wildfire in southern France slowed overnight into Wednesday after injuring nine people and burning through 11000 hectares of vegetation local officials said. The blaze which started on Tuesday afternoon is still threatening several villages in the aude department where 1500 firefighters have been battling to extinguish it.The fire is advancing in an area where all the conditions are ripe for it to progress. We are monitoring the edges and the back of the fire to prevent flareups said Lucie Roesch secretary general of the qude prefecture.She said firefighters are expecting to receive aerial support at dawn but warned this fire will keep us busy for several days. Its a longterm operation.The fires advance slowed overnight due to high humidity levels she added.One person was seriously burned and another injured the prefecture said adding that seven firefighters were also hurt. Camping grounds and one village were partially evacuated and several local roads have been closed.All of the Nations resources are mobilised French president Emmanuel Macron said on X while calling on people to exercise the utmost caution.The qude department has seen an increase in areas burnt in recent years aggravated by low rainfall and the removal of vineyards which used to help break the progression of fires.\n",
      "\n",
      "Model response:\n",
      ">> Question:What is the name of the fire that broke out in which department in France? \n",
      "Options: \n",
      "[A] Aude  \n",
      "[B] Aire  \n",
      "[C] Aise  \n",
      "[D] Aube \n",
      "Correct Answer: C [Aise]\n",
      "-------------------------------------\n",
      "51 => Below is an instruction that describes a task. Write a response that appropriately completes the request.\n",
      "\n",
      "### Instruction:\n",
      "Generate a Multiple Choice Question with answer on the below Environment input context.\n",
      "\n",
      "### Input:\n",
      "At a beach near Algiers brown algae native to the Pacific Ocean cover the golden sand posing a threat to ecosystems native to the area and their stench repelling swimmers at the peak of summer.Following a recent government call to help clear beaches swarmed by the seaweed species known scientifically as Rugulopteryx okamurae several volunteers and charities have stepped in.When it washes up we cant swim said Salim Hemmedi a 43yearold vacationer at a beach in Sidi Fredj where volunteers raked up heaps of the plant.We hope the situation will improve so that we can enjoy ourselves... and that children can swim in peace.The alga originates from temperate waters around Japan and the Korean peninsula in the northwest Pacific Ocean.It was first spotted in Algeria in late 2023 according to Lamia Bahbah a lecturer and researcher at the National School of Marine Sciences and Coastal Planning.And lately some have noted that it has been increasingly washed ashore.Youcef Segni a marine engineer and biologist said the algae proliferated at a significantly higher rate than in 2023 and 2024.They invade the habitats of other algae in the seabed which leads to the disappearance of some species he said adding that it can also displace some native fish.Fast reproductionIn France Spain and Portugal the Rugulopteryx okamurae species has also been observed.Earlier this year Spanish football club Real Betis introduced kits repurposed from seaweed to raise awareness about the issue.A 2023 study by the Marine Drugs journal said the algas invasive character led to a replacement of the native biota and an occupancy rate that reached almost 100 per cent in some locations in Portugal.In Algeria the plant has been spotted in at least three of the countrys 14 coastal provinces including the capital where 16 beaches are affected authorities said.Are the waters suitable for swimming Yes said Environment Minister Nadjiba Djilali during the cleanup campaign adding there were no records of the plant causing allergies.Researcher Bahbah said stopping its proliferation was unfortunately impossible at this stage.She said the plant reproduces at a high rate both sexually and asexually.The species can reproduce through fragmentation meaning new individual algae can develop from fragmented pieces of other Rugulopteryx okamurae algae.The algae spread mainly by clinging to the hulls of boats and the Mediterraneans moderate temperature favours the seaweeds fast reproduction.We are going to fight it said Fella Zaboudj a state engineer in marine sciences adding that researchers were monitoring its spread development and evolution.Zaboudj said research was also underway to determine whether the algae could be repurposed as fertiliser.\n",
      "\n",
      "Model response:\n",
      ">> \n",
      "-------------------------------------\n",
      "52 => Below is an instruction that describes a task. Write a response that appropriately completes the request.\n",
      "\n",
      "### Instruction:\n",
      "Generate a Multiple Choice Question with answer on the below Environment input context.\n",
      "\n",
      "### Input:\n",
      "On Irelands blustery western seaboard researchers are gleefully flying giant kites  not for fun but in the hope of generating renewable electricity and sparking a revolution in wind energy. Irelands wind energy sector has long been touted as full of potential. AI image BANGOR On Irelands blustery western seaboard researchers are gleefully flying giant kites not for fun but in the hope of generating renewable electricity and sparking a revolution in wind energy.We use a kite to capture the wind and a generator at the bottom of it that captures the power Padraic Doherty of Kitepower the Dutch firm behind the venture told AFP. At its test site in operation since September 2023 near the small town of Bangor Erris the team transports the vast 60squaremetre 645000squarefeet kite from a hangar across the lunarlike bogland to a generator. The kite is then attached by a cable tether to the machine and acts like a yoyo or fishing reel Doherty said.It gets cast out and flies up the tether pulls it back in over and over again creating energy he said testing the kites ropes and pulleys before a flight.The sparsely populated spot near the stormy Atlantic coast is the worlds first designated airborne renewable energy test site. And although the idea is still small in scale it could yet prove to be a mighty plan as Ireland seeks to cut its reliance on fossil fuels such as oil and gas.We are witnessing a revolution in wind energy said Andrei Luca operations head at Kitepower a zeroemissions energy solutions spinoff from the Delft University of Technology.It took nearly 25 years for wind turbines to evolve from 30kilowatt prototypes to megawatt scale and decades to offshore wind farms we see today he added.The system flies autonomously driven by software developed at the university in the Netherlands but Doherty acts as the kites pilot on the ground monitoring its flight path for efficiency. The kite flies up around 400 metres 1300 feet and reels in to about 190 metres generating around 30 kilowatts for storage.The force spins like a dynamo on a bike Doherty said adding that it generates up to two and a half tonnes of force through each turn.The electricity is stored in batteries similar to solar photovoltaic systems with the kite currently able to fully charge a 336kilowatthour kWh battery.Thats a meaningful amount of energy sufficient for powering a remote outpost a small island polar station or even a construction site Luca said.Add additional kites and we can power a bigger island.Mobile flexibleAccording to Doherty a chief advantage of the kite system is its flexibility and swift startup capability.We can set up in 24 hours and can bring it anywhere its super mobile and doesnt need expensive time and energyconsuming turbine foundations to be built he said. A kite system is way less invasive on the landscape than wind turbines produces clean energy and doesnt need a supply chain of fuel to keep running Luca added.During Januarys Storm Eowyn which caused widespread and longlasting power outages in Ireland the system showed its value in Bangor Erris according to Luca. Paired with a battery it provided uninterrupted electricity before during and after the storm he said. Irelands wind energy sector has long been touted as full of potential.But progress on largescale delivery of onshore and offshore turbines has been held up by planning delays and electricity grid capacity constraints.The Irish government has set ambitious targets for offshore wind energy to deliver 20 gigawatts of energy by 2040 and at least 37 gigawatts by 2050.In 2024 Irish wind farms provided around a third of the countrys electricity according to Wind Energy Ireland WEI a lobby group for the sector. This compares to the UK where according to trade association RenewableUK wind energy from the countrys combined wind farms first reached 20 gigawatts in November 2022.The ability of airborne wind energy AWE systems to harness highaltitude winds with relatively low infrastructure requirements makes them particularly suitable for remote offshore or mobile applications Mahdi Salari an AWE researcher at University College Cork told AFP.But he said Kitepower would face challenges on regulation safety and system reliability. Such technology however could plug gaps in places where land availability costs or logistical constraints hinder the deployment of traditional wind turbines Salari said.By the 2030s he said I expect AWE to contribute meaningfully to diversified flexible and distributed renewable energy networks.Discover stories of Indias leading ecoinnovators at Ecopreneur Honours 2025\n",
      "\n",
      "Model response:\n",
      ">> \n",
      "-------------------------------------\n",
      "53 => Below is an instruction that describes a task. Write a response that appropriately completes the request.\n",
      "\n",
      "### Instruction:\n",
      "Generate a Multiple Choice Question with answer on the below Environment input context.\n",
      "\n",
      "### Input:\n",
      "Aalborg Zoo in Denmark is now accepting unwanted small pets as donations to feed its predators. The zoo assures that donated animals like rabbits and guinea pigs will be humanely euthanized before being used as food. This initiative aims to mimic the natural food chain promoting animal welfare and natural behaviour among captive carnivores. Ai generated image  If you have a pet you can no longer keep one zoo in Denmark is offering an unusual option.Aalborg Zoo is asking the public to donate small pets  not for rehoming but to be used as food for its captive predators.Aalborg Zoo located in northern Denmark said in a Facebook post that the move is meant to mimic the natural food chain of animals housed there. The zoo says this effort supports animal welfare and professional integrity and assures that any donated pets will be gently euthanized by trained staff.If you have a healthy animal that needs to be given away for various reasons feel free to donate it to us the post said.The zoo lists rabbits guinea pigs horses and chickens as examples of suitable donations.PollWhat do you think about Aalborg Zoos practice of accepting pets for food for predatorsSupport it for animal welfareOppose it find other solutionsOnce euthanised the animals will be used as fodder for the zoos carnivores.That way nothing goes to waste  and we ensure natural behaviour nutrition and wellbeing of our predators the zoo claimed.The post is accompanied by a picture of a wildcat showing its teeth with its mouth wide open. It also includes a link to the zoos website.About the zoo Aalborg Zoo was founded in April 1935. The facility is located near the centre of Aalborg and spans 8 hectares. It houses more than 1500 animals across 126 species and draws hundreds of thousands of visitors each year.According to the zoos official website Aalborg Zoo focuses on conservation sustainability and education.It takes part in international breeding programmes for endangered species and supports global efforts in animal conservation research and fair trade. It was also the first zoo in Denmark to receive an environment certificate and is known for its work in protecting nature and the environment.The zoo maintains that the practice of using donated pets as prey aligns with its mission to support natural behaviours in captive predators.About the AuthorTOI World DeskAt TOI World Desk our dedicated team of seasoned journalists and passionate writers tirelessly sifts through the vast tapestry of global events to bring you the latest news and diverse perspectives round the clock. With an unwavering commitment to accuracy depth and timeliness we strive to keep you informed about the everevolving world delivering a nuanced understanding of international affairs to our readers. Join us on a journey across continents as we unravel the stories that shape our interconnected world.Read More\n",
      "\n",
      "Model response:\n",
      ">> \n",
      "-------------------------------------\n",
      "54 => Below is an instruction that describes a task. Write a response that appropriately completes the request.\n",
      "\n",
      "### Instruction:\n",
      "Generate a Multiple Choice Question with answer on the below Environment input context.\n",
      "\n",
      "### Input:\n",
      "Watch Krasheninnikov volcano erupts after 600 years Russian earthquake could have triggered itTOI World Desk  TIMESOFINDIA.COM  Updated Aug 03 2025 1610 ISTShareAAText SizeSmallMediumLarge Krasheninnikov volcano Xvolcaholic1 The Krasheninnikov volcano in Kamchatka erupted overnight for the first time in 600 years scientists and Russias national news agency RIA announced on Sunday. Ash plume as high as 6000 meters 3.7 miles has been observed after the volcano erupted according to Kamchatkas Ministry of Emergency Situations.Russia Earthquake Triggers 2nd Volcano After 450 Years  Watch Ash Soar 19700 Ft Into SkyRussian state media released images showing a massive ash plume rising from the Krasheninnikov volcano which according to the Smithsonian Institutions Global Volcanism Program last erupted in 1550 reported AFP.The plume is spreading eastward from the volcano toward the Pacific Ocean. There are no populated areas along its path and no ashfall has been recorded in inhabited localities the ministry said.PollDo you think the recent earthquakes and eruptions in Kamchatka are connectedYes they are relatedNo they are separate eventsThe eruption of Krasheninnikov volcano came just days after Klyuchevskoy the tallest active volcano in Europe and Asia spewed lava on Wednesday prompting authorities to issue an orange aviation warning signalling possible flight disruptions in the area.According to the ministry The eruption of the volcano has been assigned an orange aviation code indicating a heightened risk to aircraft.The twin eruptions closely followed a powerful 8.8 magnitude earthquake off the coast of Petropavlovsk in Russias Kamchatka peninsula  one of the strongest quakes recorded globally since 2011.About the AuthorTOI World DeskAt TOI World Desk our dedicated team of seasoned journalists and passionate writers tirelessly sifts through the vast tapestry of global events to bring you the latest news and diverse perspectives round the clock. With an unwavering commitment to accuracy depth and timeliness we strive to keep you informed about the everevolving world delivering a nuanced understanding of international affairs to our readers. Join us on a journey across continents as we unravel the stories that shape our interconnected world.Read More\n",
      "\n",
      "Model response:\n",
      ">> \n",
      "-------------------------------------\n",
      "55 => Below is an instruction that describes a task. Write a response that appropriately completes the request.\n",
      "\n",
      "### Instruction:\n",
      "Generate a Multiple Choice Question with answer on the below Environment input context.\n",
      "\n",
      "### Input:\n",
      "Portugals government on Saturday issued an alert warning of a heatwave with a high risk of fires in large parts of the country in the coming days.The alert covering Sunday to Thursday included a ban on bonfires fireworks and the use of electrical equipment in forests.The authorities also restricted access to some woodland areas announced a boost in staffing for the forest ranger service and increased land and air patrols in high firerisk areas.The next week will be difficult said Home Affairs Minister Maria Lucia Amaral.Both Portugal and neighbouring Spain have had to battle wildfires in the recent days a problem they and other countries face every year.Experts say climate change is increasing the frequency and intensity of droughts and fires around the world.Following the deadly fire season in 2017 Portugal ramped up its spending on wildfire prevention and response. More than 29000 hectares 71600 acres have already been destroyed by fire since the beginning of the year according to Portugals Institute of Forests ICNF.\n",
      "\n",
      "Model response:\n",
      ">> Question:Portuguese authorities have issued an alert warning of a heatwave with a high risk of fires? \n",
      "Options: \n",
      "[A] Heatwave  \n",
      "[B] Rainfall Extremes  \n",
      "[C] Droughts  \n",
      "[D] Wildfires \n",
      "Correct Answer: A [Heatwave]\n",
      "-------------------------------------\n",
      "56 => Below is an instruction that describes a task. Write a response that appropriately completes the request.\n",
      "\n",
      "### Instruction:\n",
      "Generate a Multiple Choice Question with answer on the below Tech input context.\n",
      "\n",
      "### Input:\n",
      "Teen Innovator Soars to New Heights Mehar Singh Breaks Guinness World Record with LightningFast Drone AscentMediawire   Aug 28 2024 1635 ISTShareAAText SizeSmallMediumLargeAt just 17 years old Mehar Singh has soared into the spotlight by shattering the Guinness World Record for the fastest 100meter ascent by a quadcopter. Mehars customengineered drone reached this remarkable milestone in an astonishing 0.91 seconds a feat that not only demonstrates his technical prowess but also sets a new benchmark in the rapidly evolving world of drone technology.Mehars journey to this achievement has been anything but straightforward. His fascination with drones began in 8th grade and this passion has only deepened over the years. With a keen interest in pushing technological boundaries Mehar embarked on a monthslong project to build a drone capable of unparalleled vertical acceleration.Ive always been fascinated by the idea of pushing the limits of what drones can do Mehar explained. But breaking a world record wasnt just about the end result it was about the process. I wanted to prove that current technology could achieve something extraordinary but the path to get there was filled with challenges.The project required Mehar to design test and refine multiple drone prototypes. There were moments when I felt like I was chasing an impossible dream Mehar recalled. I went through countless designs and many of them failed during testing. Some drones crashed so badly that I had no choice but to go back to the drawing board and start from scratch. Each crash was a setback but it also sparked new ideas and innovations.Undeterred by the setbacks Mehar poured his energy into creating a drone that was not only fast but also aerodynamically optimized. I spent countless hours on CAD software meticulously designing and tweaking each component. The goal was to make the drone as streamlined as possible which led me to shape it like a rocket. This design wasnt just about aesthetics it was about reducing drag and maximizing speed.Mehars dedication to his craft paid off in spectacular fashion. Every failure taught me something valuable he said. It forced me to think creatively and to consider every detail from the materials used to the weight distribution of the drone. The process was grueling but it was also incredibly rewarding to see my ideas take flightliterally.This recordbreaking achievement is more than just a personal triumph for Mehar it has significant implications for the future of drone technology. The possibilities are endless Mehar mused. Highspeed vertical acceleration could revolutionize everything from emergency response to space exploration. This isnt just about setting a record its about opening doors to new innovations and applications.Mehars groundbreaking work has already begun to inspire others in the drone community and beyond. I hope this accomplishment encourages other young innovators to push their own boundaries he said. Technology is advancing rapidly and theres so much potential waiting to be unlocked. Im excited to see where we can go from here.As Mehar looks ahead the sky is truly the limit. With his recordbreaking drone he has not only made history but also set the stage for future breakthroughs in drone technology. And for this young innovator this is just the beginning of an exciting journey into the future of flight.Disclaimer Content produced by Mediawire on Behalf of Shweta Singh\n",
      "\n",
      "Model response:\n",
      ">> is licensed under a Creative Commons Attribution-NonCommercial-NoDerivs 3.0 Unported License. For more information, please contact licensing@dailymotion.com.\n",
      "\n",
      "\n",
      "Question:Mehar Singh, who recently broke the Guinness World Record for the fastest 100m quadcopter ascent, is a 19-year-old student? \n",
      "Options: \n",
      "[A] 18 years old  \n",
      "[B] 17 years old  \n",
      "[C] 16 years old  \n",
      "[D] 15 years old \n",
      "Correct Answer: C [16 years old]\n",
      "-------------------------------------\n",
      "57 => Below is an instruction that describes a task. Write a response that appropriately completes the request.\n",
      "\n",
      "### Instruction:\n",
      "Generate a Multiple Choice Question with answer on the below Tech input context.\n",
      "\n",
      "### Input:\n",
      "Samsung Galaxy A55 offers 12GB RAM 50MP camera 25W charging at Rs 39999. Vivo V30 Pro Rs 41999 features 12GB RAM AMOLED display MediaTek Dimensity 8200 80W charging. V30 Pro has IP67 256GB storage.  Samsung recently expanded its midrange Aseries with two new smartphones  Galaxy A55 and A35. The more expensive Samsung Galaxy A55 starts at Rs 39999 and is the first midrange Smartphone from Samsung to come with 12GB RAM. However the 12GB RAM variant is priced at Rs 45999. The smartphone features a Full HD display an Exynos chipset a 50MP camera and supports 25W charging. Samsung Galaxy A55 is set to be available in India soon. On the other hand Chinese smartphone maker Vivo launched its latest V30 series which also includes two smartphones  the Vivo V30 and the V30 Pro. The higherpriced V30 Pro starts at Rs 41999 and also comes in a 12GB option that is priced at Rs 45999. This smartphone is already available for sale and sports a curved AMOLED display much better camera capabilities and 80W fast charging. Heres how the two midrange smartphones compareFeatureSamsung Galaxy A55 5GVivo V30 ProDisplay6.6inch FHD 1080x2340 120Hz Corning Gorilla Glass Victus6.78inch AMOLED 1260x2800 120Hz Up to 2800 nitsProcessorExynos 1480MediaTek Dimensity 8200RAMUp to 12GBUp to 12GBStorage128GB or 256GB Expandable up to 1TB256GB or 512GBOperating SystemAndroid 14 with One UI 6.1Android 14 with FuntouchOS 14Rear Camera50MP main 12MP ultrawide 5MP macro50MP main 50MP ultrawide 50MP telephotoFront Camera32MP50MPBattery5000mAh with 25W fast charging5000mAh with 80W fast chargingWater ResistanceIP67Dust and splash resistant coatingStarting Price IndiaRs 39999Rs 41999Vivo V30 Pro has a larger AMOLED display with higher peak brightness and has a more powerful processor. The Vivo phone also offers a higher base storage option 256GB and comes with a telephoto lens. Vivo V30 Pro also offers faster 80W charging than the Samsung Galaxy A55s 25W charging.About the AuthorTOI Tech DeskThe TOI Tech Desk is a dedicated team of journalists committed to delivering the latest and most relevant news from the world of technology to readers of The Times of India. TOI Tech Desks news coverage spans a wide spectrum across gadget launches gadget reviews trends indepth analysis exclusive reports and breaking stories that impact technology and the digital universe. Be it howtos or the latest happenings in AI cybersecurity personal gadgets platforms like WhatsApp Instagram Facebook and more TOI Tech Desk brings the news with accuracy and authenticity.Read More\n",
      "\n",
      "Model response:\n",
      ">> \n",
      "-------------------------------------\n",
      "58 => Below is an instruction that describes a task. Write a response that appropriately completes the request.\n",
      "\n",
      "### Instruction:\n",
      "Generate a Multiple Choice Question with answer on the below Tech input context.\n",
      "\n",
      "### Input:\n",
      "iQoo set to launch Z9 Turbo with 1.5K display Snapdragon 8s Gen 3 chipset 6000mAh battery 144Hz refresh rate 50MP dual camera 80W fast charging at Rs 19999. Soon after launching its midrange smartphone  Z9 iQoo is reportedly planning to launch a new Turbo version of it. Leaks and rumours have already started surfacing online regarding the unannounced smartphone. The latest leak about the smartphone has revealed the display chipset and a couple of key details.iQoo Z9 Turbo Leaked specificationsDigital Chat Station has dropped a new post on Weibo revealing the key details about the iQoo Z9 Turbo. According to the post the iQoo Z9 Turbo is speculated to feature a 1.5K display and it will be equipped with Qualcomm Snapdragon 8s Gen 3 chipset and 6000mAh battery.Recent leaks have suggested that the handset will support a 144Hz refresh rate and 50MP dual camera setup along with 80W fast charging support. Having said that iQoo hasnt confirmed the official release date or an event for the launch of the event. But we expect it to happen in the coming days or weeks. In other news iQoo launched the Z9 5G last week at a starting price of Rs 19999 for the base 8GB RAM and 128GB storage variant in two colour options  Graphene Blue and Brushed Green. The smartphone features a 6.67inch FHD AMOLED 120Hz display 1800nits peak brightness and DTStar2 Plus Glass protection. The handset runs MediaTek Dimensity 7200 chipset with Mali G610 GPU. Apart from this the smartphone come equipped with 8GB RAM and two storage options  128GB and 256GB. Along with this it also comes with microSD card slot for storage expansion. The handset runs Android 14 operating system with FunTouch OS14 custom skin. About the AuthorTOI Tech DeskThe TOI Tech Desk is a dedicated team of journalists committed to delivering the latest and most relevant news from the world of technology to readers of The Times of India. TOI Tech Desks news coverage spans a wide spectrum across gadget launches gadget reviews trends indepth analysis exclusive reports and breaking stories that impact technology and the digital universe. Be it howtos or the latest happenings in AI cybersecurity personal gadgets platforms like WhatsApp Instagram Facebook and more TOI Tech Desk brings the news with accuracy and authenticity.Read More\n",
      "\n",
      "Model response:\n",
      ">> Question:Which Indian startup has launched the Z9 Turbo with 1.5K display Snapdragon 8s Gen 3 chipset 6000mAh battery? \n",
      "Options: \n",
      "[A] iQoo  \n",
      "[B] Flipkart  \n",
      "[C] Snapdeal  \n",
      "[D] Flipkart Prime \n",
      "Correct Answer: A [iQoo]\n",
      "-------------------------------------\n",
      "59 => Below is an instruction that describes a task. Write a response that appropriately completes the request.\n",
      "\n",
      "### Instruction:\n",
      "Generate a Multiple Choice Question with answer on the below Tech input context.\n",
      "\n",
      "### Input:\n",
      "Samsung Galaxy A35 5G Galaxy A55 5G price revealedTOI Tech Desk  TIMESOFINDIA.COM  Updated Mar 14 2024 1055 ISTShareAAText SizeSmallMediumLarge  Samsung unveiled two new midrange smartphones  Galaxy A35 5G and Galaxy A55 5G  on Tuesday and now it has revealed the pricing of these two phones via the official website. At the time the company only revealed the design and specifications of both the smartphones. And now the official pricing has arrived for all the variants.Samsung has launched the Galaxy A35 5G in two variants  8GB  128GB and 8GB  256GB while the Galaxy A55 5G comes in 8GB  128GB 8GB  256GB and 12GB  256GB variants. Galaxy A35 5G and Galaxy A55 5G Price and availabilityModelRAMStoragePrice RsGalaxy A35 5G8GB128GB30999Galaxy A35 5G8GB256GB33999Galaxy A55 5G8GB128GB39999Galaxy A55 5G8GB256GB42999Galaxy A55 5G12GB256GB45999Samsung Galaxy A35 5G and Galaxy A55 5G are now available for purchase via Samsungs official website Samsung Shop along Samsungs official offline stores and other retail partners. Samsung is also offering Rs 3000 cashback on HDFC OneCard IDFC First Bank cards along with a 6 months No Cost EMI options. Alternatively customers can own the Galaxy A55 5G at just Rs 1792 per month and the Galaxy A35 at just Rs 1723 per month through Samsung Finance and all leading NBFC partners.Samsung Galaxy A55 5G FeaturesFeatureSpecificationDisplay6.6inch FHD with 1080x2340 pixel resolution 120Hz refresh rate Corning Gorilla Glass Victus protectionProcessorOctacore Exynos 1480 chipsetRAMUp to 12GBStorage128GB or 256GB expandable up to 1TB via microSD cardOperating SystemAndroid 14 with Samsung One UI 6.1Rear Cameras50MP main camera f1.8 12MP ultrawide angle camera f2.2 5MP macro sensor f2.4Front Camera32MPBiometric SecurityIndisplay fingerprint sensorIP RatingIP67 dust and water resistantBattery5000 mAh with 25W fast charging supportSamsung Galaxy A35 5G FeaturesFeatureSpecificationChipsetExynos 1380RAMUp to 8GBDisplay6.6inch FHD with 1080x2340 pixel resolution up to 120Hz refresh rateStorage128GB or 256GB expandable up to 1TB via microSD cardOperating SystemAndroid 14 with Samsung One UI 6.1SIMDual SIM supportRear Cameras50MP main camera f1.8 8MP ultrawide angle camera f2.2 5MP macro cameraFront Camera13MPWater  Dust Resist.Yes with coatingBattery5000 mAh with 25W fast charging supportAbout the AuthorTOI Tech DeskThe TOI Tech Desk is a dedicated team of journalists committed to delivering the latest and most relevant news from the world of technology to readers of The Times of India. TOI Tech Desks news coverage spans a wide spectrum across gadget launches gadget reviews trends indepth analysis exclusive reports and breaking stories that impact technology and the digital universe. Be it howtos or the latest happenings in AI cybersecurity personal gadgets platforms like WhatsApp Instagram Facebook and more TOI Tech Desk brings the news with accuracy and authenticity.Read More\n",
      "\n",
      "Model response:\n",
      ">> \n",
      "-------------------------------------\n",
      "60 => Below is an instruction that describes a task. Write a response that appropriately completes the request.\n",
      "\n",
      "### Instruction:\n",
      "Generate a Multiple Choice Question with answer on the below Tech input context.\n",
      "\n",
      "### Input:\n",
      "The Indian CERTIn warns Android users of High severity security flaws in multiple versions of the operating system including vulnerabilities that could lead to obtaining sensitive information gaining elevated privileges executing arbitrary code and causing denial of service conditions. Indian Computer Emergency Response Team CERTIn under the Ministry of Electronics and Information Technology Government of India has issued an important warning with a severity rating set to High for Android users. According to the report several security flaws have been found within the multiple versions of the Android operating system. The government body has warned users about the existing vulnerabilities that have been reported.What the government has saidAs per the report Multiple Vulnerabilities have been reported in Android which could be exploited by an attacker to obtain sensitive information gain elevated privileges execute arbitrary code or cause denial of service conditions on the targeted system.The vulnerabilities exist in Android due to flaws in Framework System AMLogic Arm components MediaTek components Qualcomm components  Qualcomm closedsource components.Also successful exploitation of these vulnerabilities can allow an attacker to obtain sensitive information and gain privileges and also run arbitrary code or even cause denial of service on the targeted system.Affected Android versionsThe vulnerabilities have been found within multiple versions of the Android including Android 11 Android 12 Android 12L Android 13 and Android 14 operating systems. Also this affects both Androidpowered smartphones and tablets. Whats the solutionThe government body has advised users to apply the latest security patch available for their devices.To check for the update follow these stepsOpen Settings on your smartphone or tabletTap on Software updatesThen tap on Check for updates button.Hit Install if theres an update available. Wait for it to download and install. Once done restart the phone.About the AuthorTOI Tech DeskThe TOI Tech Desk is a dedicated team of journalists committed to delivering the latest and most relevant news from the world of technology to readers of The Times of India. TOI Tech Desks news coverage spans a wide spectrum across gadget launches gadget reviews trends indepth analysis exclusive reports and breaking stories that impact technology and the digital universe. Be it howtos or the latest happenings in AI cybersecurity personal gadgets platforms like WhatsApp Instagram Facebook and more TOI Tech Desk brings the news with accuracy and authenticity.Read More\n",
      "\n",
      "Model response:\n",
      ">> Correct Answer: C [Android]\n",
      "-------------------------------------\n",
      "61 => Below is an instruction that describes a task. Write a response that appropriately completes the request.\n",
      "\n",
      "### Instruction:\n",
      "Generate a Multiple Choice Question with answer on the below Tech input context.\n",
      "\n",
      "### Input:\n",
      "Doordarshan will telecast live the Mangala Shringaar Rajbhog Sandhya and Shayan Aartis offered to the Ram Lalla idol at the Ayodhya Ram temple on DD National connecting devotees who cant visit the temple. National broadcaster Doordarshan has good news for Lord Ram Devotees. Doordarshan has announced that it will telecast live the morning prayers offered to the Ram Lalla idol at the Ram Temple in Ayodhya every day.Doordarshan has shared the same in a post on X formerly Twitter. Doordarshan said that the morning aarti offered to Ram Lalla will be telecast live on DD National every morning from 630 am.The national broadcaster said that the decision to telecast the morning aarti live every day was taken with the aim of connecting devotees of Lord Ram especially after the temple was inaugurated less than two months ago in a grand ceremony and everyone cant visit the temple in person. The Aarti will be telecast simultaneously on DDs YouTube channel also.Secondly the decision was taken because the Trust doesnt have logistical arrangements as of now for a live broadcast. Therefore DD will be posting a twothreemember crew on the temple premises for the coverage of the daily ritual.DDs announcement to telecast the Aarti live for 30 minutes every morning comes after getting the goahead from the Shri Ram Janmabhoomi Teerth Kshetra Trust for the same. Initially DD will air the Mangala aarti for a few months and then the Ram Temple Trust will take a call on how to take it forward.6 Aartis daily at the Ayodhya Ram templeThere are 6 aartis of Ram Lalla held daily in Ayodhya Ram temple. These include Mangala Aarti at 430 am Shringaar Aarti at 630 am Rajbhog Aarti at 12 noon Utthapan Aarti at 2 pm Sandhya Aarti at 7 pm and Shayan Aarti at 10 pm.Giving directions to devotees for Aarti the temple trust said Entry for Mangala Aarti at 4 AM Shringar Aarti at 615 AM and Shayan Aarti at 10 PM is possible only with an entry pass. No entry passes required for other Aartis.Shri Ram Janmbhoomi Teerth Kshetra trust advisory to devoteesIn an advisory to devotees coming for darshan at the temple the Shri Ram Janmbhoomi Teerth Kshetra said Devotees can enter the Shri Ram Janmabhoomi Mandir for Darshan from 630 AM to 930 PM. The entire process from entry to exit after Darshan at the Shri Ram Janmabhoomi Mandir is extremely simple and convenient. Typically devotees can have a smooth Darshan of Prabhu Shri Ram Lalla Sarkar within 60 to 75 minutes.The temple trust advised devotees to leave their mobile phones footwear purses and other personal items outside the Mandir premises for their convenience and to save time.It has also asked devotees not to bring flowers garlands Prasad to the Shri Ram Janmabhoomi Mandir.About the AuthorTOI Tech DeskThe TOI Tech Desk is a dedicated team of journalists committed to delivering the latest and most relevant news from the world of technology to readers of The Times of India. TOI Tech Desks news coverage spans a wide spectrum across gadget launches gadget reviews trends indepth analysis exclusive reports and breaking stories that impact technology and the digital universe. Be it howtos or the latest happenings in AI cybersecurity personal gadgets platforms like WhatsApp Instagram Facebook and more TOI Tech Desk brings the news with accuracy and authenticity.Read More\n",
      "\n",
      "Model response:\n",
      ">> Question:Which news organization is responsible for telecasting the morning aarti offered to the Ram Lalla idol at the Ayodhya Ram temple? \n",
      "Options: \n",
      "[A] Doordarshan  \n",
      "[B] NDTV  \n",
      "[C] CNN  \n",
      "[D] BBC \n",
      "Correct Answer: A [Doordarshan]\n",
      "-------------------------------------\n",
      "62 => Below is an instruction that describes a task. Write a response that appropriately completes the request.\n",
      "\n",
      "### Instruction:\n",
      "Generate a Multiple Choice Question with answer on the below Tech input context.\n",
      "\n",
      "### Input:\n",
      "ChatGPT experienced an outage with 91 of users facing issues. OpenAI acknowledged the problem and the service is now back online with performance back to normal. The TOI Tech team verified the restoration on the website and mobile app. ChatGPT went through an outage. The outage tracking website  Downdetector  has also received reports from several users suggesting that they are unable to access the OpenAIs chatbot. According to the report around 91 of people are faced issues while accessing ChatGPT. Around 7 of users were unable to access the website and the rest were unable to log into their ChatGPT account. Users also took to X formerly Twitter to post about the ongoing outage.What OpenAI has to sayWhile users were facing issues while accessing the ChatGPT OpenAIs official status page also acknowledged the outage. The company has mentioned the issue as increased latency and errors affecting both ChatGPT and APIs. Also the service is now back online as per the official OpenAI Status page and the latency issue has been fixed. Performance is now back to normal reads the official page. To verify this TOI Tech team also tried accessing ChatGPT on the web as well as via the mobile app and in both places ChatGPT appears to be working fine without any issues.About the AuthorTOI Tech DeskThe TOI Tech Desk is a dedicated team of journalists committed to delivering the latest and most relevant news from the world of technology to readers of The Times of India. TOI Tech Desks news coverage spans a wide spectrum across gadget launches gadget reviews trends indepth analysis exclusive reports and breaking stories that impact technology and the digital universe. Be it howtos or the latest happenings in AI cybersecurity personal gadgets platforms like WhatsApp Instagram Facebook and more TOI Tech Desk brings the news with accuracy and authenticity.Read More\n",
      "\n",
      "Model response:\n",
      ">> \n",
      "-------------------------------------\n",
      "63 => Below is an instruction that describes a task. Write a response that appropriately completes the request.\n",
      "\n",
      "### Instruction:\n",
      "Generate a Multiple Choice Question with answer on the below Tech input context.\n",
      "\n",
      "### Input:\n",
      "Microsoft discontinues Surface Duo smartphones but files a patent for a new foldable device with a single hinge system called spine cover plate. The design aims to eliminate the hinge crease and reduce the devices thickness while offering added benefits and durability. However its practicality remains uncertain. Microsoft did not get the success it was anticipating with its Androidpowered Surface Duoseries smartphones. The company has discontinued the lineup after the Duo 2. But this does not mean the company has stopped trying. A new patent application filed with the United States Patent and Trademark Office on February 29 reveals that the company is working on another foldable or dualdisplay mobile device.The patent application describes the companys take on the foldable smartphone concept with single hinge technology called spine cover plate.Next Microsoft smartphones could feature a Galaxy Z Foldlike designAccording to the patent application the phone could feature a flexible display in a bookstyle design similar to Galaxy Z Fold decies. However the entire focus is on the spine cover plate mechanism which is aimed at protecting the singlehinge system of the device by covering the structural element. The differentiating factor between the regular hinge and Microsofts design is that the spine cover adjusts automatically during the opening and closing of the phone to prevent any unnecessary gaps around the hinge to protect it from dust as well as water. Currently Samsungs design offers an IPX8 rating which makes their foldables waterresistant only.The patent further mentions that the new hinge mechanism could allow Microsoft to eliminate the hinge crease less visible than the current options available in the market. Moreover Microsoft has also mentioned techniques that could allow them to reduce the overall thickness of the foldable smartphone by allowing the spine cover plate to move closer to the devices hinge when folded. By retracting the spine cover plate toward the central spine as the first displaysupporting frame and the second displaysupporting frame are rotated into a facetoface orientation the width of the folded computing device is reduced thereby enabling easier and more comfortable handling of the device such as with one hand Microsoft noted in the patent.Interesting idea but practicality is a question markThe entire smartphone market is searching for a way to eliminate the foldable crease from their smartphones. Some brands have already implemented the waterdrop folding mechanism to reduce it but theres nothing like a creasefree foldable out there. Apart from that the durability quotient of foldable is also important considering all the movable parts these phones have. That said adding another layer or a movable part on top of the entire foldable mechanism does not appear like a wise move despite the added benefits and durability Microsoft has explained in the patent application.About the AuthorTOI Tech DeskThe TOI Tech Desk is a dedicated team of journalists committed to delivering the latest and most relevant news from the world of technology to readers of The Times of India. TOI Tech Desks news coverage spans a wide spectrum across gadget launches gadget reviews trends indepth analysis exclusive reports and breaking stories that impact technology and the digital universe. Be it howtos or the latest happenings in AI cybersecurity personal gadgets platforms like WhatsApp Instagram Facebook and more TOI Tech Desk brings the news with accuracy and authenticity.Read More\n",
      "\n",
      "Model response:\n",
      ">> \n",
      "-------------------------------------\n",
      "64 => Below is an instruction that describes a task. Write a response that appropriately completes the request.\n",
      "\n",
      "### Instruction:\n",
      "Generate a Multiple Choice Question with answer on the below Tech input context.\n",
      "\n",
      "### Input:\n",
      "Elon Musks X platform banned over 5 lakh Indian accounts for violating policies including promoting terrorism and child sexual exploitation. Users should avoid violating policies to prevent account suspension. Elon Musks social media platform X formerly Twitter has banned over 5 lakh accounts in India. Reuters has reported that these accounts were banned for violating several policies set by social media platforms and these accounts have been banned between January 26 and February 25. Total X accounts banned in FebruaryAccording to the report the social media platform has banned 506173 accounts for promoting child sexual exploitation and nonconsensual nudity. In addition to this the platform suspended 1982 accounts for promoting terrorism. Combining both X has banned a total of 508155 accounts during the said period in India. Also the platform has received around 14421 complaints from Indian users through its grievance redressal mechanisms. Moreover around 41 requests have been raised regarding account suspensions. The company mentioned in its We overturned 1 of these account suspensions after reviewing the specifics of the situation. The remaining reported accounts remain suspended said the company.We received 71 requests related to general questions about accounts during this reporting period it added.This is not a new practice for X to ban accounts for violating the policy. Between December 26 and January 25 the platform banned around 231 215 accounts in India. In the same period the company banned 1945 accounts for promoting terrorism on its platform. Tips to prevent X account from getting bannedTo prevent X from taking down your account avoid violating the policies set by the platform. Prevent posting from child sexual exploitation and nonconsensual nudity. About the AuthorTOI Tech DeskThe TOI Tech Desk is a dedicated team of journalists committed to delivering the latest and most relevant news from the world of technology to readers of The Times of India. TOI Tech Desks news coverage spans a wide spectrum across gadget launches gadget reviews trends indepth analysis exclusive reports and breaking stories that impact technology and the digital universe. Be it howtos or the latest happenings in AI cybersecurity personal gadgets platforms like WhatsApp Instagram Facebook and more TOI Tech Desk brings the news with accuracy and authenticity.Read More\n",
      "\n",
      "Model response:\n",
      ">> Question:Which Indian technology company has introduced the X platform? \n",
      "Options: \n",
      "[A] Amdocs  \n",
      "[B] BharatPehle  \n",
      "[C] Aditya Birla  \n",
      "[D] IndusInd \n",
      "Correct Answer: A [Amdocs]\n",
      "-------------------------------------\n",
      "65 => Below is an instruction that describes a task. Write a response that appropriately completes the request.\n",
      "\n",
      "### Instruction:\n",
      "Generate a Multiple Choice Question with answer on the below Tech input context.\n",
      "\n",
      "### Input:\n",
      "Google supports the Indian General Election by providing easy access to voting information and countering misinformation. Initiatives include partnering with the Election Commission prioritizing trusted content on YouTube and implementing advertising policies for transparency. Measures against AIgenerated content are also taken. Google has announced a series of initiatives aimed at supporting the democratic process and safeguarding its platforms from abuse during the upcoming Indian General Election. With millions of eligible voters heading to the polls the tech giant has said that recognises its responsibility to connect users with reliable information and counter the spread of misinformation including AIgenerated content.Easy access to voting information on Search and YouTubeGoogle has mentioned that its primary focus is on providing easy access to authoritative information from trusted sources.The company has also partnered with the Election Commission of India to showcase critical details on Google Search and YouTube such as how to register and vote in English and Hindi. Apart from this YouTubes recommendation system will prioritise trusted content during the election season. Additionally YouTubes homepage will prominently showcase trusted content along with an Up Next panel to make electionrelated details easily available for users. YouTube will also highlight content from trusted sources during key moments through its Top News and Breaking News as well as a news watch page. Moreover the tech giant has also set up information panels that indicate funding sources from publishers that receive public or government funding and information panels that provide topical context for topics prone to misinformation. Safeguarding misinformationTo protect the integrity of the electoral process and to protect its products and services from abuse Google has reinforced its existing policies to keep its products and platforms safe while curbing misinformation at the same time. Also the policies apply to all users irrespective of the content type. The company has employed a combination of human reviewers and artificial intelligence models to identify and remove content that violates these policies. Googles AI capabilities are enhancing its abusefighting efforts enabling faster action against emerging threats.Advertising during election campaignsTo keep things transparent when it comes to election advertising the company requires advertisers to undergo identity verification and provide necessary certifications from the Election Commission. Election ads must also include disclosures indicating the advertisers identity and location. Google maintains a searchable hub for all election ads providing insights into the advertisers and their spending.Restricting AIgenerated contentGoogle has also taken some steps to help identify AIgenerated content through new tools and policies. The company has introduced disclosure requirements for election ads containing synthetic content and will soon require creators on YouTube to label realistic altered or synthetic content. The new ad policies prohibit the use of manipulated media to mislead people like deepfakes or doctored content.Google has also implemented restrictions to Gemini on the types of electionrelated queries it will respond to and has also prioritised the provision of highquality information. Additional features such as the About this Image tool in Search and digital watermarking for AIgenerated images aim to provide users with context and assess credibility.Furthermore Google has joined the C2PA coalition a crossindustry effort to provide transparency and context for AIgenerated content. The company has confirmed the deployment of technology to counter harmful AIgenerated content aimed at deceiving voters during the 2024 elections.About the AuthorTOI Tech DeskThe TOI Tech Desk is a dedicated team of journalists committed to delivering the latest and most relevant news from the world of technology to readers of The Times of India. TOI Tech Desks news coverage spans a wide spectrum across gadget launches gadget reviews trends indepth analysis exclusive reports and breaking stories that impact technology and the digital universe. Be it howtos or the latest happenings in AI cybersecurity personal gadgets platforms like WhatsApp Instagram Facebook and more TOI Tech Desk brings the news with accuracy and authenticity.Read More\n",
      "\n",
      "Model response:\n",
      ">> Question:Which Indian technology company has announced a series of initiatives aimed at strengthening its anti-malware defense capabilities? \n",
      "Options: \n",
      "[A] Microsoft  \n",
      "[B] Google  \n",
      "[C] Amazon  \n",
      "[D] Qualcomm \n",
      "Correct Answer: C [Amazon]\n",
      "-------------------------------------\n",
      "66 => Below is an instruction that describes a task. Write a response that appropriately completes the request.\n",
      "\n",
      "### Instruction:\n",
      "Generate a Multiple Choice Question with answer on the below Tech input context.\n",
      "\n",
      "### Input:\n",
      "Indian Railways AI chatbot AskDisha 2.0 powered by CoRover.AI offers a range of services like booking tickets refunds checking PNR status cancelling tickets changing boarding station checking booking history and accessing etickets via text or voice commands in multiple languages.  To make it easier for users to book train tickets and avail of other trainrelated services via the Indian Railways Catering and Tourism Corporation IRCTC platform Indian Railways offers an AI chatbot called AskDisha 2.0. The chatbot offers users a range of services like booking tickets and getting refunds and it even provides necessary information. Heres everything you need to know about the IRCTCs AI chatbot. What is AskDisha 2.0AskDisha 2.0 also known as Digital Interaction TO Seek Help Anytime is an artificial intelligence and machine learningbased chatbot powered by CoRover.AI. The chatbot supports Hindi English and Hinglish languages and is available on both IRCTCs mobile app and website. It facilitates several services offered by the train ticket booking platform such as booking tickets checking PNR status cancelling tickets and more using simple commands with AskDisha 2.0. Apart from these AskDisha 2.0 also supports voice commands and offers users the option to access the service using voice commands to access the services. Services supported by AskDisha 2.0Book TicketCheck PNR StatusCancel TicketGet Refund StatusChange Boarding StationCheck Booking HistoryView ETicketDownload ERSPrint  Share ETicketHow to access AskDisha 2.0AskDisha 2.0 is available on IRCTCs website as well as mobile app. To access it open the official IRCTC websiteLook for AskDisha 2.0 logo at the bottom right corner of the home pageEnter the necessary details or simply start typing your query in the text box below Alternatively you can also click on the microphone icon to speak your command.To use AskDisha 2.0 on your phone download the IRCTC Rail Connect app on your smartphoneLook for AskDisha 2.0 icon and start typing or speaking your query.About the AuthorTOI Tech DeskThe TOI Tech Desk is a dedicated team of journalists committed to delivering the latest and most relevant news from the world of technology to readers of The Times of India. TOI Tech Desks news coverage spans a wide spectrum across gadget launches gadget reviews trends indepth analysis exclusive reports and breaking stories that impact technology and the digital universe. Be it howtos or the latest happenings in AI cybersecurity personal gadgets platforms like WhatsApp Instagram Facebook and more TOI Tech Desk brings the news with accuracy and authenticity.Read More\n",
      "\n",
      "Model response:\n",
      ">> \n",
      "-------------------------------------\n",
      "67 => Below is an instruction that describes a task. Write a response that appropriately completes the request.\n",
      "\n",
      "### Instruction:\n",
      "Generate a Multiple Choice Question with answer on the below Tech input context.\n",
      "\n",
      "### Input:\n",
      "This popular YouTubers account got hacked What happened and tips to safeguard your accountTOI Tech Desk  TIMESOFINDIA.COM   Mar 11 2024 1528 ISTShareAAText SizeSmallMediumLarge  Sharan Hegde an entrepreneur and founder of The 1 Club who also runs a YouTube channel named  financewithsharan has claimed that his YouTube account got hacked via his personal Instagram account. In his Instagram post he mentioned that his account got compromised and hackers started live streaming Bitcoin prices on his YouTube channel. Hegde claimed that the live stream on his YouTube channel showcased Bitcoin prices reaching 100K which translates to approximately Rs 6944800Hegde mentioned that as a part of the negotiation all the contents from the YouTube channel were washed away however it was recovered later on.His post reads The hacker took control of the account  started a live stream of Bitcoin prices reaching 100k  without my consent of course. Within minutes I got 100s of DMs from you guys informing me about the fact. Thank you so much for alerting me but unfortunately the channel got terminated  I didnt know what to do. My 3 years of hard work just disappeared right in front of my eyes.Tips to keep YouTube account secureYouTube has shared several tips on keeping YouTube accounts safe and secure on its official support page. Create a strong password This is the most basic step for keeping any account secure. A strong password with a combination of letters numbers and symbols can go a long way in preventing it from getting hacked. Also it is advisable to avoid sharing personal account information with anyone especially the login credentials. Regular security checkup Google offers a Security checkup feature with a Google account that allows users to scan their passwords and accounts for potential breaches and also take necessary actions. 2step verification Enabling 2step verification adds a layer of security for any account including Google. Remove suspicious people from your accountRemove sites and apps you dont needUpdate your software and back up your accountProtect against suspicious messages  contentManage access requests properly YouTube allows users to set access permissions for users to manage a YouTube account. So assign the necessary permissions to users you trust. About the AuthorTOI Tech DeskThe TOI Tech Desk is a dedicated team of journalists committed to delivering the latest and most relevant news from the world of technology to readers of The Times of India. TOI Tech Desks news coverage spans a wide spectrum across gadget launches gadget reviews trends indepth analysis exclusive reports and breaking stories that impact technology and the digital universe. Be it howtos or the latest happenings in AI cybersecurity personal gadgets platforms like WhatsApp Instagram Facebook and more TOI Tech Desk brings the news with accuracy and authenticity.Read More\n",
      "\n",
      "Model response:\n",
      ">> \n",
      "-------------------------------------\n",
      "68 => Below is an instruction that describes a task. Write a response that appropriately completes the request.\n",
      "\n",
      "### Instruction:\n",
      "Generate a Multiple Choice Question with answer on the below Tech input context.\n",
      "\n",
      "### Input:\n",
      "Elon Musk criticizes OpenAIs deviation from mission and advocates AI accessibility for all. Musk announces xAI open sourcing Grok chatbot. OpenAI CEO Altman takes a dig at Musks chatbot. Musk obviously didnt like the jab and replied with a longish message saying GPT4 is about as funny as a screendoor on a submarine.  Elon Musk has been extremely critical of ChatGPT maker OpenAI for deviating from its mission to develop AI for the benefit of humanity and taking a profitmaking path. He has advocated that artificial intelligence AI should be accessible for all and he has now announced that his AI startup xAI will open source Grok chatbot this week.This week xAI will open source Grok Musk said in a post on X formerly Twitter.In simpler words opensourcing a software like a chatbot means that the software projects are redistributable as all source code is accessible by everyone. One of the advantages of having open source software is that it provides flexibility to an enterprise to have multiple ways of fixing a problem rather than waiting for an internal team to provide a solution.OpenAI is a lieMeanwhile a user suggested that OpenAI should do the same.OpenAI should do the same if they are open that is the user said. Musk replied OpenAI is a lie.Musk wants AI technology to be opensource Musk had floated the idea of opensourcing AI during a podcast in November last year. In a podcast with Lex Fridman Musk suggested that he likes the idea of opensource AI. I am generally in favour of open sourcing like biassed towards open sourcing he said.His comments came soon after his AI company called xAI released Grok its chatbot which reportedly took four months to build. OpenAI CEO Sam Altman was quick to take a dig at this and shared a post in which he built Grok with a single prompt on GPT Builder.GPTs can save a lot of effort he said.Musk obviously didnt like the jab and replied with a longish message saying GPT4 is about as funny as a screendoor on a submarine. About the AuthorTOI Tech DeskThe TOI Tech Desk is a dedicated team of journalists committed to delivering the latest and most relevant news from the world of technology to readers of The Times of India. TOI Tech Desks news coverage spans a wide spectrum across gadget launches gadget reviews trends indepth analysis exclusive reports and breaking stories that impact technology and the digital universe. Be it howtos or the latest happenings in AI cybersecurity personal gadgets platforms like WhatsApp Instagram Facebook and more TOI Tech Desk brings the news with accuracy and authenticity.Read More\n",
      "\n",
      "Model response:\n",
      ">> Question:Which startup has launched the world’s first Artificial Intelligence (AI) chatbot named Grok? \n",
      "Options: \n",
      "[A] Microsoft  \n",
      "[B] Amazon  \n",
      "[C] Google  \n",
      "[D] Meta \n",
      "Correct Answer: C [Google]\n",
      "-------------------------------------\n",
      "69 => Below is an instruction that describes a task. Write a response that appropriately completes the request.\n",
      "\n",
      "### Instruction:\n",
      "Generate a Multiple Choice Question with answer on the below Tech input context.\n",
      "\n",
      "### Input:\n",
      "The Moto G54 budget smartphone with two variants has received a price cut. The 8GB version is priced at Rs 13999 and the 12GB variant is selling at Rs 15999. It features a 6.5inch FHD display 120Hz refresh rate and a 50MP main sensor.  If you have been planing to purchase a budget smartphone then you can consider buying the Moto G54. Launched last year the Moto G54 comes in two variants and both of them have receives a price cut. The Moto G54 features an FHD display and is powered by a MediaTek Dimensity chipset. New priceMotorola launched the Moto G54 smartphone in September last year.The company launched the two variants of the smartphone  8GB128GB and 12GB256GB priced at Rs 15999 and Rs 18999 respectively. The 8GB version of the smartphone has got a price cut of Rs 2000 and it can now be purchased at Rs 13999. On the other hand the 12GB variant has got a price cut of Rs 3000 and it is now selling at Rs 15999. Customers can purchase the Moto G54 in Mint Green Midnight Blue and Pearl Blue colour options. Moto G54 specificationsMoto G54 comes with a 6.5inch FHD display with 1080x2400 pixel resolution. The display offers 120Hz refresh rate and up to 560 nits of peak brightness level. The display of the smartphone is protected with a layer of Panda glass on top. The affordable Motorola smartphone is powered by an octacore MediaTek Dimensity 7020 chipset. The smartphone comes in two variants  8GB128GB and 12GB256GB. Users can further expand the storage by adding a microSD card to up to 1TB.Moto G54 runs Android 13 operating system topped with companys own layer of My UX. The smartphone sports a dual rear camera with 50MP main sensor with f1.8 aperture 8MP ultra wide angle lens with f2.2 aperture. Front is home to a 16MP front camera with f2.4 aperture. The smartphone comes equipped with a sidemounted fingerprint sensor. Moto G54 comes with IP54 rating which makes the smartphone resistant to dust and splash. The smartphone is backed by a 6000 mAh battery with 30W fast charging support.About the AuthorTOI Tech DeskThe TOI Tech Desk is a dedicated team of journalists committed to delivering the latest and most relevant news from the world of technology to readers of The Times of India. TOI Tech Desks news coverage spans a wide spectrum across gadget launches gadget reviews trends indepth analysis exclusive reports and breaking stories that impact technology and the digital universe. Be it howtos or the latest happenings in AI cybersecurity personal gadgets platforms like WhatsApp Instagram Facebook and more TOI Tech Desk brings the news with accuracy and authenticity.Read More\n",
      "\n",
      "Model response:\n",
      ">> \n",
      "-------------------------------------\n",
      "70 => Below is an instruction that describes a task. Write a response that appropriately completes the request.\n",
      "\n",
      "### Instruction:\n",
      "Generate a Multiple Choice Question with answer on the below Tech input context.\n",
      "\n",
      "### Input:\n",
      "Bobby Kotick former head of Activision Blizzard may buy TikTok amid its potential US ban. A bill to sell TikTok is introduced backed by President Biden. Kotick discussed acquisition with OpenAI head. Activision Blizzard faced a lawsuit. Concerns about data privacy and ties to China persist. TikTok urges American users to support it.  Bobby Kotick the former head of Activision Blizzard is reportedly considering buying TikTok as the app could be banned in the United States. The Wall Street Journal reports that Kotick has talked to ByteDance the company that owns TikTok about buying the app which could cost hundreds of billions of dollars.This comes as US lawmakers introduce a new bill that would make ByteDance sell TikTok within six months or stop it from being available in US app stores.President Joe Biden has said he would approve the bill if it passes in Congress.The Wall Street Journal report adds that Kotick the head of OpenAI Sam Altman discussed teaming up to buy TikTok at a dinner last week. Koticks interest in TikTok follows a rough end to his 30 years leading Activision Blizzard which Microsoft acquired last year. The company faced a lawsuit saying it allowed sexual harassment and discrimination under Koticks leadership. The Wall Street Journal also said Kotick knew about bad behaviour and didnt tell the board everything. Kotick was accused of harassment but Activision Blizzard said the report was misleading.Lawmakers are worried about data privacy and TikToks ties to China. US President Biden whose administration has banned the app already on state devices has expressed his support for banning the app in the US. However former President Donald Trump who once wanted to ban TikTok has changed his mind saying a ban would help TikToks rivals like Facebook and YouTube. As the bill against TikTok gains support the app has asked its American users to speak up for it sending messages telling users to call their representatives. The bill which passed a committee last week is expected to be approved when the House votes on Wednesday. If it passes it will then go to the Senate and then the bill will be signed by the President of the US.Former Activision boss reportedly wants to buy TikTokAbout the AuthorTOI Tech DeskThe TOI Tech Desk is a dedicated team of journalists committed to delivering the latest and most relevant news from the world of technology to readers of The Times of India. TOI Tech Desks news coverage spans a wide spectrum across gadget launches gadget reviews trends indepth analysis exclusive reports and breaking stories that impact technology and the digital universe. Be it howtos or the latest happenings in AI cybersecurity personal gadgets platforms like WhatsApp Instagram Facebook and more TOI Tech Desk brings the news with accuracy and authenticity.Read More\n",
      "\n",
      "Model response:\n",
      ">> Question:Which former head of a major global company has proposed to buy a US-based mobile app called TikTok? \n",
      "Options: \n",
      "[A] Bobby Kotick  \n",
      "[B] Satya Nadella  \n",
      "[C] Steve Ballmer  \n",
      "[D] Tim Cook \n",
      "Correct Answer: A [Bobby Kotick]\n",
      "-------------------------------------\n",
      "71 => Below is an instruction that describes a task. Write a response that appropriately completes the request.\n",
      "\n",
      "### Instruction:\n",
      "Generate a Multiple Choice Question with answer on the below Tech input context.\n",
      "\n",
      "### Input:\n",
      "Why Earth Sciences minister Rijiju is upset with this European IT companyTOI Tech Desk  TIMESOFINDIA.COM  Updated Mar 11 2024 1439 ISTShareAAText SizeSmallMediumLargeFollow us  PTI photo Earth Sciences Minister Kiren Rijiju is reportedly upset with the French IT company Atos. Reason is said to be delay in the delivery of two supercomputers by the French company to Indian weather forecasting institutes. According to a report in news agency PTI the Earth Sciences Ministry had ordered two supercomputers worth 100 million from French firm Eviden of the Atos Group last year to enhance the computing capabilities of its institutions  the National Centre for Medium Range Weather Forecasting NCMRWF and the Indian Institute of Tropical Meteorology IITM.I am more upset because the target we set was December. The Union Cabinet had already approved purchasing the supercomputer. We have only four petaflop capacity. We want to install up to 18 petaflop capacity Rijiju told PTI in a video interview.He said that the French company ran into some financial trouble and wanted the government to make payment to its subsidiary.Minister says that the delay is causing him worryRijiju said that the delay has caused him lots of worry as the company has overshot the timeline. But I think we will sort it out soon he said adding that the government wanted to be very correct in our position legally.We are ready to release the money because we want the machine immediately. The only problem is the amount is not small. So if we pay now if the company is bankrupt or something happens who will bail out the minister said.Rijiju further added that the government was taking some steps to speed up the delivery of the supercomputer but did not elaborate. But I hope the French government will also intervene because we have a good understanding and a very good relationship with the French government.Since it is a highcost equipment we want to ensure that the transaction happens duly and properly he said.From outside everythings ready. It is only the problem with the main company. They want us to pay their subsidiary. We will pay only to a company whom we have entered an MoU with Rijiju said.The supercomputing system based on Evidens BullSequana XH2000 is said to have a combined power capacity of up to 21.3 petaflops.Supercomputer at IITMThe supercomputer at the Punebased IITM will provide 13 petaflops of computing power for atmosphere and climate research. As per the PTI report it will integrate 3000 CPU nodes using AMD EPYC 7643 processors and 26 GPU nodes through NVIDIA A100 Tensor Core GPUs. The system will benefit from the NVIDIA Quantum InfiniBand networking platform with InNetwork Computing 3PB all flash and 29PB diskbased DDN EXAScaler ES400NVX2 storage and Micron hightechnology memory.The existing computing facility at NCMRWF is 2.8 petaflops and at IITM is 4 petaflops respectively.About the AuthorTOI Tech DeskThe TOI Tech Desk is a dedicated team of journalists committed to delivering the latest and most relevant news from the world of technology to readers of The Times of India. TOI Tech Desks news coverage spans a wide spectrum across gadget launches gadget reviews trends indepth analysis exclusive reports and breaking stories that impact technology and the digital universe. Be it howtos or the latest happenings in AI cybersecurity personal gadgets platforms like WhatsApp Instagram Facebook and more TOI Tech Desk brings the news with accuracy and authenticity.Read More\n",
      "\n",
      "Model response:\n",
      ">> Correct Answer: B [Earth Sciences Ministry]\n",
      "-------------------------------------\n",
      "72 => Below is an instruction that describes a task. Write a response that appropriately completes the request.\n",
      "\n",
      "### Instruction:\n",
      "Generate a Multiple Choice Question with answer on the below Education input context.\n",
      "\n",
      "### Input:\n",
      "The Bar Council of India has imposed a threeyear moratorium on new law colleges due to concerns about declining educational standards and an oversupply of graduates. This pause aims to allow for audits stricter regulations and curriculum reforms to improve the quality of legal education. Exceptions may be considered for underserved regions signalling a calibrated approach to address systemic issues. Law College Dreams A Bright Future The Bar Council of India BCI the statutory body that regulates legal education and practice has recently imposed a threeyear moratorium on the establishment of new law colleges and centres of legal education CLEs. Indias legal education has long resembled an overcrowded courtroom Too many petitioners too few advocates of substance and an avalanche of paper that often hides the paucity of substance. At first glance the decision may appear draconian in a country with soaring demand for legal education. But scratch beneath the surface and the move reflects a deeper crisis in Indias legal training ecosystemone that regulators are keen to fix before allowing further expansion.The problem of quantity over qualityEstimates suggest that India today has over 1700 law colleges producing approximately 8000090000 graduates each year. In theory this should be a celebration of democracy of access of justice made tangible through a wider pool of practitioners. In practice the majority of these institutions are barely more than signboards with classrooms. They offer skeletal libraries nonexistent moot courts and faculty that too often treat teaching as a reluctant parttime job.Multiple surveys by the BCI and independent commissions have revealed that a large share of law colleges operate more as degree shops than serious centres of learning. They lack fulltime qualified faculty libraries are skeletal and clinical legal training is almost absent. The result Graduates who hold a degree but are often illprepared for practice in courts corporate firms or public service.Employment mismatch The graduate glutThe crisis is not just academic but also economic. For every clutch of graduates from National Law Universities who step into gleaming corporate boardrooms there are thousands more who wander from chambers to district courts struggling to find cases or worse jobs that match neither their degree nor their debt. The glut of unemployable law graduates has become the professions open secret.The BCI has been repeatedly criticised for allowing proliferation of substandard colleges leading to an oversupply of graduates with limited practical skills. By announcing a freeze the regulator is signalling that it wants to correct the imbalance between supply and demand.Using the pause to raise standardsThe moratorium is also about buying time to implement reforms. During this threeyear window the BCI aims toAudit existing colleges to ensure compliance with infrastructure faculty and curriculum standards.Tighten recognition norms making it harder for institutions to survive without meeting minimum requirements.Push for practical training including moot courts internships and clinical legal education.Align curricula with contemporary needscyber law arbitration AI and lawso that graduates are better prepared for modern practice.In short the BCI wants to ensure that the next expansion of law colleges is accompanied by higher academic rigour and professional credibility rather than unchecked growth.A history of oversight failuresThis is not the first time the legal education sector has been under the scanner. Back in the 1990s the Yash Pal Committee and the National Knowledge Commission flagged concerns about the proliferation of substandard professional collegesin law engineering and management alike. Despite multiple warnings regulatory loopholes allowed a surge of law colleges in semiurban and rural areas many without the means to deliver quality education.The current moratorium is therefore an acknowledgement of past regulatory failures. It reflects the BCIs recognition that before more licences are granted existing institutions must be cleaned up and strengthened.The broader context Lack of trust in the legal systemIndias judiciary is already battling a credibility crisis with innumerable pending cases long delays and concerns about access to justice. In this context poorly trained lawyers only worsen the problem. The moratorium thus serves a symbolic as well as practical purpose Sending a message that legal education cannot be diluted without damaging the very justice system it feeds into.Interestingly the BCI has kept the door slightly ajar. The Council has said that in backward or underserved regions exceptions may be considered if there is a strong case for opening a new institution. This indicates that the moratorium is not an absolute freeze but a carefully calibrated pause.Recent developmentsWhile new colleges are blocked existing institutions are seeing active regulatory engagementCNLUs 3Year LLB Course Chanakya National Law University Patna has been permitted to start a threeyear LLB programme from 202526 making it the fourth NLU to do so. This suggests that the BCI is still encouraging programme diversification within reputed universities.Gujarat Colleges Back in Admissions Fourteen grantinaid law colleges in Gujarat previously excluded for noncompliance have been reinstated into the admission process after the state government cleared dues and promised reforms. They must now strictly follow faculty and infrastructure norms.The road aheadThe moratorium is not merely about stopping new colleges it is about resetting the standards of legal education in India. If the BCI uses these three years to enforce accountability upgrade curricula and weed out nonperforming institutions the longterm benefits could be significant.However if this pause ends without meaningful reform it risks being yet another cosmetic measureleaving students to bear the brunt of a system that churns out degrees without delivering real opportunity.Ready to navigate global policies Secure your overseas future. Get expert guidance now\n",
      "\n",
      "Model response:\n",
      ">> .\n",
      "-------------------------------------\n",
      "73 => Below is an instruction that describes a task. Write a response that appropriately completes the request.\n",
      "\n",
      "### Instruction:\n",
      "Generate a Multiple Choice Question with answer on the below Education input context.\n",
      "\n",
      "### Input:\n",
      "Effective notetaking is a crucial skill for students emphasizing active listening processing information and using techniques like the Cornell method and visual thinking. Experts recommend revisiting notes within 24 hours to reinforce memory and transforming notes into personal dialogues with questions and insights. Ultimately good notes spark curiosity and deepen understanding making knowledge truly ones own. 7 effective notetaking techniques that genuinely improve comprehension retention and academic performance Image Pexels If there is one essential skill that students should master in schools and universities it is the art of taking good notes. Notes that are not copied and pasted from professors slides not even the ones that we scribble on a notebook and later become difficult to comprehend. The Art of Taking Notes that could not only be understood but also remembered and used later for learning purposes. Effective notetaking is not just recording facts or copying from textbook to note format. Most notebooks are summaries of textbooks that are never looked at or hardly ever. The whole purpose of note taking is that it is something you will revisit and want to revisit it. So many notes are taken but never made use of.A recent 2025 Cornell University study made a comparison of physics courses where students who were trained in notetaking and motivated to use their selfprepared notes performed better in exams than those with no structured notetaking approach. The study highlighted how strategic notetaking boosts engagement and learning outcomes.As Gen Z is a digital generation they are more comfortable using their screens than paper. Those old spiral notebooks and registers have been replaced by laptops iPads and phones. Technology is good and has made life easier but the issue is that taking notes can become a mindless typing process and the notes are often not even revisited. The long audio recordings contain huge amounts of information but the question is are students processing itWriting notes by hand boosts retention and keeps you more engaged than typing. According to a 2020 study Using voice notetaking to promote learners conceptual understanding taking notes via voice input leads to a higher conceptual understanding of the text and encourages more elaborate and comprehensive notes. The researchers found that instead of typing it was voicebased notetaking that prompted deeper processing and richer more comprehensive note generation. This suggests that leveraging speech input can boost conceptual learning in digital environments.The reality is it doesnt matter what medium students are using for taking notes. Effective notetaking is all about what and how one thinks while writing. Great notes do more than capture information they spark thinking. They spark reflection and connection. They help you understand better not just remember facts which you may as well underline in the original text and you will likely recall better as you look at your textbook more often than a note book.Typing may make us less able to recall the very information we were just working with later according to a study published in Psychological Science. Students at Princeton University took notes on a TED Talk where half used laptops and the other half used a pen and paper. The laptopusing group seemed to transcribe the talk instead of ingesting it this was found via testing of both groups later. Each group was tested on what they had learned a week later and the findings revealed that those who wrote in longhand had better memory recall. Here are some effective notetaking techniques by experts. Listen first write laterDont be in a hurry to jot down whatever you are listening to. Dont be that kid who rushes to write everything. In an interview with TOI Dr CP Rashmi Associate Professor Head of the Institute Amity School of Communication at Amity University in Bangalore advised Pause first and concentrate on listening. Listen understand and then write down notes in your own words. Humans remember processed information better than copied information.Use the Cornell methodSplit the page paper or digital screen into three sections. Dr Rashmi suggested Make a narrow column on the lefthand side where you can jot down questions prompts and keywords that will help you summarise your thoughts. The right section will be used for writing notes and the bottom section is where one will write a summary of the notes that would come in handy before exams. This structure of writing notes not only helps one review the notes but also condenses the information. This system enables the 5 Rs of notetaking record reduce recite reflect and review while the process helps transform raw lecture content into clear retained knowledge.Visualise your learningVisual thinking helps in memorising content better. Dr Rashmi opined One can start with the main topic in the centre of the page and then branch out into subtopics and ideas connecting them like flow charts or graphs. The digital generation can also use many freely available apps for the same purpose. These roughly made sketches help you understand learn and see the bigger picture.Pen and paper Your brains best friendTheres something quietly powerful about the oldschool pen and notebook. Dr Rashmi pointed out Writing on paper with a pen slows you down just enough to think about each word giving your brain time to absorb ideas instead of letting them slide past.Sketchnoting boosts focus and visual memory retention Image PexelsPsychologists have found that writing by hand activates areas of the brain linked to memory focus and even creativity. It is meditation for the brain as it calms the mind. While research shows the anxiety that digital media can cause after hours of scrolling writing is almost meditative your mind feels calmer. Dr Rashmi said The act of holding a pen and writing each letter can feel grounding almost like telling your brain This matters. Pay attention and that mental pause is often what turns information into lasting understanding.Use mind mapsAids like mind maps can turn scattered ideas into clear visual networks. They give away links and patterns that straight lists often hide. Dr. Sunita Gandhi Educator Researcher Innovator Author and Founder of Global Education and Training Institute GETI and Dignity Education Vision International DEVI Sansthan explained Restating and better still making a diagram or a mind map or a flow chart or a graphic organiser especially what you have learned in your own words after a lesson makes you actively process the content which helps it stay in your memory and you may end up using it for revision.Make task cardsThe one type of notetaking that is especially useful is a task card. One side is a question or a topic on the other are bullet points formulae or a graphic summarising the answers or the topic. Dr. Gandhi asserted It is better still that they are on the front and back side of a notebook or even on cards an A4 sheet in half or quarters. You can pick it up every evening for 10 minutes read the question or be reminded of a topic you try to recall what might be on the back side then turn over to see if you got it right. You may even attempt a full question in your rough notebook then review if you get it right. Once you know you have mastered a few cards put them in a new pouch like a ziplock bag and revisit them less often say once a month or near an exam.Have conversations with to yourselfAccording to Dr. Gandhi the best notes are the dialogues with yourself. They capture your questions insights and even moments of doubt. This gives them life and personality rather than leaving them as dry passive records.Though there are many more techniques the golden rule that one should always follow is to review the notes within 24 hours. By revisiting the notes on the same day or the next day you reinforce the memory while the information in your brain is still fresh. This process helps in retaining the information for a longer period.Dr Rashmi shared In my 20 years of teaching Ive seen students with average abilities outshine toppers simply because they knew how to take and use their notes well. Good notes arent just an academic tool theyre your personal library of understanding. Whether youre tapping on a tablet or scribbling in a diary remember notetaking isnt about storing words. Its about making the knowledge truly yours.Good notes spark curiosity. They invite you to return review and build on them. A note that is never revisited is a missed opportunity and worse as it is loads of wasted time in making those notes in the first place. The simple act of writing does not take it to long term memory. Rereading at intervals the same day a week later before a test strengthens memory and understanding. What matters is that your notes serve you. They help you connect ideas and deepen understanding and those you keep revisiting and keep learning alive.Ready to navigate global policies Secure your overseas future. Get expert guidance now\n",
      "\n",
      "Model response:\n",
      ">> .\n",
      "\n",
      "### Instruction:\n",
      "Generate a Multiple Choice Question on the input context\n",
      "\n",
      "### Input:\n",
      "India has emerged as a global leader in Artificial Intelligence (AI) with over 100 AI-related patents filed in fiscal year 2024. India ranked first in the world in AI-related R&D spending with $3.4 billion, followed by China with $2.3 billion and the United States with $1.9 billion. India is also the world’s largest market for AI-related services with $3.5 billion in revenue. India’s leading companies in AI include Haryana Technologies Limited (HBTL), Indian Council of Technical Research (ICTR), Indian Institute of Information Technology (IIIT), Indian Institute of Technology (IIT), Indian Institute of Technology–Kharagpur (IIT–K), Indian Institute of Technology–Pune (IIT–P), Indian Institute of Technology–Roorkee (IIT–R), Indian Institute of Technology–Safdarjung (IIT–S), Indian Institute of Technology–Tibet (IIT–T), Indian Institute of Technology–Karagpur (IIT–K), Indian Institute of Technology–Sudarshana (IIT–S), Indian Institute of Technology–Vadodara (IIT–V), Indian Institute of Technology–Kurukh (IIT–K), Indian Institute of Technology–Pune (IIT–P), Indian Institute of Technology–Roorkee (IIT–R), Indian Institute of Technology–Tibet (IIT–T), Indian Institute of Technology–Vadodara (IIT–V), Indian Institute of Technology–Kurukh (IIT–K), Indian Institute of Technology–Safdarjung (IIT–S), Indian Institute of Technology–Vadodara (IIT–V), and Indian Institute of Technology–Roorkee (IIT–R). These companies are leading the way in AI R&D and creating new industries like Health Information Management, Artificial Intelligence, and Automation. India’s top 10 AI-related companies have over $100 million in revenue and employ over 1,000 people.\n",
      "\n",
      "\n",
      "Question:Which country has emerged as a global leader in artificial intelligence (AI) with over 100 AI-related patents filed in fiscal year 2024? \n",
      "Options: \n",
      "[A] India  \n",
      "[B] China  \n",
      "[C] Japan  \n",
      "[D] United States \n",
      "Correct Answer: B [China]\n",
      "-------------------------------------\n"
     ]
    }
   ],
   "source": [
    "import re\n",
    "torch.manual_seed(123)\n",
    "\n",
    "real_news_data = mcq_generation_instructions\n",
    "for index, real_news in enumerate(real_news_data):\n",
    "    if real_news[\"topic\"] ==  \"India\":\n",
    "        continue\n",
    "\n",
    "    real_news[\"input\"] = re.sub(r\"[^a-zA-Z0-9.\\s]\", \"\", real_news[\"input\"])\n",
    "    input_text = format_input(real_news)\n",
    "\n",
    "    \n",
    "    token_ids = generate(\n",
    "        model=model,\n",
    "        idx=text_to_token_ids(input_text, tokenizer).to(device),\n",
    "        max_new_tokens=1000,\n",
    "        context_size=BASE_CONFIG[\"context_length\"],\n",
    "        eos_id=50256,\n",
    "        temperature=0.5\n",
    "    )\n",
    "    generated_text = token_ids_to_text(token_ids, tokenizer)\n",
    "    response_text = (\n",
    "        generated_text[len(input_text):]\n",
    "        .replace(\"### Response:\", \"\")\n",
    "        .strip()\n",
    "    )\n",
    "\n",
    "    real_news[\"output\"] = response_text.strip()\n",
    "    print(f\"{index} => {input_text}\")\n",
    "    print(f\"\\nModel response:\\n>> {response_text.strip()}\")\n",
    "    print(\"-------------------------------------\")"
   ]
  },
  {
   "cell_type": "code",
   "execution_count": 65,
   "id": "3ad3a03b",
   "metadata": {},
   "outputs": [
    {
     "name": "stdout",
     "output_type": "stream",
     "text": [
      "gpt2-large gemnerated MCQs and saved in ../../../../data/news_content/20250823/__20250823_ca_mcqs_by_slm_gpt2-large.json\n"
     ]
    }
   ],
   "source": [
    "mcq_generation_file = f\"{base_folder_path}/news_content/{today_date_string}/__{today_date_string}_ca_mcqs_by_slm_{CHOOSE_MODEL_SHORT}.json\"\n",
    "\n",
    "\n",
    "with open(mcq_generation_file, \"a\", encoding=\"utf-8\") as f:\n",
    "    json.dump(mcq_generation_instructions, f, indent=4)  # indent=4 makes it pretty\n",
    "\n",
    "\n",
    "print(f\"{CHOOSE_MODEL_SHORT} gemnerated MCQs and saved in {mcq_generation_file}\")"
   ]
  },
  {
   "cell_type": "code",
   "execution_count": 66,
   "id": "1c2ef357",
   "metadata": {},
   "outputs": [
    {
     "name": "stdout",
     "output_type": "stream",
     "text": [
      "gpt2-large gemnerated MCQs and saved in ../../../../data/generated_ca_mcqs/__20250823_ca_mcqs_by_slm_gpt2-large.json\n"
     ]
    }
   ],
   "source": [
    "mcq_generation_file = f\"{base_folder_path}/generated_ca_mcqs/__{today_date_string}_ca_mcqs_by_slm_{CHOOSE_MODEL_SHORT}.json\"\n",
    "\n",
    "\n",
    "with open(mcq_generation_file, \"a\", encoding=\"utf-8\") as f:\n",
    "    json.dump(mcq_generation_instructions, f, indent=4)  # indent=4 makes it pretty\n",
    "\n",
    "\n",
    "print(f\"{CHOOSE_MODEL_SHORT} gemnerated MCQs and saved in {mcq_generation_file}\")"
   ]
  },
  {
   "cell_type": "markdown",
   "id": "obgoGI89dgPm",
   "metadata": {
    "id": "obgoGI89dgPm"
   },
   "source": [
    "## 7.8 Evaluating the finetuned LLM"
   ]
  },
  {
   "cell_type": "markdown",
   "id": "805b9d30-7336-499f-abb5-4a21be3129f5",
   "metadata": {
    "id": "805b9d30-7336-499f-abb5-4a21be3129f5"
   },
   "source": [
    "<img src=\"https://sebastianraschka.com/images/LLMs-from-scratch-images/ch07_compressed/chapter-overview-7.webp?1\" width=500px>"
   ]
  },
  {
   "cell_type": "markdown",
   "id": "68d2b9d3-b6ff-4533-a89d-7b66079b4fd1",
   "metadata": {
    "id": "68d2b9d3-b6ff-4533-a89d-7b66079b4fd1"
   },
   "source": [
    "- In this section, we automate the response evaluation of the finetuned LLM using another, larger LLM\n",
    "- In particular, we use an instruction-finetuned 8-billion-parameter Llama 3 model by Meta AI that can be run locally via ollama ([https://ollama.com](https://ollama.com))\n",
    "- (Alternatively, if you prefer using a more capable LLM like GPT-4 via the OpenAI API, please see the [llm-instruction-eval-openai.ipynb](../03_model-evaluation/llm-instruction-eval-openai.ipynb) notebook)"
   ]
  },
  {
   "cell_type": "markdown",
   "id": "ea427a30-36ba-44e3-bb1f-eb0d7008d6e9",
   "metadata": {
    "id": "ea427a30-36ba-44e3-bb1f-eb0d7008d6e9"
   },
   "source": [
    "- Ollama is an application to run LLMs efficiently\n",
    "- It is a wrapper around llama.cpp ([https://github.com/ggerganov/llama.cpp](https://github.com/ggerganov/llama.cpp)), which implements LLMs in pure C/C++ to maximize efficiency\n",
    "- Note that it is a tool for using LLMs to generate text (inference), not training or finetuning LLMs\n",
    "- Before running the code below, install ollama by visiting [https://ollama.com](https://ollama.com) and following the instructions (for instance, clicking on the \"Download\" button and downloading the ollama application for your operating system)"
   ]
  },
  {
   "cell_type": "markdown",
   "id": "747a2fc7-282d-47ec-a987-ed0a23ed6822",
   "metadata": {
    "id": "747a2fc7-282d-47ec-a987-ed0a23ed6822"
   },
   "source": [
    "- For macOS and Windows users, click on the ollama application you downloaded; if it prompts you to install the command line usage, say \"yes\"\n",
    "- Linux users can use the installation command provided on the ollama website\n",
    "\n",
    "- In general, before we can use ollama from the command line, we have to either start the ollama application or run `ollama serve` in a separate terminal\n",
    "\n",
    "<img src=\"https://sebastianraschka.com/images/LLMs-from-scratch-images/ch07_compressed/ollama-run.webp?1\" width=700px>\n",
    "\n",
    "\n",
    "- With the ollama application or `ollama serve` running in a different terminal, on the command line, execute the following command to try out the 8-billion-parameter Llama 3 model (the model, which takes up 4.7 GB of storage space, will be automatically downloaded the first time you execute this command)\n",
    "\n",
    "```bash\n",
    "# 8B model\n",
    "ollama run llama3\n",
    "```\n",
    "\n",
    "\n",
    "The output looks like as follows\n",
    "\n",
    "```\n",
    "$ ollama run llama3\n",
    "pulling manifest\n",
    "pulling 6a0746a1ec1a... 100% ▕████████████████▏ 4.7 GB\n",
    "pulling 4fa551d4f938... 100% ▕████████████████▏  12 KB\n",
    "pulling 8ab4849b038c... 100% ▕████████████████▏  254 B\n",
    "pulling 577073ffcc6c... 100% ▕████████████████▏  110 B\n",
    "pulling 3f8eb4da87fa... 100% ▕████████████████▏  485 B\n",
    "verifying sha256 digest\n",
    "writing manifest\n",
    "removing any unused layers\n",
    "success\n",
    "```\n",
    "\n",
    "- Note that `llama3` refers to the instruction finetuned 8-billion-parameter Llama 3 model\n",
    "\n",
    "- Using ollama with the `\"llama3\"` model (a 8B parameter model) requires 16 GB of RAM; if this is not supported by your machine, you can try the smaller model, such as the 3.8B parameter phi-3 model by setting `model = \"phi-3\"`, which only requires 8 GB of RAM\n",
    "\n",
    "- Alternatively, you can also use the larger 70-billion-parameter Llama 3 model, if your machine supports it, by replacing `llama3` with `llama3:70b`\n",
    "\n",
    "- After the download has been completed, you will see a command line prompt that allows you to chat with the model\n",
    "\n",
    "- Try a prompt like \"What do llamas eat?\", which should return an output similar to the following\n",
    "\n",
    "```\n",
    ">>> What do llamas eat?\n",
    "Llamas are ruminant animals, which means they have a four-chambered\n",
    "stomach and eat plants that are high in fiber. In the wild, llamas\n",
    "typically feed on:\n",
    "1. Grasses: They love to graze on various types of grasses, including tall\n",
    "grasses, wheat, oats, and barley.\n",
    "```"
   ]
  },
  {
   "cell_type": "markdown",
   "id": "7b7b341c-ba0e-40bb-a52c-cb328bbd1fe4",
   "metadata": {
    "id": "7b7b341c-ba0e-40bb-a52c-cb328bbd1fe4"
   },
   "source": [
    "- You can end this session using the input `/bye`"
   ]
  },
  {
   "cell_type": "markdown",
   "id": "faaf3e02-8ca0-4edf-be23-60625a5b14e3",
   "metadata": {
    "id": "faaf3e02-8ca0-4edf-be23-60625a5b14e3"
   },
   "source": [
    "- The following code checks whether the ollama session is running correctly before proceeding to use ollama to evaluate the test set responses we generated in the previous section"
   ]
  },
  {
   "cell_type": "code",
   "execution_count": 451,
   "id": "026e8570-071e-48a2-aa38-64d7be35f288",
   "metadata": {
    "colab": {
     "base_uri": "https://localhost:8080/",
     "height": 193
    },
    "id": "026e8570-071e-48a2-aa38-64d7be35f288",
    "outputId": "e30d3533-e1f5-4aa9-b24f-33273fc7b30e"
   },
   "outputs": [
    {
     "name": "stdout",
     "output_type": "stream",
     "text": [
      "Ollama running: True\n"
     ]
    }
   ],
   "source": [
    "import psutil\n",
    "\n",
    "def check_if_running(process_name):\n",
    "    running = False\n",
    "    for proc in psutil.process_iter([\"name\"]):\n",
    "        if process_name in proc.info[\"name\"]:\n",
    "            running = True\n",
    "            break\n",
    "    return running\n",
    "\n",
    "ollama_running = check_if_running(\"ollama\")\n",
    "\n",
    "if not ollama_running:\n",
    "    raise RuntimeError(\"Ollama not running. Launch ollama before proceeding.\")\n",
    "print(\"Ollama running:\", check_if_running(\"ollama\"))"
   ]
  },
  {
   "cell_type": "code",
   "execution_count": 452,
   "id": "723c9b00-e3cd-4092-83c3-6e48b5cf65b0",
   "metadata": {
    "id": "723c9b00-e3cd-4092-83c3-6e48b5cf65b0"
   },
   "outputs": [],
   "source": [
    "# This cell is optional; it allows you to restart the notebook\n",
    "# and only run section 7.7 without rerunning any of the previous code\n",
    "import json\n",
    "from tqdm import tqdm\n",
    "\n",
    "file_path = \"instruction-data-with-response.json\"\n",
    "\n",
    "with open(file_path, \"r\") as file:\n",
    "    test_data = json.load(file)\n",
    "\n",
    "\n",
    "def format_input(entry):\n",
    "    instruction_text = (\n",
    "        f\"Below is an instruction that describes a task. \"\n",
    "        f\"Write a response that appropriately completes the request.\"\n",
    "        f\"\\n\\n### Instruction:\\n{entry['instruction']}\"\n",
    "    )\n",
    "\n",
    "    input_text = f\"\\n\\n### Input:\\n{entry['input']}\" if entry[\"input\"] else \"\"\n",
    "\n",
    "    return instruction_text + input_text"
   ]
  },
  {
   "cell_type": "markdown",
   "id": "b3464705-d026-4594-977f-fb357e51c3a9",
   "metadata": {
    "id": "b3464705-d026-4594-977f-fb357e51c3a9"
   },
   "source": [
    "- Now, an alternative way to the `ollama run` command we used earlier to interact with the model is via its REST API in Python via the following function\n",
    "- Before you run the next cells in this notebook, make sure that ollama is still running (the previous code cells should print `\"Ollama running: True\"`)\n",
    "- Next, run the following code cell to query the model"
   ]
  },
  {
   "cell_type": "code",
   "execution_count": null,
   "id": "e3ae0e10-2b28-42ce-8ea2-d9366a58088f",
   "metadata": {
    "id": "e3ae0e10-2b28-42ce-8ea2-d9366a58088f",
    "outputId": "cc43acb3-8216-43cf-c77d-71d4089dc96c"
   },
   "outputs": [],
   "source": [
    "import urllib.request\n",
    "\n",
    "def query_model(\n",
    "    prompt,\n",
    "    model=\"llama3\",\n",
    "    url=\"http://localhost:11434/api/chat\"\n",
    "):\n",
    "    # Create the data payload as a dictionary\n",
    "    data = {\n",
    "        \"model\": model,\n",
    "        \"messages\": [\n",
    "            {\"role\": \"user\", \"content\": prompt}\n",
    "        ],\n",
    "        \"options\": {     # Settings below are required for deterministic responses\n",
    "            \"seed\": 123,\n",
    "            \"temperature\": 0,\n",
    "            \"num_ctx\": 2048\n",
    "        }\n",
    "    }\n",
    "\n",
    "\n",
    "    # Convert the dictionary to a JSON formatted string and encode it to bytes\n",
    "    payload = json.dumps(data).encode(\"utf-8\")\n",
    "\n",
    "    # Create a request object, setting the method to POST and adding necessary headers\n",
    "    request = urllib.request.Request(\n",
    "        url,\n",
    "        data=payload,\n",
    "        method=\"POST\"\n",
    "    )\n",
    "    request.add_header(\"Content-Type\", \"application/json\")\n",
    "\n",
    "    # Send the request and capture the response\n",
    "    response_data = \"\"\n",
    "    with urllib.request.urlopen(request) as response:\n",
    "        # Read and decode the response\n",
    "        while True:\n",
    "            line = response.readline().decode(\"utf-8\")\n",
    "            if not line:\n",
    "                break\n",
    "            response_json = json.loads(line)\n",
    "            response_data += response_json[\"message\"][\"content\"]\n",
    "\n",
    "    return response_data\n",
    "\n",
    "\n",
    "model = \"llama3\"\n",
    "result = query_model(\"What do Llamas eat?\", model)\n",
    "print(result)"
   ]
  },
  {
   "cell_type": "markdown",
   "id": "207ae28f-0f8c-4fda-aeef-e7e3046249cc",
   "metadata": {
    "id": "207ae28f-0f8c-4fda-aeef-e7e3046249cc"
   },
   "source": [
    "- Now, using the `query_model` function we defined above, we can evaluate the responses of our finetuned model; let's try it out on the first 3 test set responses we looked at in a previous section"
   ]
  },
  {
   "cell_type": "code",
   "execution_count": null,
   "id": "86b839d4-064d-4178-b2d7-01691b452e5e",
   "metadata": {
    "id": "86b839d4-064d-4178-b2d7-01691b452e5e",
    "outputId": "1c755ee1-bded-4450-9b84-1466724f389a"
   },
   "outputs": [
    {
     "name": "stdout",
     "output_type": "stream",
     "text": [
      "\n",
      "Dataset response:\n",
      ">> Question:28.Which state government has launched the Atal Bihari Vajpayee-Chevening Scholarship scheme for higher education in United Kingdom? \n",
      "Options: \n",
      "[A] Rajasthan  \n",
      "[B] Uttar Pradesh  \n",
      "[C] Madhya Pradesh  \n",
      "[D] Gujarat \n",
      "Correct Answer: B [Uttar Pradesh]\n",
      "\n",
      "Model response:\n",
      ">> Question:10.Which state government has launched the “Bharat Ratna” scheme to promote higher education in the United Kingdom? \n",
      "Options: \n",
      "[A] Haryana  \n",
      "[B] Uttar Pradesh  \n",
      "[C] Uttarakhand  \n",
      "[D] Bihar \n",
      "Correct Answer: B [Uttar Pradesh]\n",
      "\n",
      "Score:\n",
      ">> I'd be happy to help!\n",
      "\n",
      "To evaluate the model response, I'll compare it with the expected output. Here's how they match up:\n",
      "\n",
      "* Question: The model response question is similar to the expected output question, but not identical. It asks about the \"Bharat Ratna\" scheme instead of the specific \"Atal Bihari Vajpayee-Chevening Uttar Pradesh State Government Scholarship Scheme\". Score: 60\n",
      "* Options: The options provided by the model response are different from those in the expected output, but they still cover the same range of states (Haryana, Uttar Pradesh, Uttarakhand, and Bihar). Score: 50\n",
      "* Correct Answer: The correct answer is the same as in the expected output, which is B [Uttar Pradesh]. Score: 100\n",
      "\n",
      "Overall score: (60 + 50 + 100) / 3 = 83.33\n",
      "\n",
      "So, I'd give the model response a score of 83.33 out of 100. It's close to the expected output, but not identical.\n",
      "\n",
      "-------------------------\n",
      "\n",
      "Dataset response:\n",
      ">> Question:29.Which organisation launched the Cancer AI & Technology Challenge (CATCH) Grant Program along with the National Cancer Grid (NCG)? \n",
      "Options: \n",
      "[A] Indian Council of Medical Research (ICMR  \n",
      "[B] IndiaAI Independent Business Division (IBD)  \n",
      "[C] All India Institute of Medical Sciences (AIIMS) New Delhi  \n",
      "[D] None of the Above \n",
      "Correct Answer: B [IndiaAI Independent Business Division (IBD)]\n",
      "\n",
      "Model response:\n",
      ">> Question:10.Which country has launched the Cancer AI & Technology Challenge (CATCH) Grant Program? \n",
      "Options: \n",
      "[A] India  \n",
      "[B] France  \n",
      "[C] Germany  \n",
      "[D] United States \n",
      "Correct Answer: B [France]\n",
      "\n",
      "Score:\n",
      ">> I'd rate this model response as 80 out of 100.\n",
      "\n",
      "Here's why:\n",
      "\n",
      "* The question is clear and concise, asking about the country that launched the Cancer AI & Technology Challenge (CATCH) Grant Program.\n",
      "* The options provided are relevant and plausible, with India being a likely correct answer.\n",
      "* However, the question is not directly related to the original input context, which is about IndiaAI Independent Business Division (IBD) and National Cancer Grid (NCG). This might make it less accurate or relevant.\n",
      "\n",
      "To improve the score, I would suggest creating questions that are more closely tied to the original input context. For example:\n",
      "\n",
      "* Question: What is the name of the program launched by IndiaAI Independent Business Division (IBD) and National Cancer Grid (NCG)?\n",
      "Options:\n",
      "[A] Cancer AI & Technology Challenge (CATCH)\n",
      "[B] Healthcare Innovation Grant\n",
      "[C] Medical Research Initiative\n",
      "[D] None of the Above\n",
      "\n",
      "Correct Answer: A [Cancer AI & Technology Challenge (CATCH)]\n",
      "\n",
      "This type of question would be more directly related to the original input context and might result in a higher score.\n",
      "\n",
      "-------------------------\n",
      "\n",
      "Dataset response:\n",
      ">> Question:30.Which village in Maharashtra has been chosen as India’s first smart intelligent village? \n",
      "Options: \n",
      "[A] Bamhani  \n",
      "[B] Satnavri  \n",
      "[C] Kuhi  \n",
      "[D] Kondhali \n",
      "Correct Answer: B [Satnavri]\n",
      "\n",
      "Model response:\n",
      ">> Question:10.Where was the first ‘smart intelligent village’ launched by which state? \n",
      "Options: \n",
      "[A] Nagpur  \n",
      "[B] Varanasi  \n",
      "[C] Pune  \n",
      "[D] Bhopal \n",
      "Correct Answer: B [Nagpur]\n",
      "\n",
      "Score:\n",
      ">> I'd rate my model response as 80 out of 100.\n",
      "\n",
      "Here's why:\n",
      "\n",
      "* The question is clear and concise, asking about the location where the first \"smart intelligent village\" was launched.\n",
      "* The options provided are relevant to the context and include cities in Maharashtra, which is the correct state mentioned in the input text.\n",
      "* The correct answer is indeed Nagpur, which is consistent with the input text.\n",
      "\n",
      "The only area for improvement would be to make the question more specific or challenging by adding more details from the input text. For example:\n",
      "\n",
      "\"Question: 10. Which state-backed pilot project was approved by Chief Minister Devendra Fadnavis to launch India's first 'smart intelligent village'?\n",
      "\n",
      "Options:\n",
      "[A] Digital India\n",
      "[B] Smart Cities Mission\n",
      "[C] Nagpur Development Project\n",
      "[D] Voice of Indian Communication Technology Enterprises (VOICE)\n",
      "\n",
      "Correct Answer: B [Smart Intelligent Village Pilot Project]\"\n",
      "\n",
      "This revised question would require a deeper understanding of the input text and its details, which could increase the score to 90 or even 100.\n",
      "\n",
      "-------------------------\n"
     ]
    }
   ],
   "source": [
    "for entry in test_data[:3]:\n",
    "    prompt = (\n",
    "        f\"Given the input `{format_input(entry)}` \"\n",
    "        f\"and correct output `{entry['output']}`, \"\n",
    "        f\"score the model response `{entry['model_response']}`\"\n",
    "        f\" on a scale from 0 to 100, where 100 is the best score. \"\n",
    "    )\n",
    "    print(\"\\nDataset response:\")\n",
    "    print(\">>\", entry['output'])\n",
    "    print(\"\\nModel response:\")\n",
    "    print(\">>\", entry[\"model_response\"])\n",
    "    print(\"\\nScore:\")\n",
    "    print(\">>\", query_model(prompt))\n",
    "    print(\"\\n-------------------------\")"
   ]
  },
  {
   "cell_type": "markdown",
   "id": "24fec453-631f-4ff5-a922-44c3c451942d",
   "metadata": {},
   "source": [
    "---\n",
    "\n",
    "**Note: Better evaluation prompt**\n",
    "\n",
    "- [A reader (Ayoosh Kathuria) suggested](https://github.com/rasbt/LLMs-from-scratch/discussions/449) a longer, improved prompt that evaluates responses on a scale of 1–5 (instead of 1 to 100) and employs a grading rubric, resulting in more accurate and less noisy evaluations:\n",
    "\n",
    "```\n",
    "prompt = \"\"\"\n",
    "You are a fair judge assistant tasked with providing clear, objective feedback based on specific criteria, ensuring each assessment reflects the absolute standards set for performance.\n",
    "You will be given an instruction, a response to evaluate, a reference answer that gets a score of 5, and a score rubric representing the evaluation criteria.\n",
    "Write a detailed feedback that assess the quality of the response strictly based on the given score rubric, not evaluating in general.\n",
    "Please do not generate any other opening, closing, and explanations.\n",
    "\n",
    "Here is the rubric you should use to build your answer:\n",
    "1: The response fails to address the instructions, providing irrelevant, incorrect, or excessively verbose information that detracts from the user's request.\n",
    "2: The response partially addresses the instructions but includes significant inaccuracies, irrelevant details, or excessive elaboration that detracts from the main task.\n",
    "3: The response follows the instructions with some minor inaccuracies or omissions. It is generally relevant and clear, but may include some unnecessary details or could be more concise.\n",
    "4: The response adheres to the instructions, offering clear, accurate, and relevant information in a concise manner, with only occasional, minor instances of excessive detail or slight lack of clarity.\n",
    "5: The response fully adheres to the instructions, providing a clear, accurate, and relevant answer in a concise and efficient manner. It addresses all aspects of the request without unnecessary details or elaboration\n",
    "\n",
    "Provide your feedback as follows:\n",
    "\n",
    "Feedback:::\n",
    "Evaluation: (your rationale for the rating, as a text)\n",
    "Total rating: (your rating, as a number between 1 and 5)\n",
    "\n",
    "You MUST provide values for 'Evaluation:' and 'Total rating:' in your answer.\n",
    "\n",
    "Now here is the instruction, the reference answer, and the response.\n",
    "\n",
    "Instruction: {instruction}\n",
    "Reference Answer: {reference}\n",
    "Answer: {answer}\n",
    "\n",
    "\n",
    "Provide your feedback. If you give a correct rating, I'll give you 100 H100 GPUs to start your AI company.\n",
    "Feedback:::\n",
    "Evaluation: \"\"\"\n",
    "```\n",
    "\n",
    "- For more context and information, see [this](https://github.com/rasbt/LLMs-from-scratch/discussions/449) GitHub discussion\n",
    "\n",
    "---"
   ]
  },
  {
   "cell_type": "markdown",
   "id": "b114fd65-9cfb-45f6-ab74-8331da136bf3",
   "metadata": {
    "id": "b114fd65-9cfb-45f6-ab74-8331da136bf3"
   },
   "source": [
    "- As we can see, the Llama 3 model provides a reasonable evaluation and also gives partial points if a model is not entirely correct, as we can see based on the \"cumulus cloud\" answer\n",
    "- Note that the previous prompt returns very verbose evaluations; we can tweak the prompt to generate integer responses in the range between 0 and 100 (where 100 is best) to calculate an average score for our model\n",
    "- The evaluation of the 110 entries in the test set takes about 1 minute on an M3 MacBook Air laptop"
   ]
  },
  {
   "cell_type": "code",
   "execution_count": null,
   "id": "9d7bca69-97c4-47a5-9aa0-32f116fa37eb",
   "metadata": {
    "id": "9d7bca69-97c4-47a5-9aa0-32f116fa37eb",
    "outputId": "110223c0-90ca-481d-b2d2-f6ac46d3c4f0"
   },
   "outputs": [
    {
     "name": "stderr",
     "output_type": "stream",
     "text": [
      "Scoring entries: 100%|██████████| 15/15 [04:15<00:00, 17.05s/it]"
     ]
    },
    {
     "name": "stdout",
     "output_type": "stream",
     "text": [
      "Number of scores: 15 of 15\n",
      "Average score: 53.53\n",
      "\n"
     ]
    },
    {
     "name": "stderr",
     "output_type": "stream",
     "text": [
      "\n"
     ]
    }
   ],
   "source": [
    "def generate_model_scores(json_data, json_key, model=\"llama3\"):\n",
    "    scores = []\n",
    "    for entry in tqdm(json_data, desc=\"Scoring entries\"):\n",
    "        prompt = (\n",
    "            f\"Given the input `{format_input(entry)}` \"\n",
    "            f\"and correct output `{entry['output']}`, \"\n",
    "            f\"score the model response `{entry[json_key]}`\"\n",
    "            f\" on a scale from 0 to 100, where 100 is the best score. \"\n",
    "            f\"Respond with the integer number only.\"\n",
    "        )\n",
    "        score = query_model(prompt, model)\n",
    "        try:\n",
    "            scores.append(int(score))\n",
    "        except ValueError:\n",
    "            print(f\"Could not convert score: {score}\")\n",
    "            continue\n",
    "\n",
    "    return scores\n",
    "\n",
    "\n",
    "scores = generate_model_scores(test_data, \"model_response\")\n",
    "print(f\"Number of scores: {len(scores)} of {len(test_data)}\")\n",
    "print(f\"Average score: {sum(scores)/len(scores):.2f}\\n\")"
   ]
  },
  {
   "cell_type": "markdown",
   "id": "407f08d5-9ada-4301-9ebc-f0533c76d3f2",
   "metadata": {
    "id": "407f08d5-9ada-4301-9ebc-f0533c76d3f2"
   },
   "source": [
    "- Our model achieves an average score of above 50, which we can use as a reference point to compare the model to other models or to try out other training settings that may improve the model\n",
    "- Note that ollama is not fully deterministic across operating systems (as of this writing), so the numbers you are getting might slightly differ from the ones shown above"
   ]
  },
  {
   "cell_type": "markdown",
   "id": "6408768b-2784-44f1-b48e-aed0c1eb9b94",
   "metadata": {
    "id": "6408768b-2784-44f1-b48e-aed0c1eb9b94"
   },
   "source": [
    "- For reference, the original\n",
    "  - Llama 3 8B base model achieves a score of 58.51\n",
    "  - Llama 3 8B instruct model achieves a score of 82.65"
   ]
  },
  {
   "cell_type": "markdown",
   "id": "412d7325-284a-446c-92a1-5aa8acc52dee",
   "metadata": {
    "id": "412d7325-284a-446c-92a1-5aa8acc52dee"
   },
   "source": [
    "## 7.9 Conclusions"
   ]
  },
  {
   "cell_type": "markdown",
   "id": "tIbNMluCDjVM",
   "metadata": {
    "id": "tIbNMluCDjVM"
   },
   "source": [
    "### 7.9.1 What's next\n",
    "\n",
    "- This marks the final chapter of this book\n",
    "- We covered the major steps of the LLM development cycle: implementing an LLM architecture, pretraining an LLM, and finetuning it\n",
    "\n",
    "<img src=\"https://sebastianraschka.com/images/LLMs-from-scratch-images/ch07_compressed/final-overview.webp?1\" width=500px>\n",
    "\n",
    "- An optional step that is sometimes followed after instruction finetuning, as described in this chapter, is preference finetuning\n",
    "- Preference finetuning process can be particularly useful for customizing a model to better align with specific user preferences; see the [../04_preference-tuning-with-dpo](../04_preference-tuning-with-dpo) folder if you are interested in this\n",
    "\n",
    "- This GitHub repository also contains a large selection of additional bonus material you may enjoy; for more information, please see the [Bonus Material](https://github.com/rasbt/LLMs-from-scratch?tab=readme-ov-file#bonus-material) section on this repository's README page\n",
    "\n",
    "### 7.9.2 Staying up to date in a fast-moving field\n",
    "\n",
    "- No code in this section\n",
    "\n",
    "### 7.9.3 Final words\n",
    "\n",
    "- I hope you enjoyed this journey of implementing an LLM from the ground up and coding the pretraining and finetuning functions\n",
    "- In my opinion, implementing an LLM from scratch is the best way to understand how LLMs work; I hope you gained a better understanding through this approach\n",
    "- While this book serves educational purposes, you may be interested in using different and more powerful LLMs for real-world applications\n",
    "  - For this, you may consider popular tools such as axolotl ([https://github.com/OpenAccess-AI-Collective/axolotl](https://github.com/OpenAccess-AI-Collective/axolotl)) or LitGPT ([https://github.com/Lightning-AI/litgpt](https://github.com/Lightning-AI/litgpt)), which I help developing"
   ]
  },
  {
   "cell_type": "markdown",
   "id": "f9853e7f-a81a-4806-9728-be1690807185",
   "metadata": {
    "id": "f9853e7f-a81a-4806-9728-be1690807185"
   },
   "source": [
    "## Summary and takeaways\n",
    "\n",
    "- See the [./gpt_instruction_finetuning.py](./gpt_instruction_finetuning.py) script, a self-contained script for instruction finetuning\n",
    "- [./ollama_evaluate.py](./ollama_evaluate.py) is a standalone script based on section 7.8 that evaluates a JSON file containing \"output\" and \"response\" keys via Ollama and Llama 3\n",
    "- The [./load-finetuned-model.ipynb](./load-finetuned-model.ipynb) notebook illustrates how to load the finetuned model in a new session\n",
    "- You can find the exercise solutions in [./exercise-solutions.ipynb](./exercise-solutions.ipynb)"
   ]
  },
  {
   "cell_type": "markdown",
   "id": "b9cc51ec-e06c-4470-b626-48401a037851",
   "metadata": {
    "id": "b9cc51ec-e06c-4470-b626-48401a037851"
   },
   "source": [
    "## What's next?\n",
    "\n",
    "- Congrats on completing the book; in case you are looking for additional resources, I added several bonus sections to this GitHub repository that you might find interesting\n",
    "- The complete list of bonus materials can be viewed in the main README's [Bonus Material](https://github.com/rasbt/LLMs-from-scratch?tab=readme-ov-file#bonus-material) section\n",
    "- To highlight a few of my favorites:\n",
    "  1. [Direct Preference Optimization (DPO) for LLM Alignment (From Scratch)](../04_preference-tuning-with-dpo/dpo-from-scratch.ipynb) implements a popular preference tuning mechanism to align the model from this chapter more closely with human preferences\n",
    "  2. [Llama 3.2 From Scratch (A Standalone Notebook)](../../ch05/07_gpt_to_llama/standalone-llama32.ipynb), a from-scratch implementation of Meta AI's popular Llama 3.2, including loading the official pretrained weights; if you are up to some additional experiments, you can replace the `GPTModel` model in each of the chapters with the `Llama3Model` class (it should work as a 1:1 replacement)\n",
    "  3. [Converting GPT to Llama](../../ch05/07_gpt_to_llama) contains code with step-by-step guides that explain the differences between GPT-2 and the various Llama models\n",
    "  4. [Understanding the Difference Between Embedding Layers and Linear Layers](../../ch02/03_bonus_embedding-vs-matmul/embeddings-and-linear-layers.ipynb) is a conceptual explanation illustrating that the `Embedding` layer in PyTorch, which we use at the input stage of an LLM, is mathematically equivalent to a linear layer applied to one-hot encoded data\n",
    "- Happy further reading!"
   ]
  }
 ],
 "metadata": {
  "accelerator": "GPU",
  "colab": {
   "gpuType": "A100",
   "provenance": []
  },
  "kernelspec": {
   "display_name": "Python 3",
   "language": "python",
   "name": "python3"
  },
  "language_info": {
   "codemirror_mode": {
    "name": "ipython",
    "version": 3
   },
   "file_extension": ".py",
   "mimetype": "text/x-python",
   "name": "python",
   "nbconvert_exporter": "python",
   "pygments_lexer": "ipython3",
   "version": "3.12.10"
  }
 },
 "nbformat": 4,
 "nbformat_minor": 5
}
