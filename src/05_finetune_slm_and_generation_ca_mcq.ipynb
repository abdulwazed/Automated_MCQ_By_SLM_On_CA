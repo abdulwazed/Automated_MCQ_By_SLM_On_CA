{
 "cells": [
  {
   "cell_type": "markdown",
   "id": "aef2555b",
   "metadata": {},
   "source": [
    "# SLM Finetuning on given instructions for MCQ generation on current affairs\n",
    "- For SLM train/finetuning this [https://github.com/rasbt/LLMs-from-scratch](https://github.com/rasbt/LLMs-from-scratch) codebase has been used as baseliine\n",
    "\n",
    "- Cstomised scripts/files for finetuning gpt2 based SLM: \n",
    "    - [SLM_from_scratch\\ch07\\01_main-chapter-code\\ch07.ipynb](SLM_from_scratch\\ch07\\01_main-chapter-code\\ch07.ipynb)\n",
    "    - [SLM_from_scratch\\ch07\\01_main-chapter-code\\instruction-data.json](SLM_from_scratch\\ch07\\01_main-chapter-code\\instruction-data.json)\n"
   ]
  }
 ],
 "metadata": {
  "language_info": {
   "name": "python"
  }
 },
 "nbformat": 4,
 "nbformat_minor": 5
}
